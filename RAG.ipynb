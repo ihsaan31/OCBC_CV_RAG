{
 "cells": [
  {
   "cell_type": "code",
   "execution_count": 1,
   "metadata": {},
   "outputs": [
    {
     "name": "stderr",
     "output_type": "stream",
     "text": [
      "USER_AGENT environment variable not set, consider setting it to identify your requests.\n",
      "c:\\Users\\san\\miniconda3\\envs\\new_env\\lib\\site-packages\\pinecone\\data\\index.py:1: TqdmWarning: IProgress not found. Please update jupyter and ipywidgets. See https://ipywidgets.readthedocs.io/en/stable/user_install.html\n",
      "  from tqdm.autonotebook import tqdm\n"
     ]
    },
    {
     "data": {
      "text/plain": [
       "True"
      ]
     },
     "execution_count": 1,
     "metadata": {},
     "output_type": "execute_result"
    }
   ],
   "source": [
    "from langchain import hub\n",
    "from langchain_chroma import Chroma\n",
    "from langchain_community.document_loaders import WebBaseLoader\n",
    "from langchain_core.output_parsers import StrOutputParser\n",
    "from langchain_core.runnables import RunnablePassthrough\n",
    "from langchain_openai import OpenAIEmbeddings\n",
    "from langchain_text_splitters import RecursiveCharacterTextSplitter, CharacterTextSplitter,TokenTextSplitter\n",
    "from langchain_community.document_loaders import PyPDFLoader\n",
    "from langchain_openai import AzureChatOpenAI, AzureOpenAIEmbeddings\n",
    "import os\n",
    "from pinecone import Pinecone, ServerlessSpec\n",
    "from langchain_pinecone import PineconeVectorStore\n",
    "from langchain_core.prompts import PromptTemplate\n",
    "from templates.prompt import QA_PROMPT\n",
    "from uuid import uuid4\n",
    "from dotenv import load_dotenv\n",
    "load_dotenv()"
   ]
  },
  {
   "cell_type": "code",
   "execution_count": 2,
   "metadata": {},
   "outputs": [],
   "source": [
    "AZURE_OPENAI_ENDPOINT = os.getenv('AZURE_OPENAI_ENDPOINT')\n",
    "AZURE_OPENAI_DEPLOYMENT_ID = os.getenv('AZURE_OPENAI_DEPLOYMENT_ID')\n",
    "AZURE_OPENAI_KEY = os.getenv('AZURE_OPENAI_KEY')\n",
    "AZURE_API_VERSION = os.getenv('AZURE_API_VERSION')\n",
    "PINECONE_API_KEY = os.getenv('PINECONE_API_KEY')\n",
    "pc = Pinecone(api_key=PINECONE_API_KEY)"
   ]
  },
  {
   "cell_type": "code",
   "execution_count": 3,
   "metadata": {},
   "outputs": [],
   "source": [
    "llm = AzureChatOpenAI(\n",
    "            azure_endpoint=AZURE_OPENAI_ENDPOINT,\n",
    "            azure_deployment=AZURE_OPENAI_DEPLOYMENT_ID,\n",
    "            api_version=AZURE_API_VERSION,\n",
    "            api_key=AZURE_OPENAI_KEY,\n",
    "            temperature=0.0,\n",
    "            verbose=True,\n",
    "        )\n",
    "\n",
    "embedding_llm = AzureOpenAIEmbeddings(\n",
    "            azure_endpoint=AZURE_OPENAI_ENDPOINT,\n",
    "            azure_deployment='embedding-ada-crayon',\n",
    "            api_key=AZURE_OPENAI_KEY,\n",
    "            api_version=AZURE_API_VERSION,\n",
    "        )"
   ]
  },
  {
   "cell_type": "code",
   "execution_count": 4,
   "metadata": {},
   "outputs": [],
   "source": [
    "index_name = \"ocbc-cv-gpt\"  # change if desired\n",
    "index = pc.Index(index_name)"
   ]
  },
  {
   "cell_type": "code",
   "execution_count": 5,
   "metadata": {},
   "outputs": [],
   "source": [
    "# pc = Pinecone(api_key=PINECONE_API_KEY)\n",
    "# text_splitter = RecursiveCharacterTextSplitter(chunk_size=1000, chunk_overlap=200)\n",
    "# splits = text_splitter.split_documents(pages)\n",
    "vector_store = PineconeVectorStore(index=index, embedding=embedding_llm)\n",
    "# vector_store.add_documents(documents=splits)"
   ]
  },
  {
   "cell_type": "code",
   "execution_count": 7,
   "metadata": {},
   "outputs": [],
   "source": [
    "cv = \"\"\" here is my cv :IHSAN FATHYA\n",
    " 081283576216 | ihsanfathya@gmail.com | https://www.linkedin.com/in/ihsan-fathya/ | https://github.com/ihsaan31\n",
    " Bogor, Jawa Barat\n",
    " I'm an 8th-semester student with a genuine passion for technology, specifically in machine learning and Data Science. Drawing from a \n",
    "solid background in computer science and programming, I've developed a keen interest in utilizing Python to address complex problems \n",
    "and create innovative solutions.\n",
    " Work Experiences\n",
    " OCBC Indonesia -  Bsd, Tangerang Jun 2024 - Present\n",
    " Data Scientist Intern\n",
    " Oversea-Chinese Banking Corporation Limited (OCBC) is a Singaporean multinational banking and financial services corporation that \n",
    "provides a range of services to individuals, businesses, government agencies, and financial institutions.\n",
    " AI Compliance Chat Bot\n",
    " Developed a robust AI-powered compliance chatbot that integrates the regulatory frameworks of OJK, BI, and Sikepo. Leveraged \n",
    "LangChain to design and implement custom AI chains tailored for various tasks, including question routing, contextualization, and \n",
    "the generation of combined responses from multiple sources.\n",
    " Designed custom prompts and templates to optimize the performance of the AI models. These include templates for contextualizing \n",
    "questions, generating system responses, and creating combined answers by synthesizing data from multiple regulatory bodies.\n",
    " Implemented retrieval systems using various index managers (ElasticSearch, Redis) and graph databases (Neo4j) to fetch and \n",
    "merge relevant information, optimizing the accuracy of AI responses.\n",
    " FastAPI Development and API Integration\n",
    " Designed and implemented a RESTful API using FastAPI, enabling efficient communication between the front-end and backend \n",
    "services.\n",
    " Implemented real-time data streaming using 'StreamingResponse', allowing continuous delivery from LangChain.\n",
    " BMKG | Badan Meteorologi, Klimatologi, dan Geofisika -  \n",
    "Jakarta Pusat\n",
    " Oct 2023 - Dec 2023\n",
    " Artificial Intelligence Intern\n",
    " BMKG, based in Jakarta Pusat, is a key governmental organization in Indonesia. It plays a crucial role by providing essential information \n",
    "in meteorology, climatology, and geophysics. BMKG's services are integral to various sectors, including agriculture, transportation, \n",
    "disaster management, and public safety.\n",
    " Model Monitoring Dashboard\n",
    " Created a comprehensive web monitoring dashboard using Dash Plotly to evaluate and visualize model performance metrics \n",
    "effectively.\n",
    " Developed a separate monitoring dashboard utilizing Looker Studio, enhancing accessibility and usability.\n",
    " AI Modeling\n",
    " Applied Python extensively for AI modeling, including the conversion of an existing R model to Python resulting 10% improvment in \n",
    "accuracy.\n",
    " Developed and implemented a model for refining Numerical Weather Prediction using various machine learning algorithms, \n",
    "including Scikit-Learn and TensorFlow achieving 77% accuracy.\n",
    " PFI mega life -  Jakarta Selatan Feb 2023 - Jun 2023\n",
    " Data Analyst Intern\n",
    " PT PFI Mega Life Insurance is a joint venture with a new structure that combines the global expertise of Prudential Financial Inc. with the \n",
    "local market network strength of CT Corpora. PFI Mega Life provides a complete range of life insurance products to serve customers with \n",
    "a wide range, from large corporations to individuals.\n",
    " Leads Segmentation\n",
    " Integrated sentiment analysis and demographic results into leads segmentation, providing a nuanced understanding of leads \n",
    "engagement.\n",
    " Implemented K-means clustering algorithm for leads segmentation into distinct clusters.\n",
    " Sentiment Analysis\n",
    " Conducted sentiment analysis on a dataset of 6,000 Activity Content from CRM posts using Python and various libraries, including  \n",
    "NLTK, Sastrawi, pandas, numpy, matplotlib, and seaborn.\n",
    " Utilized the pre-trained Indonesia BERT model for sentiment analysis, resulting in a 10% increase in accuracy compared to \n",
    "traditional methods.\n",
    " Applied the model to categorize Activity Content into positive, neutral, or negative sentiments.\n",
    " Scrape LinkedIn Profile\n",
    " Executed a web scraping initiative using Beautiful Soup and Selenium in Python, successfully extracting over 14,000 leads from \n",
    "LinkedIn and search engine results, exceeding the initial target by 30%.\n",
    " Successfully navigated through LinkedIn profiles to capture demographic details, encompassing education information, current job \n",
    "roles, and past experience.\n",
    " Executed data extraction techniques to compile an Excel output file, streamlining the analysis of acquired leads.\n",
    " Education Level\n",
    " Universitas Gunadarma - Depok, Jawa Barat Aug 2020 - Sep 2024 (Expected)\n",
    " Bachelor Degree in Informatics Engineering, 3.41/4.00\n",
    " Skills, Achievements & Other Experience\n",
    " Certification (2021): Machine Learning  (Dicoding)\n",
    " Certification (2022): EF SET English Certificate 78/100 (C2 Proficient)\n",
    " Certification (2023): AI-900 - Microsoft Azure AI Fundamentals\n",
    " Certification (2023): Codecademy Data Scientist: Analytics Specialist Career Path\n",
    " Certification (2023): Codecademy Data Scientist: Inference Specialist Career Path\n",
    " Certification (2024): Codecademy Data Scientist: Machine Learning Specialist Career Pat\"\"\""
   ]
  },
  {
   "cell_type": "code",
   "execution_count": 8,
   "metadata": {},
   "outputs": [
    {
     "data": {
      "text/plain": [
       "'\\nYou are an AI job recomender. Based on the user\\'s preferences, qualifications, and experience, evaluate the following job posting.\\n\\n1. Mention what jobs on the current listing\\n2. Compare the user\\'s CV/resume to the job listing, highlighting the key areas of alignment and any gaps.\\n3. Assess whether the job is a match for the user\\'s skills and experience. If the job matches, explain why. If it does not match, clearly state: \"Does not match.\"\\n\\nCV/Resume: \\n{cv}\\n\\nJob Listing: \\n{job_listing}\\n\\n'"
      ]
     },
     "execution_count": 8,
     "metadata": {},
     "output_type": "execute_result"
    }
   ],
   "source": [
    "QA_PROMPT"
   ]
  },
  {
   "cell_type": "code",
   "execution_count": 10,
   "metadata": {},
   "outputs": [
    {
     "data": {
      "text/plain": [
       "'Based on the provided user CV and retrieved job postings, here is the assessment of the relevance of the job postings to the user\\'s profile:\\n\\n**Job Posting 1: Software Engineer**\\n- Keyword Matching: The job title \"Software Engineer\" matches the user\\'s skills and experience in programming and software development.\\n- Experience Level: The job posting does not specify a minimum experience level, so it could be suitable for both experienced professionals and fresh graduates.\\n- Location Preferences: The job posting does not mention a specific location, so it could be suitable for the user\\'s location preference in Bogor, Jawa Barat.\\n- Industry Alignment: The job posting is in the technology industry, which aligns with the user\\'s passion for technology and background in computer science.\\n- Additional Preferences: The job posting does not provide information about company size, job type, or salary expectations.\\n\\nAssessment: This job posting is highly relevant to the user\\'s profile and preferences.\\n\\n**Job Posting 2: Lifestyle Strategic Merchant Acquisition**\\n- Keyword Matching: The job title \"Lifestyle Strategic Merchant Acquisition\" does not directly match the user\\'s skills and experience in machine learning and data science.\\n- Experience Level: The job posting does not specify a minimum experience level, so it could be suitable for both experienced professionals and fresh graduates.\\n- Location Preferences: The job posting does not mention a specific location, so it could be suitable for the user\\'s location preference in Bogor, Jawa Barat.\\n- Industry Alignment: The job posting is in the banking industry, which is not directly aligned with the user\\'s background in technology and data science.\\n- Additional Preferences: The job posting does not provide information about company size, job type, or salary expectations.\\n\\nAssessment: This job posting is less relevant to the user\\'s profile and preferences compared to the first job posting.\\n\\nBased on the assessment, the first job posting for a Software Engineer is the most relevant to the user\\'s profile and preferences.'"
      ]
     },
     "execution_count": 10,
     "metadata": {},
     "output_type": "execute_result"
    },
    {
     "ename": "",
     "evalue": "",
     "output_type": "error",
     "traceback": [
      "\u001b[1;31mThe Kernel crashed while executing code in the current cell or a previous cell. \n",
      "\u001b[1;31mPlease review the code in the cell(s) to identify a possible cause of the failure. \n",
      "\u001b[1;31mClick <a href='https://aka.ms/vscodeJupyterKernelCrash'>here</a> for more info. \n",
      "\u001b[1;31mView Jupyter <a href='command:jupyter.viewOutput'>log</a> for further details."
     ]
    }
   ],
   "source": [
    "retriever = vector_store.as_retriever()\n",
    "prompt = PromptTemplate.from_template(QA_PROMPT)\n",
    "\n",
    "\n",
    "def format_docs(docs):\n",
    "    return \"\\n\\n\".join(doc.page_content for doc in docs)\n",
    "\n",
    "\n",
    "rag_chain = (\n",
    "    {\"context\": retriever | format_docs, \"question\": RunnablePassthrough()}\n",
    "    | prompt\n",
    "    | llm\n",
    "    | StrOutputParser()\n",
    ")\n",
    "\n",
    "rag_chain.invoke(cv)"
   ]
  },
  {
   "cell_type": "code",
   "execution_count": 10,
   "metadata": {},
   "outputs": [
    {
     "data": {
      "text/plain": [
       "[Document(metadata={'source': 'C:\\\\Users\\\\san\\\\Documents\\\\Documents\\\\OCBC\\\\Github_ocbc_workspace\\\\OCBC_CV_RAG\\\\job_pdf\\\\JD ON_Software_Engineer 1.docx'}, page_content='aporkan baik oleh user, PO maupun yang ditemukan internal squad.\\n\\nMemastikan data dan dokumentasi terkait proses development, testing dan release dibuat dan disimpan secara memadai.\\n\\nMemastikan telah dilaksanakannya segregation of duties dengan tepat dalam proses development, testing dan release.\\n\\nKEWENANGAN\\n\\nSesuai dengan Kewenangan yang dimandatkan berdasarkan Kebijakan/Prosedur Bank, SK/SE Direksi, Surat Kuasa Direksi atau Memo Internal yang berlaku.\\n\\nKUALIFIKASI JABATAN :\\n\\nPendidikan Formal Minimum S1 Teknik Informatika/Sistem Informasi/Teknik Elektro (atau lebih rendah dengan pengalaman) Pengalaman Kerja minimum 1 tahun di bidang IT Programming/Developer atau Fresh Graduate Kompetensi & Budaya Organisasi Competency: Leading courageously Adaptability Building talent Fostering collaboration Risk awareness Customer experience Strategic thinking Core Values: Bring out the best in each other !ntegrity Strive for excellence Act progressively\\n\\nNama Divisi/Tanggal terakhir diperbaharui : Hal 1 dari 1'),\n",
       " Document(metadata={'source': 'C:\\\\Users\\\\san\\\\Documents\\\\Documents\\\\OCBC\\\\Github_ocbc_workspace\\\\OCBC_CV_RAG\\\\job_pdf\\\\Lifestyle Portfolio Credit Card Specialist.docx'}, page_content='aktu dan sesuai ketentuan yang berlaku.\\n\\nBerkoordinasi dengan unit-unit terkait (Operation, Risk, IT, BPM, ADM, dll) dalam memberikan usulan-usulan pengembangan program/inisiatif baru dan proses baru untuk menjaga performance nasabah, dengan melakukan identifikasi atas kendala kendala yang terjadi di lapangan.\\n\\nRequirements: \\n\\nMinimum S1 dari berbagai jurusan\\n\\nMemiliki latar belakang pekerjaan di bidang Portfolio, Risk atau Data Analysis min 3 tahun\\n\\nMemiliki analytical thinking yang baik dan resilient\\n\\nKomunikasi skill yang baik dalam berkoordinasi dengan tim dan diluar tim\\n\\nNama Divisi/Tgl terkahir diperbaharui: Customer Solutions Retail Loan Division/23 Maret 2021 Hal 1 dari 1'),\n",
       " Document(metadata={'source': 'C:\\\\Users\\\\san\\\\Documents\\\\Documents\\\\OCBC\\\\Github_ocbc_workspace\\\\OCBC_CV_RAG\\\\job_pdf\\\\Lifestyle Credit Management Specialist.docx'}, page_content=' melakukan review berkala di sertai dengan rencana kerja yang terarah dan terukur untuk memaksimalkan potensi penggunaan di merchant.\\n\\n7. Berkoordinasi dengan tim Manajemen Risiko mengenai pengendalian risiko Merchant Acquiring Business\\n\\n8. Memastikan kelengkapan kerja sama/Confirmation letter dan koordinasi dengan unit terkait sudah di jalankan dengan baik agar performa yang di harapkan dapat lebih optimal\\n\\n9. Memitigasi potensi keluhan nasabah dengan cara memastikan semua komunikasi yang di berikan jelas dan sudah mencakup semua aspek kebutuhan nasabah  \\n\\nKUALIFIKASI JABATAN :\\n\\nMin. S1 dari berbagai jurusan\\n\\nMin 3-4 tahun pengalaman diindustri perbankan\\n\\nMemiliki pengetahuan, pengalaman dan pemahaman yang baik di Bisnis Acquiring kartu kredit dan KTA\\n\\nMemiliki skill komunikasi dan presentasi yang baik\\n\\nMampu berkolaborasi dengan team yang terlibat\\n\\nMemiliki pengetahuan yang baik mengenai budgeting, proses dan kebijakan kredit, system implementasi.'),\n",
       " Document(metadata={'source': 'C:\\\\Users\\\\san\\\\Documents\\\\Documents\\\\OCBC\\\\Github_ocbc_workspace\\\\OCBC_CV_RAG\\\\job_pdf\\\\JD ON_Software_Engineer 1.docx'}, page_content='Job Description\\n\\nDATA JABATAN :\\n\\nJOB ID OPS540, OPS489, OPS536,OPS519,OPS526 NAMA JABATAN Software Engineer GRUP Operations & Technology REPORT TO POSITION Platform Lead Engineer FUNGSI UTAMA Menjalankan proses development, testing dan release sistem teknologi informasi sesuai dengan pedoman Agile Devops untuk memberikan value bisnis, serta memastikan kualitas deliverables secara konsisten dilaksanakan dengan penuh tanggungjawab\\n\\nTANGGUNG JAWAB/ TUGAS POKOK PEKERJAAN\\n\\nMemastikan penggunaan framework yang telah ditetapkan dalam pelaksanaan project dengan tetap mengacu pada Peraturan OJK sebagai landasan utama.\\n\\nMelaksanakan swakelola dan bekerja lintas fungsi dalam menyelesaikan pekerjaan sesuai backlog yang telah ditentukan.\\n\\nMenghasilkan produk bernilai lebih melalui proses development, testing, dan release yang memadai.\\n\\nBersama-sama membangun lingkaran kepercayaan dan keamanan/kenyamanan tim developer, dan memastikan bahwa masalah dapat diangkat tanpa takut disalahkan atau dibebankan ataupun dihakimi, dengan penekanan pada perbaikan proses dan penyelesaian masalah.\\n\\nMengutamakan diskusi dan kolaborasi dalam, pengambilan keputusan, resolusi konflik dan menyelesaikan pekerjaan tanpa paksaan ataupun penugasan ataupun didikte.\\n\\nMembantu komunikasi internal dan eksternal, meningkatkan transparansi, dan mengkomunikasikan informasi.\\n\\nSecara efektif dan efisien menerapkan pillar, values, event dan artifact yang tel')]"
      ]
     },
     "execution_count": 10,
     "metadata": {},
     "output_type": "execute_result"
    },
    {
     "name": "stderr",
     "output_type": "stream",
     "text": [
      "Failed to batch ingest runs: LangSmithRateLimitError('Rate limit exceeded for https://api.smith.langchain.com/runs/batch. HTTPError(\\'429 Client Error: Too Many Requests for url: https://api.smith.langchain.com/runs/batch\\', \\'{\"detail\":\"Monthly unique traces usage limit exceeded\"}\\')')\n",
      "Failed to batch ingest runs: LangSmithRateLimitError('Rate limit exceeded for https://api.smith.langchain.com/runs/batch. HTTPError(\\'429 Client Error: Too Many Requests for url: https://api.smith.langchain.com/runs/batch\\', \\'{\"detail\":\"Monthly unique traces usage limit exceeded\"}\\')')\n"
     ]
    }
   ],
   "source": [
    "retriever.invoke(cv)"
   ]
  },
  {
   "cell_type": "code",
   "execution_count": null,
   "metadata": {},
   "outputs": [],
   "source": []
  }
 ],
 "metadata": {
  "kernelspec": {
   "display_name": "new_env",
   "language": "python",
   "name": "python3"
  },
  "language_info": {
   "codemirror_mode": {
    "name": "ipython",
    "version": 3
   },
   "file_extension": ".py",
   "mimetype": "text/x-python",
   "name": "python",
   "nbconvert_exporter": "python",
   "pygments_lexer": "ipython3",
   "version": "3.9.19"
  }
 },
 "nbformat": 4,
 "nbformat_minor": 2
}
