{
 "cells": [
  {
   "cell_type": "code",
   "execution_count": 9,
   "metadata": {},
   "outputs": [
    {
     "data": {
      "text/plain": [
       "True"
      ]
     },
     "execution_count": 9,
     "metadata": {},
     "output_type": "execute_result"
    }
   ],
   "source": [
    "from langchain import hub\n",
    "from langchain_chroma import Chroma\n",
    "from langchain_community.document_loaders import WebBaseLoader\n",
    "from langchain_core.output_parsers import StrOutputParser\n",
    "from langchain_core.runnables import RunnablePassthrough\n",
    "from langchain_openai import OpenAIEmbeddings\n",
    "from langchain_text_splitters import RecursiveCharacterTextSplitter, CharacterTextSplitter,TokenTextSplitter\n",
    "from langchain_community.document_loaders import PyPDFLoader\n",
    "from langchain_openai import AzureChatOpenAI, AzureOpenAIEmbeddings\n",
    "import os\n",
    "from pinecone import Pinecone, ServerlessSpec\n",
    "from langchain_pinecone import PineconeVectorStore\n",
    "from uuid import uuid4\n",
    "from dotenv import load_dotenv\n",
    "load_dotenv()"
   ]
  },
  {
   "cell_type": "code",
   "execution_count": 2,
   "metadata": {},
   "outputs": [],
   "source": [
    "AZURE_OPENAI_ENDPOINT = os.getenv('AZURE_OPENAI_ENDPOINT')\n",
    "AZURE_OPENAI_DEPLOYMENT_ID = os.getenv('AZURE_OPENAI_DEPLOYMENT_ID')\n",
    "AZURE_OPENAI_KEY = os.getenv('AZURE_OPENAI_KEY')\n",
    "AZURE_API_VERSION = os.getenv('AZURE_API_VERSION')\n",
    "PINECONE_API_KEY = os.getenv('PINECONE_API_KEY')\n",
    "pc = Pinecone(api_key=PINECONE_API_KEY)"
   ]
  },
  {
   "cell_type": "code",
   "execution_count": 3,
   "metadata": {},
   "outputs": [],
   "source": [
    "llm = AzureChatOpenAI(\n",
    "            azure_endpoint=AZURE_OPENAI_ENDPOINT,\n",
    "            azure_deployment=AZURE_OPENAI_DEPLOYMENT_ID,\n",
    "            api_version=AZURE_API_VERSION,\n",
    "            api_key=AZURE_OPENAI_KEY,\n",
    "            temperature=0.0,\n",
    "            verbose=True,\n",
    "        )\n",
    "\n",
    "embedding_llm = AzureOpenAIEmbeddings(\n",
    "            azure_endpoint=AZURE_OPENAI_ENDPOINT,\n",
    "            azure_deployment='embedding-ada-crayon',\n",
    "            api_key=AZURE_OPENAI_KEY,\n",
    "            api_version=AZURE_API_VERSION,\n",
    "        )"
   ]
  },
  {
   "cell_type": "code",
   "execution_count": 4,
   "metadata": {},
   "outputs": [],
   "source": [
    "index_name = \"ocbc-hr-gpt\"  # change if desired\n",
    "index = pc.Index(index_name)"
   ]
  },
  {
   "cell_type": "code",
   "execution_count": 5,
   "metadata": {},
   "outputs": [],
   "source": [
    "loader = PyPDFLoader(r\"c:\\Users\\san\\Downloads\\Dummy - CB Policy.pdf\")\n",
    "pages = loader.load_and_split()"
   ]
  },
  {
   "cell_type": "code",
   "execution_count": 13,
   "metadata": {},
   "outputs": [],
   "source": [
    "pc = Pinecone(api_key=PINECONE_API_KEY)\n",
    "text_splitter = TokenTextSplitter(chunk_size=1000, chunk_overlap=200)\n",
    "splits = text_splitter.split_documents(pages)"
   ]
  },
  {
   "cell_type": "code",
   "execution_count": 14,
   "metadata": {},
   "outputs": [
    {
     "data": {
      "text/plain": [
       "[Document(metadata={'source': 'c:\\\\Users\\\\san\\\\Downloads\\\\Dummy - CB Policy.pdf', 'page': 0}, page_content='1 \\n \\nOCBC Information Classification: Internal   \\n \\n \\n \\n \\n \\n \\n \\n \\nCompensation & Benefits \\nPolicy  \\nPT CRAYON SHINCHAN  \\n \\nPolicy Effective Date: < 07/08/24> \\n \\n \\n \\n \\n \\n \\nNo part of this documentation may be reproduced or transmitted in any form or by any means, electronic \\nor mechanical, including photocopying or recording, for any purpose without express written permission \\nof the CEO of PT CRAYON  SHINCHAN.  \\n \\n© 2021, <Company Name Here>. All Rights Reserved'),\n",
       " Document(metadata={'source': 'c:\\\\Users\\\\san\\\\Downloads\\\\Dummy - CB Policy.pdf', 'page': 1}, page_content='2 \\n \\nOCBC Information Classification: Internal   \\nRevision History  \\n  \\nVer \\nNo. Change \\nDescription  Prepared \\nBy Reviewed By  Approved \\nBy Date  \\n      \\n  \\n  \\n \\n \\n \\n \\n \\n \\n \\n \\n \\n \\n \\n \\n \\n \\n \\n \\n \\n \\n \\n \\n \\n \\n \\n \\n \\n \\n \\n \\n \\n \\nTABLE OF CONTENTS  \\n \\n \\n \\n \\n \\n \\nObjective  4'),\n",
       " Document(metadata={'source': 'c:\\\\Users\\\\san\\\\Downloads\\\\Dummy - CB Policy.pdf', 'page': 2}, page_content='3 \\n \\nOCBC Information Classification: Internal  Scope & Applicability  4 \\nDefinition & Glossary  4 \\nPolicy / Process  Error! Bookmark not def ined.  \\n4.1 Policy Definition:  Error! Bookmark not defined.  \\n4.2. Procedures  Error! Bookmark not defined.  \\n4.3. Responsibility – HR department / Finance department  Error! Bookmark not \\ndefined.  \\nNon-compliance and consequences  1 \\nSpecial Circumstances and Exceptions  Error! Bookmark not defined.'),\n",
       " Document(metadata={'source': 'c:\\\\Users\\\\san\\\\Downloads\\\\Dummy - CB Policy.pdf', 'page': 3}, page_content='4 \\n \\nOCBC Information Classification: Internal   \\n1. Objective  \\n \\nThe objective of the Compensation and Benefits Policy (The Policy) is aimed \\ntowards building a strong framework of pay structure for the organization to \\ncreate a  competitive work environment for its employees.  \\nThe policy aims  to be transparent about  compensation plans and \\ncommunicate the same to its employees.  \\n \\n2. Scope & Applicability  \\n \\nThe P olicy defines the principles upon which the organisation\\'s Compensation \\nand Benefits (C&B) structure has been formulated. It also serves as a strong \\nbase for referring to the structure and elements of compensation for \\nemployees and the HR department alike.  \\nThe Compensation and Benefits policy applies  to all employees working with \\nthe organization.  \\n \\n3. Definition & Glossary  \\n \\nTerm \\n/Abbreviation  Definition / Expansion  \\nEoSB  End of Service Benefits  \\nGCC  Gulf Cooperating Countries  \\nGPSSA  General Pension Social Security Authority  \\n \\n4. Policy / Process  \\n \\n4.1 Policy Definition  \\n \\nThe Policy defines the overall C&B structure for employees and the principles \\nupon which it is based. The policy document aims to act as a guide and \\nreferral document to the respective stakeholders.  \\nThe basic principles on which the Policy is designed are as follows:  \\nEqual Pay for Equal Work  \\n \\nThe Policy defines a pay structure based on \"Equal pay for equal work\" \\nprinciples, meaning that employees should be compensated commensurate \\nwith their skills and experience.  \\nNon–Discrimination  \\n \\nThe organisation does not believe in discrimination amongst and within its \\norganisation based on caste, creed, color, religion, nationality, gender and'),\n",
       " Document(metadata={'source': 'c:\\\\Users\\\\san\\\\Downloads\\\\Dummy - CB Policy.pdf', 'page': 4}, page_content='5 \\n \\nOCBC Information Classification: Internal  pays equally to all its employees as per the designated job roles of the \\nemployees within the organisati on.  \\n \\nTransparency  \\n \\nThe organisation believes in the principle of transparency, i.e. the employees \\nof the organisation are rewarded and compensated as per the respective job \\nroles and performance within the organisation.  \\n \\n4.2. Procedures  \\n \\nThe procedure of  formulation of C&B policy is explained via the different \\ncomponents of C&B. The policy document aims to share with the respective \\nstakeholders the description and various components of compensation in \\nterms of Fixed and Variable features.  \\nFixed Component s \\n \\nThe following are the Fixed components of compensation of the organisation:  \\n● Basic Salary  \\n● Housing Allowance  \\nThe total of Basic Salary and Housing Allowance is the Gross salary.  \\n● The Basic Salary is 50% of the Gross salary.  \\nAllowances  \\n \\nAny other additi onal benefits, i.e. Car Allowance + Fuel Allowance (depending \\nupon the hierarchy within the organisation and job responsibilities)  \\nThe following are the Variable Benefits of the compensation Structure  \\n● Overtime (depending upon the hierarchy within the organ isation)  \\n● Incentives and /or Bonus (depending upon the hierarchy within the \\norganisation and job within the organisation)  \\n Mandatory Benefits  \\n \\nThe following are the components of Mandatory Benefits that are extended to \\nemployees.  \\n● Visa and Employment processing fee  – The visa fee of employees \\nshall be borne by the organisation. However, the visa for immediate \\nfamily members  shall have to be borne by employees themselves. If \\nany requests for assistance in providing family visa is made by \\nemployees, then the organisation shall assist employees. However, the \\namount for family visa shall have to be paid to the organisation as per  \\nthe mutual understanding and agreement between the organisation \\nand employees.  \\n● 30 days Paid Leave i.e. Annual Leave : Depends upon the tenure of \\nemployment within the organisation and successful completion of the \\nprobation period.'),\n",
       " Document(metadata={'source': 'c:\\\\Users\\\\san\\\\Downloads\\\\Dummy - CB Policy.pdf', 'page': 5}, page_content='6 \\n \\nOCBC Information Classification: Internal  ● Medical Health Insuranc e of employees  Medical Health Insurance of \\nthe immediate dependents shall have to be undertaken by respective \\nemployees. If any requests for assistance in providing medical health \\ninsurance for immediate family members are made by employees, then \\nthe organ isation shall assist them. However, the amount for medical \\nhealth insurance for close family members shall have to be paid to the \\norganisation as per the mutual understanding and agreement between \\nthe organisation and employees.  \\n● End of Service Benefits (E SB) like Gratuity and pending leave salary at \\nthe end of service, i.e. applicable if either the employee leaves the \\norganisation or if the employee service contract is terminated by the \\norganisation. To receive the EoSB, employees must have completed at \\nleast one year of service with the organisation.  \\n● Pension scheme - Emirati nationals and GCC nationals are enrolled in \\nthe Pension scheme with GPSSA.  \\nVariable Benefits:  Descriptions – Eligibility - Calculations:  \\nIncentives and/or Bonus  \\n \\nThe Incentive and /or Bonus is extended to employees once the organisation \\nachieves its profitability targets and/or is extended on the occasions of \\nfestivals.  \\n● Employees become eligible for the same upon completing one year of \\nservice with the organisation.  \\n● The Incentive a nd/or Bonus are shared on an annual basis.  \\n● The Incentive and Bonus are decided and disbursed based on \\ncompany and individual employee performance.  \\n● The Incentives and Bonus disbursement is at the discretion of \\nmanagement and/or the board of directors.  \\nOvertime  \\n \\nOvertime is given to employees in the event employees devote extra hours to \\nduty or work on a holiday.  \\n● Overtime is extended to employees depending upon the job hierarchy \\nwithin the organisation.  \\n● The organisation may extend the compensatory off in stead of overtime, \\ni.e. employees shall be granted leave in return for working on a holiday \\nand/or extra hours.  \\n● Overtime is calculated on the Basic salary plus 25% of that pay.  \\n● Overtime could increase to 50% if the overtime is done between 10 pm \\nand 4 am.  \\nMandatory Benefits: Descriptions, Eligibility & Calculations:  \\n \\nVisa and Employment processing fee'),\n",
       " Document(metadata={'source': 'c:\\\\Users\\\\san\\\\Downloads\\\\Dummy - CB Policy.pdf', 'page': 6}, page_content=\"7 \\n \\nOCBC Information Classification: Internal  ● It refers to the costs related to visa and labour contracts submission in \\nthe labour department.  \\n● The process of visa issuance and formulation of the service agreement \\nis initiated as per the date of joining of employees.  \\n \\nMedical Health Insurance for empl oyees  \\n \\n● It refers to the health insurance of employees, the cost of which \\nis borne by the organisation.  \\n● Employees working under fixed -time employee service contracts \\nare eligible for the same.  \\n● The Medical Health Insurance of employees is offered until the \\nend of employment service contract with the organisation.  \\n \\n30 days Paid Leave, i.e. Annual Leave  \\n \\n● The same is extended upon completion of one year of service \\nwith the organisation.  \\n● The same is  equivalent to a one -month salary of an employee.  \\nMaternity  Leave  \\n \\n● Maternity leave is given to female em ployee s who are going to \\ngive labor.  \\n● Maximum mate rnity leave period is 3 months.  \\n \\n \\nEnd of Service Benefits (ESB)  \\n \\n● The same is extended to employees if they decide to leave the \\norganisation or are terminated by the organisation. ESB  refers to \\ngratuity or any paid leave salary that has not  been paid by the \\norganisation.  \\n● In the event employees serve the organisation for more than 1 \\nyear and less than 5 years, the full gratuity pay would amount to \\n21 days' salary for every year of service.  \\n● If employees serve the organisation for longer than 5  years, the \\ngratuity will amount to 30 days' salary for each year worked over \\nthe 5 -year threshold.  \\n● The total gratuity payment, regardless of the type of employment \\ncontract, will  not exceed the amount of the employee's 2 years' \\nsalary . \\n \\nPension and GPSSA\"),\n",
       " Document(metadata={'source': 'c:\\\\Users\\\\san\\\\Downloads\\\\Dummy - CB Policy.pdf', 'page': 7}, page_content='8 \\n \\nOCBC Information Classification: Internal  ● Pensions are extended to Emirati nationals in the UAE. All \\nEmirati and GCC nationals are enrolled with the GPSSA. The \\ncalculation of employee and employer contributions is different \\nin the government and private sectors. In the government \\nsector, the em ployee and employer contribution to Pension is as \\nfollows:  \\n● Government sector : Employer Contribution: 15% of basic \\nmonthly salary, social allowance of a national, allowance for \\nchildren, allowance for the cost of living, and allowance for \\naccommodation. Employee Contribution: 5% of basic monthly \\nsalary, social allowance of a national, allowance for children, \\nallowance for cost of living, and allowance for accommodation  \\n● Private sector  - Employer Contribution: 12.5% of the \\ncontractual salary stipulated in the employment contract, \\nincluding basic salary and allowances (to be paid regularly and \\nmonthly).Employee Contribution: 5% of the contractual salary \\nstipulated in the employment contract, including basic salary and \\nallowances (to be paid on a regular and monthly basis). \\nGovernment Contribution: 2.5% contractual salary stipulated in \\nthe employment contract, including basic salary and allowances \\n(to be paid on a regular and monthly basis).  \\n● The minimum base amount for calculating GPSSA is 1,000 \\nAED.  \\n● The maximum base amount for calculating GPSSA is 50,000 \\nAED.  \\n● The salary for the month of January each year is the basis of the \\nsocial contribution calculation for the remaining months (i.e. \\nFebruary to December).  \\nPensions  \\n \\n● An Emirati becomes eligibl e for pensions if the employee completes 20 \\nyears of service and is at least 50 years of age.  \\n● The amount of pension increases by 2 per cent for every year the \\nemployee works after 20 years of service until the employee completes \\n35 years of service.  \\n● When employee/s completes 35 years of service, the respective \\nemployee qualifies to get a pension equal to his salary.  \\n● When an employee exceeds 35 years of service, then he shall get a \\npension equal to salary of three months for each year.  \\n● Pension for GC C Nationals: A GCC citizen who works in another GCC \\ncountry has the right to enjoy a pension in the same ways as he/she \\nwould enjoy if working in his/her own home country. He/she is eligible \\nto receive a pension as per the respective law of his/her country . \\n4.3 Responsibility – HR department / Finance department  \\n \\n● The Manager HR shall keep the records of the employees at the time \\nof joining and/or whose employment service has been terminated.'),\n",
       " Document(metadata={'source': 'c:\\\\Users\\\\san\\\\Downloads\\\\Dummy - CB Policy.pdf', 'page': 8}, page_content=\"9 \\n \\nOCBC Information Classification: Internal  ● For finalisation of ESB , the Manager HR and Manager Finance sha ll \\nhave to be in constant communication regarding the details of \\nemployees leaving the organisation or whose employment service \\ncontract is being terminated by the organisation.  \\n● For finalisation on visa processing initiation and employment process, \\nthe Ma nager HR and the Manager Finance shall have to be in constant \\ncommunication to discuss the expenses related to the same.  \\n● The Manager HR should keep records of the employees eligible for \\nsocial contributions.  \\n● The Manager HR should keep records of the empl oyees of GCC \\nnationals.  \\n● Payments to GPSSA should be processed through organisation's \\ncorresponding bank or exchange houses  \\n● Database of requisite employees should be reviewed on a monthly and \\nannual basis to ensure that no eligible employee is missed out on  \\npayments.  \\n● The Manager Finance should budget and manage the funds for the \\nrelease of employees' benefits.  \\n \\n5. Non-compliance and consequences  \\n \\nThe organisation shall take necessary disciplinary actions in terms of non -\\ncompliance by the requisite parties involved in collecting the records of \\nemployees' Compensation and Benefits. The Disciplinary action includes \\ndemotion, reprimand, suspension or t ermination, and detraction of benefits for \\na definite or indefinite time. An investigation committee shall be formulated for \\nan unbiased investigation of the complaint submitted for non -compliance to \\nthe Compensation and Benefits Policy.  \\n \\n6. Special Circumst ances and Exceptions  \\n \\nIn the event the requisite HR Manager and/or Manager Finance is unable to \\nformulate the data and/or any employees contribution failed to be made on a \\nmonthly basis and/or the contribution is missed out due to software and/or \\ntechnical  challenges in the bank system, then no necessary disciplinary action \\nshall be undertaken against the particular HR employee and/or Manager \\nFinance.\"),\n",
       " Document(metadata={'source': 'c:\\\\Users\\\\san\\\\Downloads\\\\Dummy - CB Policy.pdf', 'page': 9}, page_content='10 \\n \\nOCBC Information Classification: Internal   \\n \\n \\n \\n \\n \\n \\n \\n \\n \\n \\n \\n \\n \\nANNEXURE A'),\n",
       " Document(metadata={'source': 'c:\\\\Users\\\\san\\\\Downloads\\\\Dummy - CB Policy.pdf', 'page': 10}, page_content='11 \\n \\nOCBC Information Classification: Internal   \\n \\n \\n \\n \\nThis template is brought to you by  \\n \\n \\n \\n \\n \\n \\n \\n \\n \\n \\nwww.greythr.com/middle -east/')]"
      ]
     },
     "execution_count": 14,
     "metadata": {},
     "output_type": "execute_result"
    }
   ],
   "source": [
    "splits"
   ]
  },
  {
   "cell_type": "code",
   "execution_count": 42,
   "metadata": {},
   "outputs": [
    {
     "data": {
      "text/plain": [
       "['69d8ab8c-cad2-4544-8b5b-2354f0a8daf1',\n",
       " 'd1215168-88ea-4d52-bb10-d452289cb95c',\n",
       " '95a7d87b-0a33-4083-acf8-c88385ca26e9',\n",
       " 'dba68d81-2c0e-4c3f-b7c3-04e7e302f1e1',\n",
       " 'f78c0f00-2400-420f-83ee-cd07fbf2cb5c',\n",
       " '6635ba5b-2944-4863-8c24-1ace90594c06',\n",
       " 'a4df0f04-8222-4aa5-829d-3823d58eef64',\n",
       " '999e5651-e0c6-4f55-95f9-6cbb7be246bf',\n",
       " '879c2b20-2fc0-40c3-bbb4-614478b152f4',\n",
       " '2f8a1314-d7b9-4ede-96e9-9bd38157b302',\n",
       " 'c6247b2a-d7f2-4873-9566-bda85f9f7996',\n",
       " '9185ea85-4bef-4e51-a25d-b17737e8c51e',\n",
       " 'e944747b-715f-4dd5-b9cb-ed8cd0bbce03',\n",
       " 'd777420f-430c-4b44-aed5-a7ff872c7649',\n",
       " '54528cc8-917d-4de7-9ae1-0d21e3f07f4e',\n",
       " 'addee4d2-5aaf-40c9-9ed7-e5f460736fb6',\n",
       " '4b34959f-b380-4914-883a-003a8dfa15d0',\n",
       " '8b1aebe6-8b36-41da-b6c4-20826a8d5cb6',\n",
       " '666d54c1-811e-46d7-a37c-fcfe66fab5bf',\n",
       " '207b85c4-5339-4418-8458-2662c7516cfa',\n",
       " '792c2740-2a78-4874-81f0-547e4ebbd614',\n",
       " '4bdb6459-2897-4632-9be0-c1cfb7a102ba']"
      ]
     },
     "execution_count": 42,
     "metadata": {},
     "output_type": "execute_result"
    }
   ],
   "source": [
    "pc = Pinecone(api_key=PINECONE_API_KEY)\n",
    "text_splitter = RecursiveCharacterTextSplitter(chunk_size=1000, chunk_overlap=200)\n",
    "splits = text_splitter.split_documents(pages)\n",
    "vector_store = PineconeVectorStore(index=index, embedding=embedding_llm)\n",
    "vector_store.add_documents(documents=splits)"
   ]
  },
  {
   "cell_type": "code",
   "execution_count": 43,
   "metadata": {},
   "outputs": [
    {
     "data": {
      "text/plain": [
       "'The Definition & Glossary section provides definitions and expansions for various terms and abbreviations used within the organization. It includes definitions for terms such as EoSB (End of Service Benefits), GCC (Gulf Cooperating Countries), and GPSSA (General Pension Social Security Authority).'"
      ]
     },
     "execution_count": 43,
     "metadata": {},
     "output_type": "execute_result"
    }
   ],
   "source": [
    "retriever = vector_store.as_retriever()\n",
    "prompt = hub.pull(\"rlm/rag-prompt\")\n",
    "\n",
    "\n",
    "def format_docs(docs):\n",
    "    return \"\\n\\n\".join(doc.page_content for doc in docs)\n",
    "\n",
    "\n",
    "rag_chain = (\n",
    "    {\"context\": retriever | format_docs, \"question\": RunnablePassthrough()}\n",
    "    | prompt\n",
    "    | llm\n",
    "    | StrOutputParser()\n",
    ")\n",
    "\n",
    "rag_chain.invoke(\"What is Definition & Glossary?\")"
   ]
  },
  {
   "cell_type": "code",
   "execution_count": 44,
   "metadata": {},
   "outputs": [
    {
     "data": {
      "text/plain": [
       "[Document(metadata={'page': 2.0, 'source': 'c:\\\\Users\\\\san\\\\Downloads\\\\Dummy - CB Policy.pdf'}, page_content='3 \\n \\nOCBC Information Classification: Internal  Scope & Applicability  4 \\nDefinition & Glossary  4 \\nPolicy / Process  Error! Bookmark not def ined.  \\n4.1 Policy Definition:  Error! Bookmark not defined.  \\n4.2. Procedures  Error! Bookmark not defined.  \\n4.3. Responsibility – HR department / Finance department  Error! Bookmark not \\ndefined.  \\nNon-compliance and consequences  1 \\nSpecial Circumstances and Exceptions  Error! Bookmark not defined.'),\n",
       " Document(metadata={'page': 3.0, 'source': 'c:\\\\Users\\\\san\\\\Downloads\\\\Dummy - CB Policy.pdf'}, page_content=\"4 \\n \\nOCBC Information Classification: Internal   \\n1. Objective  \\n \\nThe objective of the Compensation and Benefits Policy (The Policy) is aimed \\ntowards building a strong framework of pay structure for the organization to \\ncreate a  competitive work environment for its employees.  \\nThe policy aims  to be transparent about  compensation plans and \\ncommunicate the same to its employees.  \\n \\n2. Scope & Applicability  \\n \\nThe P olicy defines the principles upon which the organisation's Compensation \\nand Benefits (C&B) structure has been formulated. It also serves as a strong \\nbase for referring to the structure and elements of compensation for \\nemployees and the HR department alike.  \\nThe Compensation and Benefits policy applies  to all employees working with \\nthe organization.  \\n \\n3. Definition & Glossary  \\n \\nTerm \\n/Abbreviation  Definition / Expansion  \\nEoSB  End of Service Benefits  \\nGCC  Gulf Cooperating Countries  \\nGPSSA  General Pension Social Security Authority\"),\n",
       " Document(metadata={'page': 3.0, 'source': 'c:\\\\Users\\\\san\\\\Downloads\\\\Dummy - CB Policy.pdf'}, page_content='3. Definition & Glossary  \\n \\nTerm \\n/Abbreviation  Definition / Expansion  \\nEoSB  End of Service Benefits  \\nGCC  Gulf Cooperating Countries  \\nGPSSA  General Pension Social Security Authority  \\n \\n4. Policy / Process  \\n \\n4.1 Policy Definition  \\n \\nThe Policy defines the overall C&B structure for employees and the principles \\nupon which it is based. The policy document aims to act as a guide and \\nreferral document to the respective stakeholders.  \\nThe basic principles on which the Policy is designed are as follows:  \\nEqual Pay for Equal Work  \\n \\nThe Policy defines a pay structure based on \"Equal pay for equal work\" \\nprinciples, meaning that employees should be compensated commensurate \\nwith their skills and experience.  \\nNon–Discrimination  \\n \\nThe organisation does not believe in discrimination amongst and within its \\norganisation based on caste, creed, color, religion, nationality, gender and'),\n",
       " Document(metadata={'page': 1.0, 'source': 'c:\\\\Users\\\\san\\\\Downloads\\\\Dummy - CB Policy.pdf'}, page_content='2 \\n \\nOCBC Information Classification: Internal   \\nRevision History  \\n  \\nVer \\nNo. Change \\nDescription  Prepared \\nBy Reviewed By  Approved \\nBy Date  \\n      \\n  \\n  \\n \\n \\n \\n \\n \\n \\n \\n \\n \\n \\n \\n \\n \\n \\n \\n \\n \\n \\n \\n \\n \\n \\n \\n \\n \\n \\n \\n \\n \\n \\nTABLE OF CONTENTS  \\n \\n \\n \\n \\n \\n \\nObjective  4')]"
      ]
     },
     "execution_count": 44,
     "metadata": {},
     "output_type": "execute_result"
    }
   ],
   "source": [
    "retriever.invoke(\"What is Scope & Applicability ?\")"
   ]
  }
 ],
 "metadata": {
  "kernelspec": {
   "display_name": "new_env",
   "language": "python",
   "name": "python3"
  },
  "language_info": {
   "codemirror_mode": {
    "name": "ipython",
    "version": 3
   },
   "file_extension": ".py",
   "mimetype": "text/x-python",
   "name": "python",
   "nbconvert_exporter": "python",
   "pygments_lexer": "ipython3",
   "version": "3.9.19"
  }
 },
 "nbformat": 4,
 "nbformat_minor": 2
}
