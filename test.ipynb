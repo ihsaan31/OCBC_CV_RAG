{
 "cells": [
  {
   "cell_type": "code",
   "execution_count": 15,
   "metadata": {},
   "outputs": [
    {
     "data": {
      "text/plain": [
       "True"
      ]
     },
     "execution_count": 15,
     "metadata": {},
     "output_type": "execute_result"
    }
   ],
   "source": [
    "from langchain import hub\n",
    "from langchain_chroma import Chroma\n",
    "from langchain_community.document_loaders import WebBaseLoader\n",
    "from langchain_core.output_parsers import StrOutputParser\n",
    "from langchain_core.runnables import RunnablePassthrough\n",
    "from langchain_openai import OpenAIEmbeddings\n",
    "from langchain_text_splitters import RecursiveCharacterTextSplitter\n",
    "from langchain_community.document_loaders import PyPDFLoader\n",
    "from langchain_openai import AzureChatOpenAI, AzureOpenAIEmbeddings\n",
    "import os\n",
    "from pinecone import Pinecone, ServerlessSpec\n",
    "from langchain_pinecone import PineconeVectorStore\n",
    "from uuid import uuid4\n",
    "from dotenv import load_dotenv\n",
    "from langchain.chains import create_history_aware_retriever, create_retrieval_chain\n",
    "from langchain.chains.combine_documents import create_stuff_documents_chain\n",
    "from langchain_chroma import Chroma\n",
    "from langchain_community.chat_message_histories import ChatMessageHistory\n",
    "from langchain_community.document_loaders import WebBaseLoader\n",
    "from langchain_core.chat_history import BaseChatMessageHistory\n",
    "from langchain_core.prompts import ChatPromptTemplate, MessagesPlaceholder\n",
    "from langchain_core.runnables.history import RunnableWithMessageHistory\n",
    "from langchain_openai import ChatOpenAI, OpenAIEmbeddings\n",
    "from langchain_text_splitters import RecursiveCharacterTextSplitter\n",
    "load_dotenv()"
   ]
  },
  {
   "cell_type": "code",
   "execution_count": 2,
   "metadata": {},
   "outputs": [],
   "source": [
    "AZURE_OPENAI_ENDPOINT = os.getenv('AZURE_OPENAI_ENDPOINT')\n",
    "AZURE_OPENAI_DEPLOYMENT_ID = os.getenv('AZURE_OPENAI_DEPLOYMENT_ID')\n",
    "AZURE_OPENAI_KEY = os.getenv('AZURE_OPENAI_KEY')\n",
    "AZURE_API_VERSION = os.getenv('AZURE_API_VERSION')\n",
    "PINECONE_API_KEY = os.getenv('PINECONE_API_KEY')\n",
    "pc = Pinecone(api_key=PINECONE_API_KEY)"
   ]
  },
  {
   "cell_type": "code",
   "execution_count": 3,
   "metadata": {},
   "outputs": [],
   "source": [
    "index_name = \"ocbc-hr-gpt\"  # change if desired\n",
    "\n",
    "index = pc.Index(index_name)"
   ]
  },
  {
   "cell_type": "code",
   "execution_count": 4,
   "metadata": {},
   "outputs": [],
   "source": [
    "llm = AzureChatOpenAI(\n",
    "            azure_endpoint=AZURE_OPENAI_ENDPOINT,\n",
    "            azure_deployment=AZURE_OPENAI_DEPLOYMENT_ID,\n",
    "            api_version=AZURE_API_VERSION,\n",
    "            api_key=AZURE_OPENAI_KEY,\n",
    "            temperature=0.0,\n",
    "            verbose=True,\n",
    "        )\n",
    "\n",
    "embedding_llm = AzureOpenAIEmbeddings(\n",
    "            azure_endpoint=AZURE_OPENAI_ENDPOINT,\n",
    "            azure_deployment='embedding-ada-crayon',\n",
    "            api_key=AZURE_OPENAI_KEY,\n",
    "            api_version=AZURE_API_VERSION,\n",
    "        )"
   ]
  },
  {
   "cell_type": "code",
   "execution_count": 5,
   "metadata": {},
   "outputs": [],
   "source": [
    "vector_store = PineconeVectorStore(index=index, embedding=embedding_llm)\n",
    "retriever = vector_store.as_retriever()"
   ]
  },
  {
   "cell_type": "code",
   "execution_count": 20,
   "metadata": {},
   "outputs": [
    {
     "data": {
      "text/plain": [
       "[Document(metadata={'page': 7.0, 'source': 'c:\\\\Users\\\\san\\\\Downloads\\\\Dummy - CB Policy.pdf'}, page_content='to receive a pension as per the respective law of his/her country . \\n4.3 Responsibility – HR department / Finance department  \\n \\n● The Manager HR shall keep the records of the employees at the time \\nof joining and/or whose employment service has been terminated.'),\n",
       " Document(metadata={'page': 8.0, 'source': 'c:\\\\Users\\\\san\\\\Downloads\\\\Dummy - CB Policy.pdf'}, page_content=\"9 \\n \\nOCBC Information Classification: Internal  ● For finalisation of ESB , the Manager HR and Manager Finance sha ll \\nhave to be in constant communication regarding the details of \\nemployees leaving the organisation or whose employment service \\ncontract is being terminated by the organisation.  \\n● For finalisation on visa processing initiation and employment process, \\nthe Ma nager HR and the Manager Finance shall have to be in constant \\ncommunication to discuss the expenses related to the same.  \\n● The Manager HR should keep records of the employees eligible for \\nsocial contributions.  \\n● The Manager HR should keep records of the empl oyees of GCC \\nnationals.  \\n● Payments to GPSSA should be processed through organisation's \\ncorresponding bank or exchange houses  \\n● Database of requisite employees should be reviewed on a monthly and \\nannual basis to ensure that no eligible employee is missed out on  \\npayments.  \\n● The Manager Finance should budget and manage the funds for the\"),\n",
       " Document(metadata={'page': 8.0, 'source': 'c:\\\\Users\\\\san\\\\Downloads\\\\Dummy - CB Policy.pdf'}, page_content='6. Special Circumst ances and Exceptions  \\n \\nIn the event the requisite HR Manager and/or Manager Finance is unable to \\nformulate the data and/or any employees contribution failed to be made on a \\nmonthly basis and/or the contribution is missed out due to software and/or \\ntechnical  challenges in the bank system, then no necessary disciplinary action \\nshall be undertaken against the particular HR employee and/or Manager \\nFinance.'),\n",
       " Document(metadata={'page': 5.0, 'source': 'c:\\\\Users\\\\san\\\\Downloads\\\\Dummy - CB Policy.pdf'}, page_content='management and/or the board of directors.  \\nOvertime  \\n \\nOvertime is given to employees in the event employees devote extra hours to \\nduty or work on a holiday.  \\n● Overtime is extended to employees depending upon the job hierarchy \\nwithin the organisation.  \\n● The organisation may extend the compensatory off in stead of overtime, \\ni.e. employees shall be granted leave in return for working on a holiday \\nand/or extra hours.  \\n● Overtime is calculated on the Basic salary plus 25% of that pay.  \\n● Overtime could increase to 50% if the overtime is done between 10 pm \\nand 4 am.  \\nMandatory Benefits: Descriptions, Eligibility & Calculations:  \\n \\nVisa and Employment processing fee')]"
      ]
     },
     "execution_count": 20,
     "metadata": {},
     "output_type": "execute_result"
    },
    {
     "name": "stderr",
     "output_type": "stream",
     "text": [
      "Failed to batch ingest runs: LangSmithRateLimitError('Rate limit exceeded for https://api.smith.langchain.com/runs/batch. HTTPError(\\'429 Client Error: Too Many Requests for url: https://api.smith.langchain.com/runs/batch\\', \\'{\"detail\":\"Monthly unique traces usage limit exceeded\"}\\')')\n",
      "Failed to batch ingest runs: LangSmithRateLimitError('Rate limit exceeded for https://api.smith.langchain.com/runs/batch. HTTPError(\\'429 Client Error: Too Many Requests for url: https://api.smith.langchain.com/runs/batch\\', \\'{\"detail\":\"Monthly unique traces usage limit exceeded\"}\\')')\n"
     ]
    }
   ],
   "source": [
    "retriever.invoke(\"HR\")"
   ]
  },
  {
   "cell_type": "code",
   "execution_count": 6,
   "metadata": {},
   "outputs": [],
   "source": [
    "prompt = PromptTemplate.from_template(QA_PROMPT)\n",
    "\n",
    "def format_docs(docs):\n",
    "    return \"\\n\\n\".join(doc.page_content for doc in docs)\n",
    "\n",
    "\n",
    "\n",
    "rag_chain = (\n",
    "    {\"context\": retriever | format_docs, \"question\": RunnablePassthrough()}\n",
    "    | prompt\n",
    "    | llm\n",
    "    | StrOutputParser()\n",
    ")\n",
    "\n",
    "def caller(message):\n",
    "    response = rag_chain.invoke(message)\n",
    "    return response"
   ]
  },
  {
   "cell_type": "code",
   "execution_count": 7,
   "metadata": {},
   "outputs": [
    {
     "data": {
      "text/plain": [
       "[Document(metadata={'page': 2.0, 'source': 'c:\\\\Users\\\\san\\\\Downloads\\\\Dummy - CB Policy.pdf'}, page_content='3 \\n \\nOCBC Information Classification: Internal  Scope & Applicability  4 \\nDefinition & Glossary  4 \\nPolicy / Process  Error! Bookmark not def ined.  \\n4.1 Policy Definition:  Error! Bookmark not defined.  \\n4.2. Procedures  Error! Bookmark not defined.  \\n4.3. Responsibility – HR department / Finance department  Error! Bookmark not \\ndefined.  \\nNon-compliance and consequences  1 \\nSpecial Circumstances and Exceptions  Error! Bookmark not defined.'),\n",
       " Document(metadata={'page': 3.0, 'source': 'c:\\\\Users\\\\san\\\\Downloads\\\\Dummy - CB Policy.pdf'}, page_content=\"4 \\n \\nOCBC Information Classification: Internal   \\n1. Objective  \\n \\nThe objective of the Compensation and Benefits Policy (The Policy) is aimed \\ntowards building a strong framework of pay structure for the organization to \\ncreate a  competitive work environment for its employees.  \\nThe policy aims  to be transparent about  compensation plans and \\ncommunicate the same to its employees.  \\n \\n2. Scope & Applicability  \\n \\nThe P olicy defines the principles upon which the organisation's Compensation \\nand Benefits (C&B) structure has been formulated. It also serves as a strong \\nbase for referring to the structure and elements of compensation for \\nemployees and the HR department alike.  \\nThe Compensation and Benefits policy applies  to all employees working with \\nthe organization.  \\n \\n3. Definition & Glossary  \\n \\nTerm \\n/Abbreviation  Definition / Expansion  \\nEoSB  End of Service Benefits  \\nGCC  Gulf Cooperating Countries  \\nGPSSA  General Pension Social Security Authority\"),\n",
       " Document(metadata={'page': 1.0, 'source': 'c:\\\\Users\\\\san\\\\Downloads\\\\Dummy - CB Policy.pdf'}, page_content='2 \\n \\nOCBC Information Classification: Internal   \\nRevision History  \\n  \\nVer \\nNo. Change \\nDescription  Prepared \\nBy Reviewed By  Approved \\nBy Date  \\n      \\n  \\n  \\n \\n \\n \\n \\n \\n \\n \\n \\n \\n \\n \\n \\n \\n \\n \\n \\n \\n \\n \\n \\n \\n \\n \\n \\n \\n \\n \\n \\n \\n \\nTABLE OF CONTENTS  \\n \\n \\n \\n \\n \\n \\nObjective  4'),\n",
       " Document(metadata={'page': 3.0, 'source': 'c:\\\\Users\\\\san\\\\Downloads\\\\Dummy - CB Policy.pdf'}, page_content='3. Definition & Glossary  \\n \\nTerm \\n/Abbreviation  Definition / Expansion  \\nEoSB  End of Service Benefits  \\nGCC  Gulf Cooperating Countries  \\nGPSSA  General Pension Social Security Authority  \\n \\n4. Policy / Process  \\n \\n4.1 Policy Definition  \\n \\nThe Policy defines the overall C&B structure for employees and the principles \\nupon which it is based. The policy document aims to act as a guide and \\nreferral document to the respective stakeholders.  \\nThe basic principles on which the Policy is designed are as follows:  \\nEqual Pay for Equal Work  \\n \\nThe Policy defines a pay structure based on \"Equal pay for equal work\" \\nprinciples, meaning that employees should be compensated commensurate \\nwith their skills and experience.  \\nNon–Discrimination  \\n \\nThe organisation does not believe in discrimination amongst and within its \\norganisation based on caste, creed, color, religion, nationality, gender and')]"
      ]
     },
     "execution_count": 7,
     "metadata": {},
     "output_type": "execute_result"
    },
    {
     "name": "stderr",
     "output_type": "stream",
     "text": [
      "Failed to batch ingest runs: LangSmithRateLimitError('Rate limit exceeded for https://api.smith.langchain.com/runs/batch. HTTPError(\\'429 Client Error: Too Many Requests for url: https://api.smith.langchain.com/runs/batch\\', \\'{\"detail\":\"Monthly unique traces usage limit exceeded\"}\\')')\n"
     ]
    }
   ],
   "source": [
    "retriever.invoke('Scope & Applicability ')"
   ]
  },
  {
   "cell_type": "code",
   "execution_count": 8,
   "metadata": {},
   "outputs": [
    {
     "data": {
      "text/plain": [
       "\"The scope and applicability of the Compensation and Benefits Policy is to define the principles of the organization's C&B structure and serve as a reference for employees and the HR department. The policy applies to all employees working with the organization. The policy aims to provide transparency and communicate compensation plans to employees.\""
      ]
     },
     "execution_count": 8,
     "metadata": {},
     "output_type": "execute_result"
    }
   ],
   "source": [
    "caller('Scope & Applicability ')"
   ]
  },
  {
   "cell_type": "code",
   "execution_count": 24,
   "metadata": {},
   "outputs": [],
   "source": [
    "### Contextualize question ###\n",
    "contextualize_q_system_prompt = \"\"\"Given a chat history and the latest user question \\\n",
    "which might reference context in the chat history, formulate a standalone question \\\n",
    "which can be understood without the chat history. Do NOT answer the question, \\\n",
    "just reformulate it if needed and otherwise return it as is.\"\"\"\n",
    "contextualize_q_prompt = ChatPromptTemplate.from_messages(\n",
    "    [\n",
    "        (\"system\", contextualize_q_system_prompt),\n",
    "        MessagesPlaceholder(\"chat_history\"),\n",
    "        (\"human\", \"{input}\"),\n",
    "    ]\n",
    ")\n",
    "history_aware_retriever = create_history_aware_retriever(\n",
    "    llm, retriever, contextualize_q_prompt\n",
    ")\n",
    "\n",
    "\n",
    "### Answer question ###\n",
    "qa_system_prompt = \"\"\"You are an experienced Legal Assistant who analyzes legal documents.\n",
    "Your expertise includes extracting facts and integrating information from multiple sources to provide well-supported answers. \n",
    "\n",
    "Guidelines:\n",
    "1. Derive your answer strictly from the provided context. Do not introduce any new information.\n",
    "2. Ensure complete contextuality: Address all aspects of the query, linking back to specific details in the context.\n",
    "3. Avoid phrases like \"In the context provided\" or \"According to my knowledge.\"\n",
    "\n",
    "Given the guidelines, please answer the question based on the following context.\n",
    "If you don't know the answer, just say that you don't know. Keep the answer concise.\n",
    "If the user ask with BAHASA INDONESIA language, please semantically answer the question with BAHASA INDONESIA language.\n",
    "\n",
    "{context}\"\"\"\n",
    "qa_prompt = ChatPromptTemplate.from_messages(\n",
    "    [\n",
    "        (\"system\", qa_system_prompt),\n",
    "        MessagesPlaceholder(\"chat_history\"),\n",
    "        (\"human\", \"{input}\"),\n",
    "    ]\n",
    ")\n",
    "question_answer_chain = create_stuff_documents_chain(llm, qa_prompt)\n",
    "\n",
    "rag_chain = create_retrieval_chain(history_aware_retriever, question_answer_chain)\n",
    "\n",
    "\n",
    "### Statefully manage chat history ###\n",
    "store = {}\n",
    "\n",
    "\n",
    "def get_session_history(session_id: str) -> BaseChatMessageHistory:\n",
    "    if session_id not in store:\n",
    "        store[session_id] = ChatMessageHistory()\n",
    "    return store[session_id]\n",
    "\n",
    "\n",
    "conversational_rag_chain = RunnableWithMessageHistory(\n",
    "    rag_chain,\n",
    "    get_session_history,\n",
    "    input_messages_key=\"input\",\n",
    "    history_messages_key=\"chat_history\",\n",
    "    output_messages_key=\"answer\",\n",
    ")"
   ]
  },
  {
   "cell_type": "code",
   "execution_count": 25,
   "metadata": {},
   "outputs": [
    {
     "data": {
      "text/plain": [
       "\"The HR policy refers to a set of guidelines and rules established by an organization's Human Resources department. It outlines the principles and procedures that govern various aspects of employment, such as recruitment, compensation, benefits, performance management, employee relations, and termination. The HR policy serves as a framework to ensure consistency, fairness, and compliance with legal requirements in managing the organization's workforce.\""
      ]
     },
     "execution_count": 25,
     "metadata": {},
     "output_type": "execute_result"
    }
   ],
   "source": [
    "conversational_rag_chain.invoke(\n",
    "    {\"input\": \"what is HR policy?\"},\n",
    "    config={\n",
    "        \"configurable\": {\"session_id\": \"abc123\"}\n",
    "    },  # constructs a key \"abc123\" in `store`.\n",
    ")[\"answer\"]"
   ]
  },
  {
   "cell_type": "code",
   "execution_count": null,
   "metadata": {},
   "outputs": [],
   "source": [
    "def invoke_hr_policy(input_text, session_id=\"abc123\"):\n",
    "    response = conversational_rag_chain.invoke(\n",
    "        {\"input\": input_text},\n",
    "        config={\n",
    "            \"configurable\": {\"session_id\": session_id}\n",
    "        }\n",
    "    )\n",
    "    return response[\"answer\"]\n",
    "\n",
    "# Example usage:\n",
    "result = invoke_hr_policy(\"what is HR policy?\")\n",
    "print(result)\n"
   ]
  },
  {
   "cell_type": "code",
   "execution_count": 22,
   "metadata": {},
   "outputs": [
    {
     "data": {
      "text/plain": [
       "{'abc123': InMemoryChatMessageHistory(messages=[HumanMessage(content='What is Task Decomposition?'), AIMessage(content=\"I don't know the answer.\"), HumanMessage(content='what is HR?'), AIMessage(content='HR stands for Human Resources. It is a department within an organization that is responsible for managing and overseeing various aspects related to employees, such as recruitment, training, performance management, compensation, and employee relations.'), HumanMessage(content='what is HR policy?'), AIMessage(content=\"An HR policy is a set of guidelines and rules established by an organization's Human Resources department. It outlines the principles, procedures, and practices that govern the management of employees within the organization. HR policies cover various areas such as recruitment, compensation, benefits, performance management, employee conduct, and compliance with legal and ethical standards. These policies help ensure consistency, fairness, and compliance in the organization's HR practices.\")])}"
      ]
     },
     "execution_count": 22,
     "metadata": {},
     "output_type": "execute_result"
    }
   ],
   "source": [
    "store"
   ]
  },
  {
   "cell_type": "code",
   "execution_count": null,
   "metadata": {},
   "outputs": [],
   "source": []
  }
 ],
 "metadata": {
  "kernelspec": {
   "display_name": "new_env",
   "language": "python",
   "name": "python3"
  },
  "language_info": {
   "codemirror_mode": {
    "name": "ipython",
    "version": 3
   },
   "file_extension": ".py",
   "mimetype": "text/x-python",
   "name": "python",
   "nbconvert_exporter": "python",
   "pygments_lexer": "ipython3",
   "version": "3.9.19"
  }
 },
 "nbformat": 4,
 "nbformat_minor": 2
}
