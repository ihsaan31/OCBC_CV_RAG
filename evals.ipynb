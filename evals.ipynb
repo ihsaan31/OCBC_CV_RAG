{
 "cells": [
  {
   "cell_type": "code",
   "execution_count": 1,
   "metadata": {},
   "outputs": [
    {
     "name": "stderr",
     "output_type": "stream",
     "text": [
      "USER_AGENT environment variable not set, consider setting it to identify your requests.\n",
      "c:\\Users\\san\\miniconda3\\envs\\new_env\\lib\\site-packages\\pinecone\\data\\index.py:1: TqdmWarning: IProgress not found. Please update jupyter and ipywidgets. See https://ipywidgets.readthedocs.io/en/stable/user_install.html\n",
      "  from tqdm.autonotebook import tqdm\n"
     ]
    },
    {
     "data": {
      "text/plain": [
       "True"
      ]
     },
     "execution_count": 1,
     "metadata": {},
     "output_type": "execute_result"
    }
   ],
   "source": [
    "from langchain import hub\n",
    "from langchain_chroma import Chroma\n",
    "from langchain_community.document_loaders import WebBaseLoader\n",
    "from langchain_core.output_parsers import StrOutputParser\n",
    "from langchain_core.runnables import RunnablePassthrough\n",
    "from langchain_openai import OpenAIEmbeddings\n",
    "from langchain_text_splitters import RecursiveCharacterTextSplitter\n",
    "from langchain_community.document_loaders import PyPDFLoader\n",
    "from langchain_openai import AzureChatOpenAI, AzureOpenAIEmbeddings\n",
    "import os\n",
    "from pinecone import Pinecone, ServerlessSpec\n",
    "from langchain_pinecone import PineconeVectorStore\n",
    "from uuid import uuid4\n",
    "from langchain_ollama.llms import OllamaLLM\n",
    "from langchain_ollama import OllamaEmbeddings\n",
    "from dotenv import load_dotenv\n",
    "load_dotenv()"
   ]
  },
  {
   "cell_type": "code",
   "execution_count": 2,
   "metadata": {},
   "outputs": [],
   "source": [
    "AZURE_OPENAI_ENDPOINT = os.getenv('AZURE_OPENAI_ENDPOINT')\n",
    "AZURE_OPENAI_DEPLOYMENT_ID = os.getenv('AZURE_OPENAI_DEPLOYMENT_ID')\n",
    "AZURE_OPENAI_KEY = os.getenv('AZURE_OPENAI_KEY')\n",
    "AZURE_API_VERSION = os.getenv('AZURE_API_VERSION')\n",
    "PINECONE_API_KEY = os.getenv('PINECONE_API_KEY')\n",
    "pc = Pinecone(api_key=PINECONE_API_KEY)"
   ]
  },
  {
   "cell_type": "code",
   "execution_count": 3,
   "metadata": {},
   "outputs": [],
   "source": [
    "llm = AzureChatOpenAI(\n",
    "            azure_endpoint=AZURE_OPENAI_ENDPOINT,\n",
    "            azure_deployment=AZURE_OPENAI_DEPLOYMENT_ID,\n",
    "            api_version=AZURE_API_VERSION,\n",
    "            api_key=AZURE_OPENAI_KEY,\n",
    "            temperature=0.0,\n",
    "            verbose=True,\n",
    "        )\n",
    "\n",
    "embedding_llm = AzureOpenAIEmbeddings(\n",
    "            azure_endpoint=AZURE_OPENAI_ENDPOINT,\n",
    "            azure_deployment='embedding-ada-crayon',\n",
    "            api_key=AZURE_OPENAI_KEY,\n",
    "            api_version=AZURE_API_VERSION,\n",
    "        )\n",
    "\n",
    "critic_llm = OllamaLLM(model=\"llama3.1\")\n",
    "\n",
    "\n",
    "\n",
    "embeddings = OllamaEmbeddings(model=\"llama3.1\")"
   ]
  },
  {
   "cell_type": "code",
   "execution_count": 4,
   "metadata": {},
   "outputs": [],
   "source": [
    "loader = PyPDFLoader(r\"Dummy - CB Policy.pdf\")\n",
    "pages = loader.load_and_split()\n",
    "text_splitter = RecursiveCharacterTextSplitter(chunk_size=1000)\n",
    "splits = text_splitter.split_documents(pages)"
   ]
  },
  {
   "cell_type": "code",
   "execution_count": 5,
   "metadata": {},
   "outputs": [],
   "source": [
    "splits = splits[:2]"
   ]
  },
  {
   "cell_type": "code",
   "execution_count": 7,
   "metadata": {},
   "outputs": [
    {
     "data": {
      "text/plain": [
       "[Document(metadata={'source': 'Dummy - CB Policy.pdf', 'page': 0}, page_content='1 \\n \\nOCBC Information Classification: Internal   \\n \\n \\n \\n \\n \\n \\n \\n \\nCompensation & Benefits \\nPolicy  \\nPT CRAYON SHINCHAN  \\n \\nPolicy Effective Date: < 07/08/24> \\n \\n \\n \\n \\n \\n \\nNo part of this documentation may be reproduced or transmitted in any form or by any means, electronic \\nor mechanical, including photocopying or recording, for any purpose without express written permission \\nof the CEO of PT CRAYON  SHINCHAN.  \\n \\n© 2021, <Company Name Here>. All Rights Reserved'),\n",
       " Document(metadata={'source': 'Dummy - CB Policy.pdf', 'page': 1}, page_content='2 \\n \\nOCBC Information Classification: Internal   \\nRevision History  \\n  \\nVer \\nNo. Change \\nDescription  Prepared \\nBy Reviewed By  Approved \\nBy Date  \\n      \\n  \\n  \\n \\n \\n \\n \\n \\n \\n \\n \\n \\n \\n \\n \\n \\n \\n \\n \\n \\n \\n \\n \\n \\n \\n \\n \\n \\n \\n \\n \\n \\n \\nTABLE OF CONTENTS  \\n \\n \\n \\n \\n \\n \\nObjective  4')]"
      ]
     },
     "execution_count": 7,
     "metadata": {},
     "output_type": "execute_result"
    }
   ],
   "source": [
    "splits"
   ]
  },
  {
   "cell_type": "code",
   "execution_count": 8,
   "metadata": {},
   "outputs": [
    {
     "name": "stderr",
     "output_type": "stream",
     "text": [
      "Filename and doc_id are the same for all nodes.               \n",
      "Generating: 100%|██████████| 2/2 [26:11<00:00, 785.50s/it] \n"
     ]
    }
   ],
   "source": [
    "from ragas.testset.generator import TestsetGenerator\n",
    "from ragas.testset.evolutions import simple, reasoning, multi_context\n",
    "\n",
    "generator = TestsetGenerator.from_langchain(\n",
    "    generator_llm=critic_llm,\n",
    "    critic_llm=critic_llm,\n",
    "    embeddings=embeddings\n",
    ")\n",
    "testset = generator.generate_with_langchain_docs(splits, test_size=2, distributions={simple: 0.5, reasoning: 0.25, multi_context: 0.25})"
   ]
  },
  {
   "cell_type": "code",
   "execution_count": 9,
   "metadata": {},
   "outputs": [],
   "source": [
    "test_splits = testset.to_pandas()"
   ]
  },
  {
   "cell_type": "code",
   "execution_count": 10,
   "metadata": {},
   "outputs": [
    {
     "data": {
      "text/html": [
       "<div>\n",
       "<style scoped>\n",
       "    .dataframe tbody tr th:only-of-type {\n",
       "        vertical-align: middle;\n",
       "    }\n",
       "\n",
       "    .dataframe tbody tr th {\n",
       "        vertical-align: top;\n",
       "    }\n",
       "\n",
       "    .dataframe thead th {\n",
       "        text-align: right;\n",
       "    }\n",
       "</style>\n",
       "<table border=\"1\" class=\"dataframe\">\n",
       "  <thead>\n",
       "    <tr style=\"text-align: right;\">\n",
       "      <th></th>\n",
       "      <th>question</th>\n",
       "      <th>contexts</th>\n",
       "      <th>ground_truth</th>\n",
       "      <th>evolution_type</th>\n",
       "      <th>metadata</th>\n",
       "      <th>episode_done</th>\n",
       "    </tr>\n",
       "  </thead>\n",
       "  <tbody>\n",
       "    <tr>\n",
       "      <th>0</th>\n",
       "      <td>Here is a question that can be fully answered ...</td>\n",
       "      <td>[1 \\n \\nOCBC Information Classification: Inter...</td>\n",
       "      <td>The CEO of PT CRAYON SHINCHAN</td>\n",
       "      <td>simple</td>\n",
       "      <td>[{'source': 'Dummy - CB Policy.pdf', 'page': 0}]</td>\n",
       "      <td>True</td>\n",
       "    </tr>\n",
       "    <tr>\n",
       "      <th>1</th>\n",
       "      <td>Here is a question that can be fully answered ...</td>\n",
       "      <td>[1 \\n \\nOCBC Information Classification: Inter...</td>\n",
       "      <td>No part of this documentation may be reproduce...</td>\n",
       "      <td>simple</td>\n",
       "      <td>[{'source': 'Dummy - CB Policy.pdf', 'page': 0}]</td>\n",
       "      <td>True</td>\n",
       "    </tr>\n",
       "  </tbody>\n",
       "</table>\n",
       "</div>"
      ],
      "text/plain": [
       "                                            question  \\\n",
       "0  Here is a question that can be fully answered ...   \n",
       "1  Here is a question that can be fully answered ...   \n",
       "\n",
       "                                            contexts  \\\n",
       "0  [1 \\n \\nOCBC Information Classification: Inter...   \n",
       "1  [1 \\n \\nOCBC Information Classification: Inter...   \n",
       "\n",
       "                                        ground_truth evolution_type  \\\n",
       "0                      The CEO of PT CRAYON SHINCHAN         simple   \n",
       "1  No part of this documentation may be reproduce...         simple   \n",
       "\n",
       "                                           metadata  episode_done  \n",
       "0  [{'source': 'Dummy - CB Policy.pdf', 'page': 0}]          True  \n",
       "1  [{'source': 'Dummy - CB Policy.pdf', 'page': 0}]          True  "
      ]
     },
     "execution_count": 10,
     "metadata": {},
     "output_type": "execute_result"
    }
   ],
   "source": [
    "test_splits"
   ]
  },
  {
   "cell_type": "code",
   "execution_count": 27,
   "metadata": {},
   "outputs": [
    {
     "data": {
      "text/html": [
       "<div>\n",
       "<style scoped>\n",
       "    .dataframe tbody tr th:only-of-type {\n",
       "        vertical-align: middle;\n",
       "    }\n",
       "\n",
       "    .dataframe tbody tr th {\n",
       "        vertical-align: top;\n",
       "    }\n",
       "\n",
       "    .dataframe thead th {\n",
       "        text-align: right;\n",
       "    }\n",
       "</style>\n",
       "<table border=\"1\" class=\"dataframe\">\n",
       "  <thead>\n",
       "    <tr style=\"text-align: right;\">\n",
       "      <th></th>\n",
       "      <th>question</th>\n",
       "      <th>contexts</th>\n",
       "      <th>ground_truth</th>\n",
       "      <th>evolution_type</th>\n",
       "      <th>metadata</th>\n",
       "      <th>episode_done</th>\n",
       "    </tr>\n",
       "  </thead>\n",
       "  <tbody>\n",
       "    <tr>\n",
       "      <th>0</th>\n",
       "      <td>What actions will be taken if a complaint is s...</td>\n",
       "      <td>[9 \\n \\nOCBC Information Classification: Inter...</td>\n",
       "      <td>The organisation shall take necessary discipli...</td>\n",
       "      <td>simple</td>\n",
       "      <td>[{'source': 'Dummy - CB Policy.pdf', 'page': 8}]</td>\n",
       "      <td>True</td>\n",
       "    </tr>\n",
       "    <tr>\n",
       "      <th>1</th>\n",
       "      <td>What is the principle of equal pay for equal w...</td>\n",
       "      <td>[4 \\n \\nOCBC Information Classification: Inter...</td>\n",
       "      <td>The principle of equal pay for equal work in t...</td>\n",
       "      <td>simple</td>\n",
       "      <td>[{'source': 'Dummy - CB Policy.pdf', 'page': 3}]</td>\n",
       "      <td>True</td>\n",
       "    </tr>\n",
       "    <tr>\n",
       "      <th>2</th>\n",
       "      <td>What is the minimum base amount used for calcu...</td>\n",
       "      <td>[8 \\n \\nOCBC Information Classification: Inter...</td>\n",
       "      <td>The minimum base amount for calculating GPSSA ...</td>\n",
       "      <td>simple</td>\n",
       "      <td>[{'source': 'Dummy - CB Policy.pdf', 'page': 7}]</td>\n",
       "      <td>True</td>\n",
       "    </tr>\n",
       "    <tr>\n",
       "      <th>3</th>\n",
       "      <td>What are the variable benefits included in the...</td>\n",
       "      <td>[5 \\n \\nOCBC Information Classification: Inter...</td>\n",
       "      <td>The variable benefits included in the compensa...</td>\n",
       "      <td>simple</td>\n",
       "      <td>[{'source': 'Dummy - CB Policy.pdf', 'page': 4}]</td>\n",
       "      <td>True</td>\n",
       "    </tr>\n",
       "    <tr>\n",
       "      <th>4</th>\n",
       "      <td>What is the eligibility criteria for paid leav...</td>\n",
       "      <td>[7 \\n \\nOCBC Information Classification: Inter...</td>\n",
       "      <td>The eligibility criteria for paid leave for em...</td>\n",
       "      <td>simple</td>\n",
       "      <td>[{'source': 'Dummy - CB Policy.pdf', 'page': 6}]</td>\n",
       "      <td>True</td>\n",
       "    </tr>\n",
       "    <tr>\n",
       "      <th>5</th>\n",
       "      <td>What are the End of Service Benefits provided ...</td>\n",
       "      <td>[6 \\n \\nOCBC Information Classification: Inter...</td>\n",
       "      <td>End of Service Benefits provided by the organi...</td>\n",
       "      <td>reasoning</td>\n",
       "      <td>[{'source': 'Dummy - CB Policy.pdf', 'page': 5}]</td>\n",
       "      <td>True</td>\n",
       "    </tr>\n",
       "    <tr>\n",
       "      <th>6</th>\n",
       "      <td>What are the specific benefits under Mandatory...</td>\n",
       "      <td>[5 \\n \\nOCBC Information Classification: Inter...</td>\n",
       "      <td>The specific benefits under Mandatory Benefits...</td>\n",
       "      <td>reasoning</td>\n",
       "      <td>[{'source': 'Dummy - CB Policy.pdf', 'page': 4}]</td>\n",
       "      <td>True</td>\n",
       "    </tr>\n",
       "    <tr>\n",
       "      <th>7</th>\n",
       "      <td>What is the purpose of the Compensation and Be...</td>\n",
       "      <td>[4 \\n \\nOCBC Information Classification: Inter...</td>\n",
       "      <td>The purpose of the Compensation and Benefits P...</td>\n",
       "      <td>multi_context</td>\n",
       "      <td>[{'source': 'Dummy - CB Policy.pdf', 'page': 3...</td>\n",
       "      <td>True</td>\n",
       "    </tr>\n",
       "  </tbody>\n",
       "</table>\n",
       "</div>"
      ],
      "text/plain": [
       "                                            question  \\\n",
       "0  What actions will be taken if a complaint is s...   \n",
       "1  What is the principle of equal pay for equal w...   \n",
       "2  What is the minimum base amount used for calcu...   \n",
       "3  What are the variable benefits included in the...   \n",
       "4  What is the eligibility criteria for paid leav...   \n",
       "5  What are the End of Service Benefits provided ...   \n",
       "6  What are the specific benefits under Mandatory...   \n",
       "7  What is the purpose of the Compensation and Be...   \n",
       "\n",
       "                                            contexts  \\\n",
       "0  [9 \\n \\nOCBC Information Classification: Inter...   \n",
       "1  [4 \\n \\nOCBC Information Classification: Inter...   \n",
       "2  [8 \\n \\nOCBC Information Classification: Inter...   \n",
       "3  [5 \\n \\nOCBC Information Classification: Inter...   \n",
       "4  [7 \\n \\nOCBC Information Classification: Inter...   \n",
       "5  [6 \\n \\nOCBC Information Classification: Inter...   \n",
       "6  [5 \\n \\nOCBC Information Classification: Inter...   \n",
       "7  [4 \\n \\nOCBC Information Classification: Inter...   \n",
       "\n",
       "                                        ground_truth evolution_type  \\\n",
       "0  The organisation shall take necessary discipli...         simple   \n",
       "1  The principle of equal pay for equal work in t...         simple   \n",
       "2  The minimum base amount for calculating GPSSA ...         simple   \n",
       "3  The variable benefits included in the compensa...         simple   \n",
       "4  The eligibility criteria for paid leave for em...         simple   \n",
       "5  End of Service Benefits provided by the organi...      reasoning   \n",
       "6  The specific benefits under Mandatory Benefits...      reasoning   \n",
       "7  The purpose of the Compensation and Benefits P...  multi_context   \n",
       "\n",
       "                                            metadata  episode_done  \n",
       "0   [{'source': 'Dummy - CB Policy.pdf', 'page': 8}]          True  \n",
       "1   [{'source': 'Dummy - CB Policy.pdf', 'page': 3}]          True  \n",
       "2   [{'source': 'Dummy - CB Policy.pdf', 'page': 7}]          True  \n",
       "3   [{'source': 'Dummy - CB Policy.pdf', 'page': 4}]          True  \n",
       "4   [{'source': 'Dummy - CB Policy.pdf', 'page': 6}]          True  \n",
       "5   [{'source': 'Dummy - CB Policy.pdf', 'page': 5}]          True  \n",
       "6   [{'source': 'Dummy - CB Policy.pdf', 'page': 4}]          True  \n",
       "7  [{'source': 'Dummy - CB Policy.pdf', 'page': 3...          True  "
      ]
     },
     "execution_count": 27,
     "metadata": {},
     "output_type": "execute_result"
    }
   ],
   "source": [
    "test_pages"
   ]
  }
 ],
 "metadata": {
  "kernelspec": {
   "display_name": "new_env",
   "language": "python",
   "name": "python3"
  },
  "language_info": {
   "codemirror_mode": {
    "name": "ipython",
    "version": 3
   },
   "file_extension": ".py",
   "mimetype": "text/x-python",
   "name": "python",
   "nbconvert_exporter": "python",
   "pygments_lexer": "ipython3",
   "version": "3.9.19"
  }
 },
 "nbformat": 4,
 "nbformat_minor": 2
}
