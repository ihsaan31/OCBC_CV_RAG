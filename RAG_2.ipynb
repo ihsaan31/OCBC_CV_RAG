{
 "cells": [
  {
   "cell_type": "code",
   "execution_count": 66,
   "metadata": {},
   "outputs": [
    {
     "data": {
      "text/plain": [
       "True"
      ]
     },
     "execution_count": 66,
     "metadata": {},
     "output_type": "execute_result"
    }
   ],
   "source": [
    "from langchain import hub\n",
    "from langchain_chroma import Chroma\n",
    "from langchain_community.document_loaders import WebBaseLoader\n",
    "from langchain_core.output_parsers import StrOutputParser\n",
    "from langchain_core.runnables import RunnablePassthrough\n",
    "from langchain_openai import OpenAIEmbeddings\n",
    "from langchain_text_splitters import RecursiveCharacterTextSplitter\n",
    "from langchain_community.document_loaders import PyPDFLoader\n",
    "from langchain_openai import AzureChatOpenAI, AzureOpenAIEmbeddings\n",
    "import os\n",
    "from pinecone import Pinecone, ServerlessSpec\n",
    "from langchain_pinecone import PineconeVectorStore\n",
    "from langchain.chains import create_history_aware_retriever\n",
    "from langchain_core.prompts import ChatPromptTemplate, MessagesPlaceholder\n",
    "from uuid import uuid4\n",
    "from dotenv import load_dotenv\n",
    "load_dotenv()"
   ]
  },
  {
   "cell_type": "code",
   "execution_count": 67,
   "metadata": {},
   "outputs": [],
   "source": [
    "AZURE_OPENAI_ENDPOINT = os.getenv('AZURE_OPENAI_ENDPOINT')\n",
    "AZURE_OPENAI_DEPLOYMENT_ID = os.getenv('AZURE_OPENAI_DEPLOYMENT_ID')\n",
    "AZURE_OPENAI_KEY = os.getenv('AZURE_OPENAI_KEY')\n",
    "AZURE_API_VERSION = os.getenv('AZURE_API_VERSION')\n",
    "PINECONE_API_KEY = os.getenv('PINECONE_API_KEY')\n",
    "pc = Pinecone(api_key=PINECONE_API_KEY)"
   ]
  },
  {
   "cell_type": "code",
   "execution_count": 68,
   "metadata": {},
   "outputs": [],
   "source": [
    "llm = AzureChatOpenAI(\n",
    "            azure_endpoint=AZURE_OPENAI_ENDPOINT,\n",
    "            azure_deployment=AZURE_OPENAI_DEPLOYMENT_ID,\n",
    "            api_version=AZURE_API_VERSION,\n",
    "            api_key=AZURE_OPENAI_KEY,\n",
    "            temperature=0.0,\n",
    "            verbose=True,\n",
    "        )\n",
    "\n",
    "embedding_llm = AzureOpenAIEmbeddings(\n",
    "            azure_endpoint=AZURE_OPENAI_ENDPOINT,\n",
    "            azure_deployment='embedding-ada-crayon',\n",
    "            api_key=AZURE_OPENAI_KEY,\n",
    "            api_version=AZURE_API_VERSION,\n",
    "        )"
   ]
  },
  {
   "cell_type": "code",
   "execution_count": 69,
   "metadata": {},
   "outputs": [],
   "source": [
    "cv = \"\"\"IHSAN FATHYA\n",
    " 081283576216 | ihsanfathya@gmail.com | https://www.linkedin.com/in/ihsan-fathya/ | https://github.com/ihsaan31\n",
    " Bogor, Jawa Barat\n",
    " I'm an 8th-semester student with a genuine passion for technology, specifically in machine learning and Data Science. Drawing from a \n",
    "solid background in computer science and programming, I've developed a keen interest in utilizing Python to address complex problems \n",
    "and create innovative solutions.\n",
    " Work Experiences\n",
    " OCBC Indonesia -  Bsd, Tangerang Jun 2024 - Present\n",
    " Data Scientist Intern\n",
    " Oversea-Chinese Banking Corporation Limited (OCBC) is a Singaporean multinational banking and financial services corporation that \n",
    "provides a range of services to individuals, businesses, government agencies, and financial institutions.\n",
    " AI Compliance Chat Bot\n",
    " Developed a robust AI-powered compliance chatbot that integrates the regulatory frameworks of OJK, BI, and Sikepo. Leveraged \n",
    "LangChain to design and implement custom AI chains tailored for various tasks, including question routing, contextualization, and \n",
    "the generation of combined responses from multiple sources.\n",
    " Designed custom prompts and templates to optimize the performance of the AI models. These include templates for contextualizing \n",
    "questions, generating system responses, and creating combined answers by synthesizing data from multiple regulatory bodies.\n",
    " Implemented retrieval systems using various index managers (ElasticSearch, Redis) and graph databases (Neo4j) to fetch and \n",
    "merge relevant information, optimizing the accuracy of AI responses.\n",
    " FastAPI Development and API Integration\n",
    " Designed and implemented a RESTful API using FastAPI, enabling efficient communication between the front-end and backend \n",
    "services.\n",
    " Implemented real-time data streaming using 'StreamingResponse', allowing continuous delivery from LangChain.\n",
    " BMKG | Badan Meteorologi, Klimatologi, dan Geofisika -  \n",
    "Jakarta Pusat\n",
    " Oct 2023 - Dec 2023\n",
    " Artificial Intelligence Intern\n",
    " BMKG, based in Jakarta Pusat, is a key governmental organization in Indonesia. It plays a crucial role by providing essential information \n",
    "in meteorology, climatology, and geophysics. BMKG's services are integral to various sectors, including agriculture, transportation, \n",
    "disaster management, and public safety.\n",
    " Model Monitoring Dashboard\n",
    " Created a comprehensive web monitoring dashboard using Dash Plotly to evaluate and visualize model performance metrics \n",
    "effectively.\n",
    " Developed a separate monitoring dashboard utilizing Looker Studio, enhancing accessibility and usability.\n",
    " AI Modeling\n",
    " Applied Python extensively for AI modeling, including the conversion of an existing R model to Python resulting 10% improvment in \n",
    "accuracy.\n",
    " Developed and implemented a model for refining Numerical Weather Prediction using various machine learning algorithms, \n",
    "including Scikit-Learn and TensorFlow achieving 77% accuracy.\n",
    " PFI mega life -  Jakarta Selatan Feb 2023 - Jun 2023\n",
    " Data Analyst Intern\n",
    " PT PFI Mega Life Insurance is a joint venture with a new structure that combines the global expertise of Prudential Financial Inc. with the \n",
    "local market network strength of CT Corpora. PFI Mega Life provides a complete range of life insurance products to serve customers with \n",
    "a wide range, from large corporations to individuals.\n",
    " Leads Segmentation\n",
    " Integrated sentiment analysis and demographic results into leads segmentation, providing a nuanced understanding of leads \n",
    "engagement.\n",
    " Implemented K-means clustering algorithm for leads segmentation into distinct clusters.\n",
    " Sentiment Analysis\n",
    " Conducted sentiment analysis on a dataset of 6,000 Activity Content from CRM posts using Python and various libraries, including  \n",
    "NLTK, Sastrawi, pandas, numpy, matplotlib, and seaborn.\n",
    " Utilized the pre-trained Indonesia BERT model for sentiment analysis, resulting in a 10% increase in accuracy compared to \n",
    "traditional methods.\n",
    " Applied the model to categorize Activity Content into positive, neutral, or negative sentiments.\n",
    " Scrape LinkedIn Profile\n",
    " Executed a web scraping initiative using Beautiful Soup and Selenium in Python, successfully extracting over 14,000 leads from \n",
    "LinkedIn and search engine results, exceeding the initial target by 30%.\n",
    " Successfully navigated through LinkedIn profiles to capture demographic details, encompassing education information, current job \n",
    "roles, and past experience.\n",
    " Executed data extraction techniques to compile an Excel output file, streamlining the analysis of acquired leads.\n",
    " Education Level\n",
    " Universitas Gunadarma - Depok, Jawa Barat Aug 2020 - Sep 2024 (Expected)\n",
    " Bachelor Degree in Informatics Engineering, 3.41/4.00\n",
    " Skills, Achievements & Other Experience\n",
    " Certification (2021): Machine Learning  (Dicoding)\n",
    " Certification (2022): EF SET English Certificate 78/100 (C2 Proficient)\n",
    " Certification (2023): AI-900 - Microsoft Azure AI Fundamentals\n",
    " Certification (2023): Codecademy Data Scientist: Analytics Specialist Career Path\n",
    " Certification (2023): Codecademy Data Scientist: Inference Specialist Career Path\n",
    " Certification (2024): Codecademy Data Scientist: Machine Learning Specialist Career Pat\"\"\""
   ]
  },
  {
   "cell_type": "code",
   "execution_count": 70,
   "metadata": {},
   "outputs": [],
   "source": [
    "pc = Pinecone(api_key=PINECONE_API_KEY)\n",
    "\n",
    "index_name = \"ocbc-cv-gpt\"  # change if desired\n",
    "index = pc.Index(index_name)\n",
    "llm = AzureChatOpenAI(\n",
    "            azure_endpoint=AZURE_OPENAI_ENDPOINT,\n",
    "            azure_deployment=AZURE_OPENAI_DEPLOYMENT_ID,\n",
    "            api_version=AZURE_API_VERSION,\n",
    "            api_key=AZURE_OPENAI_KEY,\n",
    "            temperature=0.0,\n",
    "            verbose=True,\n",
    "        )\n",
    "\n",
    "embedding_llm = AzureOpenAIEmbeddings(\n",
    "            azure_endpoint=AZURE_OPENAI_ENDPOINT,\n",
    "            azure_deployment='embedding-ada-crayon',\n",
    "            api_key=AZURE_OPENAI_KEY,\n",
    "            api_version=AZURE_API_VERSION,\n",
    "        )\n",
    "\n",
    "vector_store = PineconeVectorStore(index=index, embedding=embedding_llm)\n",
    "retriever = vector_store.as_retriever(search_type=\"mmr\", search_kwargs={'k': 6})"
   ]
  },
  {
   "cell_type": "code",
   "execution_count": 60,
   "metadata": {},
   "outputs": [],
   "source": [
    "from langchain_core.prompts import PromptTemplate\n",
    "from templates.prompt import QA_PROMPT\n",
    "\n",
    "\n",
    "prompt = PromptTemplate.from_template(QA_PROMPT)\n",
    "\n",
    "def format_docs(docs):\n",
    "    return \"\\n\\n\".join(doc.page_content for doc in docs)\n",
    "\n",
    "\n",
    "\n",
    "\n",
    "rag_chain = (\n",
    "    {\"context\": retriever, \"question\": RunnablePassthrough()}\n",
    "    | prompt\n",
    "    | llm\n",
    "    | StrOutputParser()\n",
    ")"
   ]
  },
  {
   "cell_type": "code",
   "execution_count": 53,
   "metadata": {},
   "outputs": [
    {
     "data": {
      "text/plain": [
       "'\\n\\nYou are an AI job assistant. Based on the user\\'s preferences, qualifications, and experience, evaluate the following job posting.\\n\\nCV/Resume: {question}\\nJob Listing: {context}\\n\\n1. Compare the user\\'s CV/resume to the job listing, highlighting the key areas of alignment and any gaps.\\n2. Assess whether the job is a match for the user\\'s skills and experience. If the job matches, explain why. If it does not match, clearly state: \"Does not match.\"\\n\\n'"
      ]
     },
     "execution_count": 53,
     "metadata": {},
     "output_type": "execute_result"
    }
   ],
   "source": [
    "QA_PROMPT"
   ]
  },
  {
   "cell_type": "code",
   "execution_count": null,
   "metadata": {},
   "outputs": [],
   "source": [
    "print(rag_chain.invoke(cv))"
   ]
  },
  {
   "cell_type": "code",
   "execution_count": 11,
   "metadata": {},
   "outputs": [],
   "source": [
    "# cv summerizer chain\n",
    "\n",
    "from langchain_core.prompts import PromptTemplate\n",
    "from templates.prompt import QA_PROMPT, CV_sumerrizer\n",
    "\n",
    "\n",
    "prompt = PromptTemplate.from_template(CV_sumerrizer)\n",
    "\n",
    "rag_chain = (\n",
    "    {\"question\": RunnablePassthrough()}\n",
    "    | prompt\n",
    "    | llm\n",
    "    | StrOutputParser()\n",
    ")"
   ]
  },
  {
   "cell_type": "code",
   "execution_count": null,
   "metadata": {},
   "outputs": [],
   "source": [
    "print(rag_chain.invoke(cv))"
   ]
  },
  {
   "cell_type": "code",
   "execution_count": null,
   "metadata": {},
   "outputs": [],
   "source": [
    "from langchain_core.prompts import PromptTemplate\n",
    "from templates.prompt import QA_PROMPT\n",
    "\n",
    "\n",
    "prompt = PromptTemplate.from_template(QA_PROMPT)\n",
    "\n",
    "def format_docs(docs):\n",
    "    return \"\\n\\n\".join(doc.page_content for doc in docs)\n",
    "\n",
    "rag_chain = (\n",
    "    {\"context\": retriever, \"question\": RunnablePassthrough()}\n",
    "    | prompt\n",
    "    | llm\n",
    "    | StrOutputParser()\n",
    ")"
   ]
  },
  {
   "cell_type": "code",
   "execution_count": 104,
   "metadata": {},
   "outputs": [],
   "source": [
    "CV_sumerrizer = \"\"\"\n",
    "You are an intelligent resume summarizer. A user has provided their CV, and your task is to create a concise summary of their professional background, highlighting their key skills, relevant experience, and notable achievements. Focus on the industries they have worked in, the roles they have held, and any certifications or education mentioned.\n",
    "\n",
    "**User CV:**\n",
    "{question}\n",
    "\n",
    "**Instructions:**\n",
    "1. **Key Skills:** Identify the main skills mentioned in the user's CV.\n",
    "2. **Experience Summary:** Summarize the user's work experience, including job titles, industries, and companies.\n",
    "3. **Notable Achievements:** Highlight any significant accomplishments or recognitions.\n",
    "4. **Education & Certifications:** Include any relevant educational background or certifications.\n",
    "5. **Overall Summary:** Provide an overall summary that captures the essence of the user's professional profile.\n",
    "\n",
    "**Output:**\n",
    "Return a concise summary of the user's CV, focusing on their key qualifications and professional highlights.\n",
    "\n",
    "\"\"\""
   ]
  },
  {
   "cell_type": "code",
   "execution_count": 105,
   "metadata": {},
   "outputs": [],
   "source": [
    "QA_PROMPT = \"\"\"\n",
    "\n",
    "You are an AI job assistant. Based on the user's preferences, qualifications, and experience, evaluate the following job posting.\n",
    "\n",
    "\n",
    "\n",
    "1. Mention what jobs on the current listing\n",
    "2. Compare the user's CV/resume to the job listing, highlighting the key areas of alignment and any gaps.\n",
    "3. Assess whether the job is a match for the user's skills and experience. If the job matches, explain why. If it does not match, clearly state: \"Does not match.\"\n",
    "\n",
    "CV/Resume: \n",
    "{question}\n",
    "\n",
    "Job Listing: \n",
    "{context}\n",
    "\n",
    "\"\"\""
   ]
  },
  {
   "cell_type": "code",
   "execution_count": 96,
   "metadata": {},
   "outputs": [
    {
     "data": {
      "text/plain": [
       "'\\n\\nYou are an AI job assistant. Based on the user\\'s preferences, qualifications, and experience, evaluate the following job posting.\\n\\n\\n\\n1. Mention what jobs on the current listing\\n2. Compare the user\\'s CV/resume to the job listing, highlighting the key areas of alignment and any gaps.\\n3. Assess whether the job is a match for the user\\'s skills and experience. If the job matches, explain why. If it does not match, clearly state: \"Does not match.\"\\n\\nCV/Resume: \\n{question}\\n\\nJob Listing: \\n{context}\\n\\n'"
      ]
     },
     "execution_count": 96,
     "metadata": {},
     "output_type": "execute_result"
    }
   ],
   "source": [
    "QA_PROMPT"
   ]
  },
  {
   "cell_type": "code",
   "execution_count": 106,
   "metadata": {},
   "outputs": [],
   "source": [
    "from langchain_core.prompts import PromptTemplate\n",
    "from langchain_core.runnables import RunnablePassthrough\n",
    "from langchain.schema import StrOutputParser\n",
    "from langchain.chains import create_history_aware_retriever\n",
    "# from templates.prompt import QA_PROMPT, CV_sumerrizer, contextualize_q_system_prompt\n",
    "\n",
    "# Assuming you have defined 'llm' and 'retriever' elsewhere in your code\n",
    "\n",
    "# CV summarizer chain\n",
    "cv_summarizer_prompt = PromptTemplate.from_template(CV_sumerrizer)\n",
    "cv_summarizer_chain = (\n",
    "    {\"question\": RunnablePassthrough()}\n",
    "    | cv_summarizer_prompt\n",
    "    | llm\n",
    "    | StrOutputParser()\n",
    ")\n",
    "\n",
    "# QA chain\n",
    "qa_prompt = PromptTemplate.from_template(QA_PROMPT)\n",
    "\n",
    "# Merged chain\n",
    "merged_rag_chain = (\n",
    "    {\"question\": RunnablePassthrough(), \"context\": RunnablePassthrough(), \"chat_history\": RunnablePassthrough()}\n",
    "    | cv_summarizer_chain\n",
    "    | (lambda x: {\"context\": retriever.invoke(x), \"question\": RunnablePassthrough(), \"chat_history\": RunnablePassthrough()})\n",
    "    | qa_prompt\n",
    "    | llm\n",
    "    | StrOutputParser()\n",
    ")\n",
    "\n",
    "\n"
   ]
  },
  {
   "cell_type": "code",
   "execution_count": 107,
   "metadata": {},
   "outputs": [
    {
     "name": "stdout",
     "output_type": "stream",
     "text": [
      "1. The current job listing includes the following positions:\n",
      "- Marketing Technology Lead\n",
      "- FCC Transaction Monitoring Officer\n",
      "- Software Engineer\n",
      "- Business Performance Management Head\n",
      "- Appraisal Head\n",
      "- Integrated Funding Services Division Head\n",
      "\n",
      "2. Comparing the user's CV/resume to the job listing, the key areas of alignment and gaps are as follows:\n",
      "\n",
      "- Marketing Technology Lead: The user's CV does not mention any experience or qualifications related to direct mailing, project management, integration of data systems, or digital marketing. Therefore, there is a significant gap between the user's skills and the requirements of this job.\n",
      "\n",
      "- FCC Transaction Monitoring Officer: The user's CV does not mention any experience or qualifications related to financial crime, anti-money laundering, or terrorism prevention. Therefore, there is a significant gap between the user's skills and the requirements of this job.\n",
      "\n",
      "- Software Engineer: The user's CV does not mention any experience or qualifications related to software development, bug fixing, or data and documentation management. Therefore, there is a significant gap between the user's skills and the requirements of this job.\n",
      "\n",
      "- Business Performance Management Head: The user's CV does not mention any experience or qualifications related to business performance analysis, financial planning, budgeting, or KPI setting. Therefore, there is a significant gap between the user's skills and the requirements of this job.\n",
      "\n",
      "- Appraisal Head: The user's CV does not mention any experience or qualifications related to credit operations, credit risk, or property appraisal. Therefore, there is a significant gap between the user's skills and the requirements of this job.\n",
      "\n",
      "- Integrated Funding Services Division Head: The user's CV does not mention any experience or qualifications related to KYC, dispute resolution, cost reduction, or team management. Therefore, there is a significant gap between the user's skills and the requirements of this job.\n",
      "\n",
      "3. Based on the assessment, none of the jobs listed match the user's skills and experience.\n"
     ]
    }
   ],
   "source": [
    "print(merged_rag_chain.invoke(cv))"
   ]
  },
  {
   "cell_type": "code",
   "execution_count": 67,
   "metadata": {},
   "outputs": [],
   "source": [
    "# # yang amriz bikin \n",
    "\n",
    "# from operator import itemgetter\n",
    "# from langchain_core.prompts import PromptTemplate\n",
    "# from langchain_core.runnables import RunnablePassthrough\n",
    "# from langchain.schema import StrOutputParser\n",
    "# from langchain.chains import create_history_aware_retriever\n",
    "# from templates.prompt import CV_sumerrizer, contextualize_q_system_prompt\n",
    "\n",
    "# # Assuming you have defined 'llm' and 'retriever' elsewhere in your code\n",
    "\n",
    "# # CV summarizer chain\n",
    "# cv_summarizer_prompt = PromptTemplate.from_template(CV_sumerrizer)\n",
    "\n",
    "# cv_summarizer_chain = (\n",
    "#     # {\"question\": RunnablePassthrough()}\n",
    "#     cv_summarizer_prompt\n",
    "#     | llm\n",
    "#     | StrOutputParser()\n",
    "# )\n",
    "\n",
    "# # QA chain\n",
    "# qa_prompt = PromptTemplate.from_template(QA_PROMPT)\n",
    "\n",
    "# # # Merged chain\n",
    "# merged_rag_chain = (\n",
    "#     # {\"question\": RunnablePassthrough()}\n",
    "    \n",
    "#     # {\"contexty\": RunnablePassthrough(),\"chat_history\": RunnablePassthrough(), \"question\": RunnablePassthrough()}\n",
    "#     RunnablePassthrough()\n",
    "#     | {\n",
    "#         \"question\": itemgetter(\"question\"),\n",
    "#         \"chat_history\": itemgetter(\"chat_history\"),\n",
    "#         \"context\": itemgetter(\"question\") | retriever\n",
    "#     } | RunnablePassthrough()\n",
    "#     | {\n",
    "#         \"chat_history\": itemgetter(\"chat_history\"),\n",
    "#         \"context\": itemgetter(\"context\"),\n",
    "#         \"question\": {\"question\": itemgetter(\"question\")} | cv_summarizer_chain\n",
    "#     } | RunnablePassthrough()\n",
    "#     | qa_prompt\n",
    "#     | llm\n",
    "#     | {\n",
    "#         \"answer\": StrOutputParser(),\n",
    "#     }\n",
    "# )\n",
    "\n",
    "\n"
   ]
  },
  {
   "cell_type": "code",
   "execution_count": 43,
   "metadata": {},
   "outputs": [],
   "source": [
    "CV_sumerrizer = \"\"\"\n",
    "You are an intelligent resume summarizer. A user has provided their CV, and your task is to create a concise summary of their professional background, highlighting their key skills, relevant experience, and notable achievements. Focus on the industries they have worked in, the roles they have held, and any certifications or education mentioned.\n",
    "\n",
    "**User CV:**\n",
    "{cv}\n",
    "\n",
    "**Instructions:**\n",
    "1. **Key Skills:** Identify the main skills mentioned in the user's CV.\n",
    "2. **Experience Summary:** Summarize the user's work experience, including job titles, industries, and companies.\n",
    "3. **Notable Achievements:** Highlight any significant accomplishments or recognitions.\n",
    "4. **Education & Certifications:** Include any relevant educational background or certifications.\n",
    "5. **Overall Summary:** Provide an overall summary that captures the essence of the user's professional profile.\n",
    "\n",
    "**Output:**\n",
    "Return a concise summary of the user's CV, focusing on their key qualifications and professional highlights.\n",
    "\n",
    "\"\"\"\n",
    "\n",
    "QA_PROMPT = \"\"\"\n",
    "\n",
    "You are an AI job assistant. Based on the user's preferences, qualifications, and experience, evaluate the following job posting.\n",
    "\n",
    "\n",
    "\n",
    "1. Mention what jobs on the current listing\n",
    "2. Compare the user's CV/resume to the job listing, highlighting the key areas of alignment and any gaps.\n",
    "3. Assess whether the job is a match for the user's skills and experience. If the job matches, explain why. If it does not match, clearly state: \"Does not match.\"\n",
    "\n",
    "Chat History: {chat_history}\n",
    "CV/Resume: {question}\n",
    "Job Listing: {context}\n",
    "\"\"\""
   ]
  },
  {
   "cell_type": "code",
   "execution_count": 44,
   "metadata": {},
   "outputs": [],
   "source": [
    "# yang amriz bikin (modified)\n",
    "\n",
    "from operator import itemgetter\n",
    "from langchain_core.prompts import PromptTemplate\n",
    "from langchain_core.runnables import RunnablePassthrough\n",
    "from langchain.schema import StrOutputParser\n",
    "from langchain.chains import create_history_aware_retriever\n",
    "# from templates.prompt import CV_sumerrizer, contextualize_q_system_prompt\n",
    "\n",
    "# Assuming you have defined 'llm' and 'retriever' elsewhere in your code\n",
    "\n",
    "# CV summarizer chain\n",
    "cv_summarizer_prompt = PromptTemplate.from_template(CV_sumerrizer)\n",
    "\n",
    "cv_summarizer_chain = (\n",
    "    # {\"question\": RunnablePassthrough()}\n",
    "    cv_summarizer_prompt\n",
    "    | llm\n",
    "    | StrOutputParser()\n",
    ")\n",
    "\n",
    "# QA chain\n",
    "qa_prompt = PromptTemplate.from_template(QA_PROMPT)\n",
    "\n",
    "# # Merged chain\n",
    "merged_rag_chain = (\n",
    "    RunnablePassthrough()\n",
    "    | {\n",
    "        \"cv\": itemgetter(\"cv\") | cv_summarizer_chain\n",
    "    } | RunnablePassthrough()\n",
    "    | {\n",
    "        \"chat_history\": itemgetter(\"chat_history\"),\n",
    "        \"context\": itemgetter(\"context\"),\n",
    "        \"cv\": {\"cv\": itemgetter(\"cv\")} | retriever\n",
    "    } | RunnablePassthrough()\n",
    "    | qa_prompt\n",
    "    | llm\n",
    "    | {\n",
    "        \"answer\": StrOutputParser(),\n",
    "    }\n",
    ")\n",
    "\n",
    "\n"
   ]
  },
  {
   "cell_type": "code",
   "execution_count": 45,
   "metadata": {},
   "outputs": [],
   "source": [
    "from langchain_community.chat_message_histories import ChatMessageHistory\n",
    "from langchain_core.chat_history import BaseChatMessageHistory\n",
    "from langchain_core.runnables.history import RunnableWithMessageHistory\n",
    "from langchain_core.runnables import ConfigurableFieldSpec\n",
    "\n",
    "store = {}\n",
    "\n",
    "def get_session_history(session_id: str) -> BaseChatMessageHistory:\n",
    "    if session_id not in store:\n",
    "        store[session_id] = ChatMessageHistory()\n",
    "    return store[session_id]\n",
    "\n",
    "with_message_history = RunnableWithMessageHistory(\n",
    "    # cv_summarizer_prompt,\n",
    "    merged_rag_chain,\n",
    "    get_session_history = get_session_history,\n",
    "    input_messages_key=\"question\",\n",
    "    history_messages_key=\"chat_history\",\n",
    "    output_messages_key= \"answer\",\n",
    "    history_factory_config= [\n",
    "        ConfigurableFieldSpec (\n",
    "            id=\"session_id\",\n",
    "            annotation=str,\n",
    "            name=\"Session ID\",\n",
    "            description=\"Unique identifier for session.\",\n",
    "            default=\"\",\n",
    "            is_shared=True,\n",
    "        )\n",
    "    ],\n",
    ")"
   ]
  },
  {
   "cell_type": "code",
   "execution_count": 46,
   "metadata": {},
   "outputs": [
    {
     "ename": "KeyError",
     "evalue": "'cv'",
     "output_type": "error",
     "traceback": [
      "\u001b[1;31m---------------------------------------------------------------------------\u001b[0m",
      "\u001b[1;31mKeyError\u001b[0m                                  Traceback (most recent call last)",
      "Cell \u001b[1;32mIn[46], line 1\u001b[0m\n\u001b[1;32m----> 1\u001b[0m response \u001b[38;5;241m=\u001b[39m \u001b[43mwith_message_history\u001b[49m\u001b[38;5;241;43m.\u001b[39;49m\u001b[43minvoke\u001b[49m\u001b[43m(\u001b[49m\n\u001b[0;32m      2\u001b[0m \u001b[43m    \u001b[49m\u001b[43m{\u001b[49m\u001b[38;5;124;43m\"\u001b[39;49m\u001b[38;5;124;43mquestion\u001b[39;49m\u001b[38;5;124;43m\"\u001b[39;49m\u001b[43m:\u001b[49m\u001b[43m \u001b[49m\u001b[43mcv\u001b[49m\u001b[43m}\u001b[49m\u001b[43m,\u001b[49m\n\u001b[0;32m      3\u001b[0m \u001b[43m    \u001b[49m\u001b[43mconfig\u001b[49m\u001b[38;5;241;43m=\u001b[39;49m\u001b[43m{\u001b[49m\n\u001b[0;32m      4\u001b[0m \u001b[43m        \u001b[49m\u001b[38;5;124;43m\"\u001b[39;49m\u001b[38;5;124;43mconfigurable\u001b[39;49m\u001b[38;5;124;43m\"\u001b[39;49m\u001b[43m:\u001b[49m\u001b[43m \u001b[49m\u001b[43m{\u001b[49m\u001b[38;5;124;43m\"\u001b[39;49m\u001b[38;5;124;43msession_id\u001b[39;49m\u001b[38;5;124;43m\"\u001b[39;49m\u001b[43m:\u001b[49m\u001b[43m \u001b[49m\u001b[38;5;124;43m\"\u001b[39;49m\u001b[38;5;124;43mapa aja\u001b[39;49m\u001b[38;5;124;43m\"\u001b[39;49m\u001b[43m}\u001b[49m\n\u001b[0;32m      5\u001b[0m \u001b[43m    \u001b[49m\u001b[43m}\u001b[49m\u001b[43m,\u001b[49m\n\u001b[0;32m      6\u001b[0m \u001b[43m)\u001b[49m\n",
      "File \u001b[1;32mc:\\Users\\san\\miniconda3\\envs\\new_env\\lib\\site-packages\\langchain_core\\runnables\\base.py:5057\u001b[0m, in \u001b[0;36mRunnableBindingBase.invoke\u001b[1;34m(self, input, config, **kwargs)\u001b[0m\n\u001b[0;32m   5051\u001b[0m \u001b[38;5;28;01mdef\u001b[39;00m \u001b[38;5;21minvoke\u001b[39m(\n\u001b[0;32m   5052\u001b[0m     \u001b[38;5;28mself\u001b[39m,\n\u001b[0;32m   5053\u001b[0m     \u001b[38;5;28minput\u001b[39m: Input,\n\u001b[0;32m   5054\u001b[0m     config: Optional[RunnableConfig] \u001b[38;5;241m=\u001b[39m \u001b[38;5;28;01mNone\u001b[39;00m,\n\u001b[0;32m   5055\u001b[0m     \u001b[38;5;241m*\u001b[39m\u001b[38;5;241m*\u001b[39mkwargs: Optional[Any],\n\u001b[0;32m   5056\u001b[0m ) \u001b[38;5;241m-\u001b[39m\u001b[38;5;241m>\u001b[39m Output:\n\u001b[1;32m-> 5057\u001b[0m     \u001b[38;5;28;01mreturn\u001b[39;00m \u001b[38;5;28mself\u001b[39m\u001b[38;5;241m.\u001b[39mbound\u001b[38;5;241m.\u001b[39minvoke(\n\u001b[0;32m   5058\u001b[0m         \u001b[38;5;28minput\u001b[39m,\n\u001b[0;32m   5059\u001b[0m         \u001b[38;5;28mself\u001b[39m\u001b[38;5;241m.\u001b[39m_merge_configs(config),\n\u001b[0;32m   5060\u001b[0m         \u001b[38;5;241m*\u001b[39m\u001b[38;5;241m*\u001b[39m{\u001b[38;5;241m*\u001b[39m\u001b[38;5;241m*\u001b[39m\u001b[38;5;28mself\u001b[39m\u001b[38;5;241m.\u001b[39mkwargs, \u001b[38;5;241m*\u001b[39m\u001b[38;5;241m*\u001b[39mkwargs},\n\u001b[0;32m   5061\u001b[0m     )\n",
      "File \u001b[1;32mc:\\Users\\san\\miniconda3\\envs\\new_env\\lib\\site-packages\\langchain_core\\runnables\\base.py:5057\u001b[0m, in \u001b[0;36mRunnableBindingBase.invoke\u001b[1;34m(self, input, config, **kwargs)\u001b[0m\n\u001b[0;32m   5051\u001b[0m \u001b[38;5;28;01mdef\u001b[39;00m \u001b[38;5;21minvoke\u001b[39m(\n\u001b[0;32m   5052\u001b[0m     \u001b[38;5;28mself\u001b[39m,\n\u001b[0;32m   5053\u001b[0m     \u001b[38;5;28minput\u001b[39m: Input,\n\u001b[0;32m   5054\u001b[0m     config: Optional[RunnableConfig] \u001b[38;5;241m=\u001b[39m \u001b[38;5;28;01mNone\u001b[39;00m,\n\u001b[0;32m   5055\u001b[0m     \u001b[38;5;241m*\u001b[39m\u001b[38;5;241m*\u001b[39mkwargs: Optional[Any],\n\u001b[0;32m   5056\u001b[0m ) \u001b[38;5;241m-\u001b[39m\u001b[38;5;241m>\u001b[39m Output:\n\u001b[1;32m-> 5057\u001b[0m     \u001b[38;5;28;01mreturn\u001b[39;00m \u001b[38;5;28mself\u001b[39m\u001b[38;5;241m.\u001b[39mbound\u001b[38;5;241m.\u001b[39minvoke(\n\u001b[0;32m   5058\u001b[0m         \u001b[38;5;28minput\u001b[39m,\n\u001b[0;32m   5059\u001b[0m         \u001b[38;5;28mself\u001b[39m\u001b[38;5;241m.\u001b[39m_merge_configs(config),\n\u001b[0;32m   5060\u001b[0m         \u001b[38;5;241m*\u001b[39m\u001b[38;5;241m*\u001b[39m{\u001b[38;5;241m*\u001b[39m\u001b[38;5;241m*\u001b[39m\u001b[38;5;28mself\u001b[39m\u001b[38;5;241m.\u001b[39mkwargs, \u001b[38;5;241m*\u001b[39m\u001b[38;5;241m*\u001b[39mkwargs},\n\u001b[0;32m   5061\u001b[0m     )\n",
      "File \u001b[1;32mc:\\Users\\san\\miniconda3\\envs\\new_env\\lib\\site-packages\\langchain_core\\runnables\\base.py:2875\u001b[0m, in \u001b[0;36mRunnableSequence.invoke\u001b[1;34m(self, input, config, **kwargs)\u001b[0m\n\u001b[0;32m   2873\u001b[0m             \u001b[38;5;28minput\u001b[39m \u001b[38;5;241m=\u001b[39m step\u001b[38;5;241m.\u001b[39minvoke(\u001b[38;5;28minput\u001b[39m, config, \u001b[38;5;241m*\u001b[39m\u001b[38;5;241m*\u001b[39mkwargs)\n\u001b[0;32m   2874\u001b[0m         \u001b[38;5;28;01melse\u001b[39;00m:\n\u001b[1;32m-> 2875\u001b[0m             \u001b[38;5;28minput\u001b[39m \u001b[38;5;241m=\u001b[39m \u001b[43mstep\u001b[49m\u001b[38;5;241;43m.\u001b[39;49m\u001b[43minvoke\u001b[49m\u001b[43m(\u001b[49m\u001b[38;5;28;43minput\u001b[39;49m\u001b[43m,\u001b[49m\u001b[43m \u001b[49m\u001b[43mconfig\u001b[49m\u001b[43m)\u001b[49m\n\u001b[0;32m   2876\u001b[0m \u001b[38;5;66;03m# finish the root run\u001b[39;00m\n\u001b[0;32m   2877\u001b[0m \u001b[38;5;28;01mexcept\u001b[39;00m \u001b[38;5;167;01mBaseException\u001b[39;00m \u001b[38;5;28;01mas\u001b[39;00m e:\n",
      "File \u001b[1;32mc:\\Users\\san\\miniconda3\\envs\\new_env\\lib\\site-packages\\langchain_core\\runnables\\branch.py:239\u001b[0m, in \u001b[0;36mRunnableBranch.invoke\u001b[1;34m(self, input, config, **kwargs)\u001b[0m\n\u001b[0;32m    237\u001b[0m             \u001b[38;5;28;01mbreak\u001b[39;00m\n\u001b[0;32m    238\u001b[0m     \u001b[38;5;28;01melse\u001b[39;00m:\n\u001b[1;32m--> 239\u001b[0m         output \u001b[38;5;241m=\u001b[39m \u001b[38;5;28mself\u001b[39m\u001b[38;5;241m.\u001b[39mdefault\u001b[38;5;241m.\u001b[39minvoke(\n\u001b[0;32m    240\u001b[0m             \u001b[38;5;28minput\u001b[39m,\n\u001b[0;32m    241\u001b[0m             config\u001b[38;5;241m=\u001b[39mpatch_config(\n\u001b[0;32m    242\u001b[0m                 config, callbacks\u001b[38;5;241m=\u001b[39mrun_manager\u001b[38;5;241m.\u001b[39mget_child(tag\u001b[38;5;241m=\u001b[39m\u001b[38;5;124m\"\u001b[39m\u001b[38;5;124mbranch:default\u001b[39m\u001b[38;5;124m\"\u001b[39m)\n\u001b[0;32m    243\u001b[0m             ),\n\u001b[0;32m    244\u001b[0m             \u001b[38;5;241m*\u001b[39m\u001b[38;5;241m*\u001b[39mkwargs,\n\u001b[0;32m    245\u001b[0m         )\n\u001b[0;32m    246\u001b[0m \u001b[38;5;28;01mexcept\u001b[39;00m \u001b[38;5;167;01mBaseException\u001b[39;00m \u001b[38;5;28;01mas\u001b[39;00m e:\n\u001b[0;32m    247\u001b[0m     run_manager\u001b[38;5;241m.\u001b[39mon_chain_error(e)\n",
      "File \u001b[1;32mc:\\Users\\san\\miniconda3\\envs\\new_env\\lib\\site-packages\\langchain_core\\runnables\\base.py:5057\u001b[0m, in \u001b[0;36mRunnableBindingBase.invoke\u001b[1;34m(self, input, config, **kwargs)\u001b[0m\n\u001b[0;32m   5051\u001b[0m \u001b[38;5;28;01mdef\u001b[39;00m \u001b[38;5;21minvoke\u001b[39m(\n\u001b[0;32m   5052\u001b[0m     \u001b[38;5;28mself\u001b[39m,\n\u001b[0;32m   5053\u001b[0m     \u001b[38;5;28minput\u001b[39m: Input,\n\u001b[0;32m   5054\u001b[0m     config: Optional[RunnableConfig] \u001b[38;5;241m=\u001b[39m \u001b[38;5;28;01mNone\u001b[39;00m,\n\u001b[0;32m   5055\u001b[0m     \u001b[38;5;241m*\u001b[39m\u001b[38;5;241m*\u001b[39mkwargs: Optional[Any],\n\u001b[0;32m   5056\u001b[0m ) \u001b[38;5;241m-\u001b[39m\u001b[38;5;241m>\u001b[39m Output:\n\u001b[1;32m-> 5057\u001b[0m     \u001b[38;5;28;01mreturn\u001b[39;00m \u001b[38;5;28mself\u001b[39m\u001b[38;5;241m.\u001b[39mbound\u001b[38;5;241m.\u001b[39minvoke(\n\u001b[0;32m   5058\u001b[0m         \u001b[38;5;28minput\u001b[39m,\n\u001b[0;32m   5059\u001b[0m         \u001b[38;5;28mself\u001b[39m\u001b[38;5;241m.\u001b[39m_merge_configs(config),\n\u001b[0;32m   5060\u001b[0m         \u001b[38;5;241m*\u001b[39m\u001b[38;5;241m*\u001b[39m{\u001b[38;5;241m*\u001b[39m\u001b[38;5;241m*\u001b[39m\u001b[38;5;28mself\u001b[39m\u001b[38;5;241m.\u001b[39mkwargs, \u001b[38;5;241m*\u001b[39m\u001b[38;5;241m*\u001b[39mkwargs},\n\u001b[0;32m   5061\u001b[0m     )\n",
      "File \u001b[1;32mc:\\Users\\san\\miniconda3\\envs\\new_env\\lib\\site-packages\\langchain_core\\runnables\\base.py:2875\u001b[0m, in \u001b[0;36mRunnableSequence.invoke\u001b[1;34m(self, input, config, **kwargs)\u001b[0m\n\u001b[0;32m   2873\u001b[0m             \u001b[38;5;28minput\u001b[39m \u001b[38;5;241m=\u001b[39m step\u001b[38;5;241m.\u001b[39minvoke(\u001b[38;5;28minput\u001b[39m, config, \u001b[38;5;241m*\u001b[39m\u001b[38;5;241m*\u001b[39mkwargs)\n\u001b[0;32m   2874\u001b[0m         \u001b[38;5;28;01melse\u001b[39;00m:\n\u001b[1;32m-> 2875\u001b[0m             \u001b[38;5;28minput\u001b[39m \u001b[38;5;241m=\u001b[39m \u001b[43mstep\u001b[49m\u001b[38;5;241;43m.\u001b[39;49m\u001b[43minvoke\u001b[49m\u001b[43m(\u001b[49m\u001b[38;5;28;43minput\u001b[39;49m\u001b[43m,\u001b[49m\u001b[43m \u001b[49m\u001b[43mconfig\u001b[49m\u001b[43m)\u001b[49m\n\u001b[0;32m   2876\u001b[0m \u001b[38;5;66;03m# finish the root run\u001b[39;00m\n\u001b[0;32m   2877\u001b[0m \u001b[38;5;28;01mexcept\u001b[39;00m \u001b[38;5;167;01mBaseException\u001b[39;00m \u001b[38;5;28;01mas\u001b[39;00m e:\n",
      "File \u001b[1;32mc:\\Users\\san\\miniconda3\\envs\\new_env\\lib\\site-packages\\langchain_core\\runnables\\base.py:3562\u001b[0m, in \u001b[0;36mRunnableParallel.invoke\u001b[1;34m(self, input, config)\u001b[0m\n\u001b[0;32m   3549\u001b[0m     \u001b[38;5;28;01mwith\u001b[39;00m get_executor_for_config(config) \u001b[38;5;28;01mas\u001b[39;00m executor:\n\u001b[0;32m   3550\u001b[0m         futures \u001b[38;5;241m=\u001b[39m [\n\u001b[0;32m   3551\u001b[0m             executor\u001b[38;5;241m.\u001b[39msubmit(\n\u001b[0;32m   3552\u001b[0m                 step\u001b[38;5;241m.\u001b[39minvoke,\n\u001b[1;32m   (...)\u001b[0m\n\u001b[0;32m   3560\u001b[0m             \u001b[38;5;28;01mfor\u001b[39;00m key, step \u001b[38;5;129;01min\u001b[39;00m steps\u001b[38;5;241m.\u001b[39mitems()\n\u001b[0;32m   3561\u001b[0m         ]\n\u001b[1;32m-> 3562\u001b[0m         output \u001b[38;5;241m=\u001b[39m {key: future\u001b[38;5;241m.\u001b[39mresult() \u001b[38;5;28;01mfor\u001b[39;00m key, future \u001b[38;5;129;01min\u001b[39;00m \u001b[38;5;28mzip\u001b[39m(steps, futures)}\n\u001b[0;32m   3563\u001b[0m \u001b[38;5;66;03m# finish the root run\u001b[39;00m\n\u001b[0;32m   3564\u001b[0m \u001b[38;5;28;01mexcept\u001b[39;00m \u001b[38;5;167;01mBaseException\u001b[39;00m \u001b[38;5;28;01mas\u001b[39;00m e:\n",
      "File \u001b[1;32mc:\\Users\\san\\miniconda3\\envs\\new_env\\lib\\site-packages\\langchain_core\\runnables\\base.py:3562\u001b[0m, in \u001b[0;36m<dictcomp>\u001b[1;34m(.0)\u001b[0m\n\u001b[0;32m   3549\u001b[0m     \u001b[38;5;28;01mwith\u001b[39;00m get_executor_for_config(config) \u001b[38;5;28;01mas\u001b[39;00m executor:\n\u001b[0;32m   3550\u001b[0m         futures \u001b[38;5;241m=\u001b[39m [\n\u001b[0;32m   3551\u001b[0m             executor\u001b[38;5;241m.\u001b[39msubmit(\n\u001b[0;32m   3552\u001b[0m                 step\u001b[38;5;241m.\u001b[39minvoke,\n\u001b[1;32m   (...)\u001b[0m\n\u001b[0;32m   3560\u001b[0m             \u001b[38;5;28;01mfor\u001b[39;00m key, step \u001b[38;5;129;01min\u001b[39;00m steps\u001b[38;5;241m.\u001b[39mitems()\n\u001b[0;32m   3561\u001b[0m         ]\n\u001b[1;32m-> 3562\u001b[0m         output \u001b[38;5;241m=\u001b[39m {key: \u001b[43mfuture\u001b[49m\u001b[38;5;241;43m.\u001b[39;49m\u001b[43mresult\u001b[49m\u001b[43m(\u001b[49m\u001b[43m)\u001b[49m \u001b[38;5;28;01mfor\u001b[39;00m key, future \u001b[38;5;129;01min\u001b[39;00m \u001b[38;5;28mzip\u001b[39m(steps, futures)}\n\u001b[0;32m   3563\u001b[0m \u001b[38;5;66;03m# finish the root run\u001b[39;00m\n\u001b[0;32m   3564\u001b[0m \u001b[38;5;28;01mexcept\u001b[39;00m \u001b[38;5;167;01mBaseException\u001b[39;00m \u001b[38;5;28;01mas\u001b[39;00m e:\n",
      "File \u001b[1;32mc:\\Users\\san\\miniconda3\\envs\\new_env\\lib\\concurrent\\futures\\_base.py:446\u001b[0m, in \u001b[0;36mFuture.result\u001b[1;34m(self, timeout)\u001b[0m\n\u001b[0;32m    444\u001b[0m     \u001b[38;5;28;01mraise\u001b[39;00m CancelledError()\n\u001b[0;32m    445\u001b[0m \u001b[38;5;28;01melif\u001b[39;00m \u001b[38;5;28mself\u001b[39m\u001b[38;5;241m.\u001b[39m_state \u001b[38;5;241m==\u001b[39m FINISHED:\n\u001b[1;32m--> 446\u001b[0m     \u001b[38;5;28;01mreturn\u001b[39;00m \u001b[38;5;28;43mself\u001b[39;49m\u001b[38;5;241;43m.\u001b[39;49m\u001b[43m__get_result\u001b[49m\u001b[43m(\u001b[49m\u001b[43m)\u001b[49m\n\u001b[0;32m    447\u001b[0m \u001b[38;5;28;01melse\u001b[39;00m:\n\u001b[0;32m    448\u001b[0m     \u001b[38;5;28;01mraise\u001b[39;00m \u001b[38;5;167;01mTimeoutError\u001b[39;00m()\n",
      "File \u001b[1;32mc:\\Users\\san\\miniconda3\\envs\\new_env\\lib\\concurrent\\futures\\_base.py:391\u001b[0m, in \u001b[0;36mFuture.__get_result\u001b[1;34m(self)\u001b[0m\n\u001b[0;32m    389\u001b[0m \u001b[38;5;28;01mif\u001b[39;00m \u001b[38;5;28mself\u001b[39m\u001b[38;5;241m.\u001b[39m_exception:\n\u001b[0;32m    390\u001b[0m     \u001b[38;5;28;01mtry\u001b[39;00m:\n\u001b[1;32m--> 391\u001b[0m         \u001b[38;5;28;01mraise\u001b[39;00m \u001b[38;5;28mself\u001b[39m\u001b[38;5;241m.\u001b[39m_exception\n\u001b[0;32m    392\u001b[0m     \u001b[38;5;28;01mfinally\u001b[39;00m:\n\u001b[0;32m    393\u001b[0m         \u001b[38;5;66;03m# Break a reference cycle with the exception in self._exception\u001b[39;00m\n\u001b[0;32m    394\u001b[0m         \u001b[38;5;28mself\u001b[39m \u001b[38;5;241m=\u001b[39m \u001b[38;5;28;01mNone\u001b[39;00m\n",
      "File \u001b[1;32mc:\\Users\\san\\miniconda3\\envs\\new_env\\lib\\concurrent\\futures\\thread.py:58\u001b[0m, in \u001b[0;36m_WorkItem.run\u001b[1;34m(self)\u001b[0m\n\u001b[0;32m     55\u001b[0m     \u001b[38;5;28;01mreturn\u001b[39;00m\n\u001b[0;32m     57\u001b[0m \u001b[38;5;28;01mtry\u001b[39;00m:\n\u001b[1;32m---> 58\u001b[0m     result \u001b[38;5;241m=\u001b[39m \u001b[38;5;28mself\u001b[39m\u001b[38;5;241m.\u001b[39mfn(\u001b[38;5;241m*\u001b[39m\u001b[38;5;28mself\u001b[39m\u001b[38;5;241m.\u001b[39margs, \u001b[38;5;241m*\u001b[39m\u001b[38;5;241m*\u001b[39m\u001b[38;5;28mself\u001b[39m\u001b[38;5;241m.\u001b[39mkwargs)\n\u001b[0;32m     59\u001b[0m \u001b[38;5;28;01mexcept\u001b[39;00m \u001b[38;5;167;01mBaseException\u001b[39;00m \u001b[38;5;28;01mas\u001b[39;00m exc:\n\u001b[0;32m     60\u001b[0m     \u001b[38;5;28mself\u001b[39m\u001b[38;5;241m.\u001b[39mfuture\u001b[38;5;241m.\u001b[39mset_exception(exc)\n",
      "File \u001b[1;32mc:\\Users\\san\\miniconda3\\envs\\new_env\\lib\\site-packages\\langchain_core\\runnables\\base.py:2873\u001b[0m, in \u001b[0;36mRunnableSequence.invoke\u001b[1;34m(self, input, config, **kwargs)\u001b[0m\n\u001b[0;32m   2869\u001b[0m config \u001b[38;5;241m=\u001b[39m patch_config(\n\u001b[0;32m   2870\u001b[0m     config, callbacks\u001b[38;5;241m=\u001b[39mrun_manager\u001b[38;5;241m.\u001b[39mget_child(\u001b[38;5;124mf\u001b[39m\u001b[38;5;124m\"\u001b[39m\u001b[38;5;124mseq:step:\u001b[39m\u001b[38;5;132;01m{\u001b[39;00mi\u001b[38;5;241m+\u001b[39m\u001b[38;5;241m1\u001b[39m\u001b[38;5;132;01m}\u001b[39;00m\u001b[38;5;124m\"\u001b[39m)\n\u001b[0;32m   2871\u001b[0m )\n\u001b[0;32m   2872\u001b[0m \u001b[38;5;28;01mif\u001b[39;00m i \u001b[38;5;241m==\u001b[39m \u001b[38;5;241m0\u001b[39m:\n\u001b[1;32m-> 2873\u001b[0m     \u001b[38;5;28minput\u001b[39m \u001b[38;5;241m=\u001b[39m step\u001b[38;5;241m.\u001b[39minvoke(\u001b[38;5;28minput\u001b[39m, config, \u001b[38;5;241m*\u001b[39m\u001b[38;5;241m*\u001b[39mkwargs)\n\u001b[0;32m   2874\u001b[0m \u001b[38;5;28;01melse\u001b[39;00m:\n\u001b[0;32m   2875\u001b[0m     \u001b[38;5;28minput\u001b[39m \u001b[38;5;241m=\u001b[39m step\u001b[38;5;241m.\u001b[39minvoke(\u001b[38;5;28minput\u001b[39m, config)\n",
      "File \u001b[1;32mc:\\Users\\san\\miniconda3\\envs\\new_env\\lib\\site-packages\\langchain_core\\runnables\\base.py:4438\u001b[0m, in \u001b[0;36mRunnableLambda.invoke\u001b[1;34m(self, input, config, **kwargs)\u001b[0m\n\u001b[0;32m   4424\u001b[0m \u001b[38;5;250m\u001b[39m\u001b[38;5;124;03m\"\"\"Invoke this Runnable synchronously.\u001b[39;00m\n\u001b[0;32m   4425\u001b[0m \n\u001b[0;32m   4426\u001b[0m \u001b[38;5;124;03mArgs:\u001b[39;00m\n\u001b[1;32m   (...)\u001b[0m\n\u001b[0;32m   4435\u001b[0m \u001b[38;5;124;03m    TypeError: If the Runnable is a coroutine function.\u001b[39;00m\n\u001b[0;32m   4436\u001b[0m \u001b[38;5;124;03m\"\"\"\u001b[39;00m\n\u001b[0;32m   4437\u001b[0m \u001b[38;5;28;01mif\u001b[39;00m \u001b[38;5;28mhasattr\u001b[39m(\u001b[38;5;28mself\u001b[39m, \u001b[38;5;124m\"\u001b[39m\u001b[38;5;124mfunc\u001b[39m\u001b[38;5;124m\"\u001b[39m):\n\u001b[1;32m-> 4438\u001b[0m     \u001b[38;5;28;01mreturn\u001b[39;00m \u001b[38;5;28mself\u001b[39m\u001b[38;5;241m.\u001b[39m_call_with_config(\n\u001b[0;32m   4439\u001b[0m         \u001b[38;5;28mself\u001b[39m\u001b[38;5;241m.\u001b[39m_invoke,\n\u001b[0;32m   4440\u001b[0m         \u001b[38;5;28minput\u001b[39m,\n\u001b[0;32m   4441\u001b[0m         \u001b[38;5;28mself\u001b[39m\u001b[38;5;241m.\u001b[39m_config(config, \u001b[38;5;28mself\u001b[39m\u001b[38;5;241m.\u001b[39mfunc),\n\u001b[0;32m   4442\u001b[0m         \u001b[38;5;241m*\u001b[39m\u001b[38;5;241m*\u001b[39mkwargs,\n\u001b[0;32m   4443\u001b[0m     )\n\u001b[0;32m   4444\u001b[0m \u001b[38;5;28;01melse\u001b[39;00m:\n\u001b[0;32m   4445\u001b[0m     \u001b[38;5;28;01mraise\u001b[39;00m \u001b[38;5;167;01mTypeError\u001b[39;00m(\n\u001b[0;32m   4446\u001b[0m         \u001b[38;5;124m\"\u001b[39m\u001b[38;5;124mCannot invoke a coroutine function synchronously.\u001b[39m\u001b[38;5;124m\"\u001b[39m\n\u001b[0;32m   4447\u001b[0m         \u001b[38;5;124m\"\u001b[39m\u001b[38;5;124mUse `ainvoke` instead.\u001b[39m\u001b[38;5;124m\"\u001b[39m\n\u001b[0;32m   4448\u001b[0m     )\n",
      "File \u001b[1;32mc:\\Users\\san\\miniconda3\\envs\\new_env\\lib\\site-packages\\langchain_core\\runnables\\base.py:1784\u001b[0m, in \u001b[0;36mRunnable._call_with_config\u001b[1;34m(self, func, input, config, run_type, **kwargs)\u001b[0m\n\u001b[0;32m   1780\u001b[0m     context \u001b[38;5;241m=\u001b[39m copy_context()\n\u001b[0;32m   1781\u001b[0m     context\u001b[38;5;241m.\u001b[39mrun(_set_config_context, child_config)\n\u001b[0;32m   1782\u001b[0m     output \u001b[38;5;241m=\u001b[39m cast(\n\u001b[0;32m   1783\u001b[0m         Output,\n\u001b[1;32m-> 1784\u001b[0m         context\u001b[38;5;241m.\u001b[39mrun(\n\u001b[0;32m   1785\u001b[0m             call_func_with_variable_args,  \u001b[38;5;66;03m# type: ignore[arg-type]\u001b[39;00m\n\u001b[0;32m   1786\u001b[0m             func,  \u001b[38;5;66;03m# type: ignore[arg-type]\u001b[39;00m\n\u001b[0;32m   1787\u001b[0m             \u001b[38;5;28minput\u001b[39m,  \u001b[38;5;66;03m# type: ignore[arg-type]\u001b[39;00m\n\u001b[0;32m   1788\u001b[0m             config,\n\u001b[0;32m   1789\u001b[0m             run_manager,\n\u001b[0;32m   1790\u001b[0m             \u001b[38;5;241m*\u001b[39m\u001b[38;5;241m*\u001b[39mkwargs,\n\u001b[0;32m   1791\u001b[0m         ),\n\u001b[0;32m   1792\u001b[0m     )\n\u001b[0;32m   1793\u001b[0m \u001b[38;5;28;01mexcept\u001b[39;00m \u001b[38;5;167;01mBaseException\u001b[39;00m \u001b[38;5;28;01mas\u001b[39;00m e:\n\u001b[0;32m   1794\u001b[0m     run_manager\u001b[38;5;241m.\u001b[39mon_chain_error(e)\n",
      "File \u001b[1;32mc:\\Users\\san\\miniconda3\\envs\\new_env\\lib\\site-packages\\langchain_core\\runnables\\config.py:404\u001b[0m, in \u001b[0;36mcall_func_with_variable_args\u001b[1;34m(func, input, config, run_manager, **kwargs)\u001b[0m\n\u001b[0;32m    402\u001b[0m \u001b[38;5;28;01mif\u001b[39;00m run_manager \u001b[38;5;129;01mis\u001b[39;00m \u001b[38;5;129;01mnot\u001b[39;00m \u001b[38;5;28;01mNone\u001b[39;00m \u001b[38;5;129;01mand\u001b[39;00m accepts_run_manager(func):\n\u001b[0;32m    403\u001b[0m     kwargs[\u001b[38;5;124m\"\u001b[39m\u001b[38;5;124mrun_manager\u001b[39m\u001b[38;5;124m\"\u001b[39m] \u001b[38;5;241m=\u001b[39m run_manager\n\u001b[1;32m--> 404\u001b[0m \u001b[38;5;28;01mreturn\u001b[39;00m func(\u001b[38;5;28minput\u001b[39m, \u001b[38;5;241m*\u001b[39m\u001b[38;5;241m*\u001b[39mkwargs)\n",
      "File \u001b[1;32mc:\\Users\\san\\miniconda3\\envs\\new_env\\lib\\site-packages\\langchain_core\\runnables\\base.py:4294\u001b[0m, in \u001b[0;36mRunnableLambda._invoke\u001b[1;34m(self, input, run_manager, config, **kwargs)\u001b[0m\n\u001b[0;32m   4292\u001b[0m                 output \u001b[38;5;241m=\u001b[39m chunk\n\u001b[0;32m   4293\u001b[0m \u001b[38;5;28;01melse\u001b[39;00m:\n\u001b[1;32m-> 4294\u001b[0m     output \u001b[38;5;241m=\u001b[39m call_func_with_variable_args(\n\u001b[0;32m   4295\u001b[0m         \u001b[38;5;28mself\u001b[39m\u001b[38;5;241m.\u001b[39mfunc, \u001b[38;5;28minput\u001b[39m, config, run_manager, \u001b[38;5;241m*\u001b[39m\u001b[38;5;241m*\u001b[39mkwargs\n\u001b[0;32m   4296\u001b[0m     )\n\u001b[0;32m   4297\u001b[0m \u001b[38;5;66;03m# If the output is a Runnable, invoke it\u001b[39;00m\n\u001b[0;32m   4298\u001b[0m \u001b[38;5;28;01mif\u001b[39;00m \u001b[38;5;28misinstance\u001b[39m(output, Runnable):\n",
      "File \u001b[1;32mc:\\Users\\san\\miniconda3\\envs\\new_env\\lib\\site-packages\\langchain_core\\runnables\\config.py:404\u001b[0m, in \u001b[0;36mcall_func_with_variable_args\u001b[1;34m(func, input, config, run_manager, **kwargs)\u001b[0m\n\u001b[0;32m    402\u001b[0m \u001b[38;5;28;01mif\u001b[39;00m run_manager \u001b[38;5;129;01mis\u001b[39;00m \u001b[38;5;129;01mnot\u001b[39;00m \u001b[38;5;28;01mNone\u001b[39;00m \u001b[38;5;129;01mand\u001b[39;00m accepts_run_manager(func):\n\u001b[0;32m    403\u001b[0m     kwargs[\u001b[38;5;124m\"\u001b[39m\u001b[38;5;124mrun_manager\u001b[39m\u001b[38;5;124m\"\u001b[39m] \u001b[38;5;241m=\u001b[39m run_manager\n\u001b[1;32m--> 404\u001b[0m \u001b[38;5;28;01mreturn\u001b[39;00m func(\u001b[38;5;28minput\u001b[39m, \u001b[38;5;241m*\u001b[39m\u001b[38;5;241m*\u001b[39mkwargs)\n",
      "\u001b[1;31mKeyError\u001b[0m: 'cv'"
     ]
    }
   ],
   "source": [
    "response = with_message_history.invoke(\n",
    "    {\"question\": cv},\n",
    "    config={\n",
    "        \"configurable\": {\"session_id\": \"apa aja\"}\n",
    "    },\n",
    ")"
   ]
  },
  {
   "cell_type": "code",
   "execution_count": 39,
   "metadata": {},
   "outputs": [
    {
     "name": "stdout",
     "output_type": "stream",
     "text": [
      "1. The current job listing includes the following positions:\n",
      "- Marketing Technology Lead - Marketing Automation Product Manager\n",
      "- FCC Transaction Monitoring Officer\n",
      "- Software Engineer\n",
      "\n",
      "2. Key areas of alignment between the user's CV/resume and the job listing:\n",
      "- The user's experience as a Data Scientist Intern at OCBC Indonesia aligns with the job listing for Marketing Technology Lead - Marketing Automation Product Manager, as they have experience developing AI-powered chatbots and implementing retrieval systems.\n",
      "- The user's experience as an Artificial Intelligence Intern at BMKG aligns with the job listing for Software Engineer, as they have experience creating web monitoring dashboards and developing models for refining predictions.\n",
      "- The user's experience as a Data Analyst Intern at PFI Mega Life aligns with the job listing for Marketing Technology Lead - Marketing Automation Product Manager, as they have experience integrating sentiment analysis and conducting sentiment analysis on CRM posts.\n",
      "\n",
      "3. The job listing for Marketing Technology Lead - Marketing Automation Product Manager matches the user's skills and experience. They have relevant experience in developing AI-powered chatbots, implementing retrieval systems, creating web monitoring dashboards, and conducting sentiment analysis, which aligns with the responsibilities of the role.\n"
     ]
    }
   ],
   "source": [
    "print(response[\"answer\"])"
   ]
  },
  {
   "cell_type": "code",
   "execution_count": 65,
   "metadata": {},
   "outputs": [
    {
     "name": "stdout",
     "output_type": "stream",
     "text": [
      "{'apa aja': InMemoryChatMessageHistory(messages=[HumanMessage(content=\"IHSAN FATHYA\\n 081283576216 | ihsanfathya@gmail.com | https://www.linkedin.com/in/ihsan-fathya/ | https://github.com/ihsaan31\\n Bogor, Jawa Barat\\n I'm an 8th-semester student with a genuine passion for technology, specifically in machine learning and Data Science. Drawing from a \\nsolid background in computer science and programming, I've developed a keen interest in utilizing Python to address complex problems \\nand create innovative solutions.\\n Work Experiences\\n OCBC Indonesia -  Bsd, Tangerang Jun 2024 - Present\\n Data Scientist Intern\\n Oversea-Chinese Banking Corporation Limited (OCBC) is a Singaporean multinational banking and financial services corporation that \\nprovides a range of services to individuals, businesses, government agencies, and financial institutions.\\n AI Compliance Chat Bot\\n Developed a robust AI-powered compliance chatbot that integrates the regulatory frameworks of OJK, BI, and Sikepo. Leveraged \\nLangChain to design and implement custom AI chains tailored for various tasks, including question routing, contextualization, and \\nthe generation of combined responses from multiple sources.\\n Designed custom prompts and templates to optimize the performance of the AI models. These include templates for contextualizing \\nquestions, generating system responses, and creating combined answers by synthesizing data from multiple regulatory bodies.\\n Implemented retrieval systems using various index managers (ElasticSearch, Redis) and graph databases (Neo4j) to fetch and \\nmerge relevant information, optimizing the accuracy of AI responses.\\n FastAPI Development and API Integration\\n Designed and implemented a RESTful API using FastAPI, enabling efficient communication between the front-end and backend \\nservices.\\n Implemented real-time data streaming using 'StreamingResponse', allowing continuous delivery from LangChain.\\n BMKG | Badan Meteorologi, Klimatologi, dan Geofisika -  \\nJakarta Pusat\\n Oct 2023 - Dec 2023\\n Artificial Intelligence Intern\\n BMKG, based in Jakarta Pusat, is a key governmental organization in Indonesia. It plays a crucial role by providing essential information \\nin meteorology, climatology, and geophysics. BMKG's services are integral to various sectors, including agriculture, transportation, \\ndisaster management, and public safety.\\n Model Monitoring Dashboard\\n Created a comprehensive web monitoring dashboard using Dash Plotly to evaluate and visualize model performance metrics \\neffectively.\\n Developed a separate monitoring dashboard utilizing Looker Studio, enhancing accessibility and usability.\\n AI Modeling\\n Applied Python extensively for AI modeling, including the conversion of an existing R model to Python resulting 10% improvment in \\naccuracy.\\n Developed and implemented a model for refining Numerical Weather Prediction using various machine learning algorithms, \\nincluding Scikit-Learn and TensorFlow achieving 77% accuracy.\\n PFI mega life -  Jakarta Selatan Feb 2023 - Jun 2023\\n Data Analyst Intern\\n PT PFI Mega Life Insurance is a joint venture with a new structure that combines the global expertise of Prudential Financial Inc. with the \\nlocal market network strength of CT Corpora. PFI Mega Life provides a complete range of life insurance products to serve customers with \\na wide range, from large corporations to individuals.\\n Leads Segmentation\\n Integrated sentiment analysis and demographic results into leads segmentation, providing a nuanced understanding of leads \\nengagement.\\n Implemented K-means clustering algorithm for leads segmentation into distinct clusters.\\n Sentiment Analysis\\n Conducted sentiment analysis on a dataset of 6,000 Activity Content from CRM posts using Python and various libraries, including  \\nNLTK, Sastrawi, pandas, numpy, matplotlib, and seaborn.\\n Utilized the pre-trained Indonesia BERT model for sentiment analysis, resulting in a 10% increase in accuracy compared to \\ntraditional methods.\\n Applied the model to categorize Activity Content into positive, neutral, or negative sentiments.\\n Scrape LinkedIn Profile\\n Executed a web scraping initiative using Beautiful Soup and Selenium in Python, successfully extracting over 14,000 leads from \\nLinkedIn and search engine results, exceeding the initial target by 30%.\\n Successfully navigated through LinkedIn profiles to capture demographic details, encompassing education information, current job \\nroles, and past experience.\\n Executed data extraction techniques to compile an Excel output file, streamlining the analysis of acquired leads.\\n Education Level\\n Universitas Gunadarma - Depok, Jawa Barat Aug 2020 - Sep 2024 (Expected)\\n Bachelor Degree in Informatics Engineering, 3.41/4.00\\n Skills, Achievements & Other Experience\\n Certification (2021): Machine Learning  (Dicoding)\\n Certification (2022): EF SET English Certificate 78/100 (C2 Proficient)\\n Certification (2023): AI-900 - Microsoft Azure AI Fundamentals\\n Certification (2023): Codecademy Data Scientist: Analytics Specialist Career Path\\n Certification (2023): Codecademy Data Scientist: Inference Specialist Career Path\\n Certification (2024): Codecademy Data Scientist: Machine Learning Specialist Career Pat\"), AIMessage(content=\"1. Key areas of alignment between the user's CV/resume and the job listing include:\\n- Experience in developing AI-powered chatbots, implementing retrieval systems, and creating web monitoring dashboards aligns with the requirement for experience in project management and collaboration with IT teams.\\n- Skills in Python, Machine Learning, Data Science, AI, and various libraries and frameworks align with the requirement for knowledge in marketing automation platforms, CMS, and marketing analytics.\\n- Experience in sentiment analysis and web scraping aligns with the requirement for experience in data analysis and integration of data systems.\\n\\nGaps between the user's CV/resume and the job listing include:\\n- The job listing mentions specific platforms and tools related to marketing automation and digital marketing that are not mentioned in the user's CV/resume.\\n- The job listing emphasizes project management and collaboration with various teams, while the user's CV/resume does not explicitly mention experience in these areas.\\n\\n2. The job does not match the user's skills and experience completely. While the user has relevant experience in data science, AI, and web scraping, there are specific requirements related to marketing automation platforms and project management that are not mentioned in the user's CV/resume. However, the user's skills in Python, Machine Learning, and Data Science could be transferable to the role, and their experience in developing AI-powered chatbots and implementing retrieval systems could be valuable in a marketing technology role.\")])}\n"
     ]
    }
   ],
   "source": [
    "print(store)"
   ]
  }
 ],
 "metadata": {
  "kernelspec": {
   "display_name": "ocbc_env",
   "language": "python",
   "name": "python3"
  },
  "language_info": {
   "codemirror_mode": {
    "name": "ipython",
    "version": 3
   },
   "file_extension": ".py",
   "mimetype": "text/x-python",
   "name": "python",
   "nbconvert_exporter": "python",
   "pygments_lexer": "ipython3",
   "version": "3.9.19"
  }
 },
 "nbformat": 4,
 "nbformat_minor": 2
}
