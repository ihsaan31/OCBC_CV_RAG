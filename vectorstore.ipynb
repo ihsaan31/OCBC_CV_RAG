{
 "cells": [
  {
   "cell_type": "code",
   "execution_count": 1,
   "metadata": {},
   "outputs": [
    {
     "name": "stderr",
     "output_type": "stream",
     "text": [
      "USER_AGENT environment variable not set, consider setting it to identify your requests.\n",
      "c:\\Users\\san\\miniconda3\\envs\\new_env\\lib\\site-packages\\pinecone\\data\\index.py:1: TqdmWarning: IProgress not found. Please update jupyter and ipywidgets. See https://ipywidgets.readthedocs.io/en/stable/user_install.html\n",
      "  from tqdm.autonotebook import tqdm\n"
     ]
    },
    {
     "data": {
      "text/plain": [
       "True"
      ]
     },
     "execution_count": 1,
     "metadata": {},
     "output_type": "execute_result"
    }
   ],
   "source": [
    "from langchain import hub\n",
    "from langchain_chroma import Chroma\n",
    "from langchain_community.document_loaders import WebBaseLoader\n",
    "from langchain_core.output_parsers import StrOutputParser\n",
    "from langchain_core.runnables import RunnablePassthrough\n",
    "from langchain_openai import OpenAIEmbeddings\n",
    "from langchain_text_splitters import RecursiveCharacterTextSplitter, CharacterTextSplitter,TokenTextSplitter\n",
    "from langchain_community.document_loaders import PyPDFLoader\n",
    "from langchain_openai import AzureChatOpenAI, AzureOpenAIEmbeddings\n",
    "import os\n",
    "from pinecone import Pinecone, ServerlessSpec\n",
    "from langchain_pinecone import PineconeVectorStore\n",
    "from uuid import uuid4\n",
    "from dotenv import load_dotenv\n",
    "load_dotenv()"
   ]
  },
  {
   "cell_type": "code",
   "execution_count": 2,
   "metadata": {},
   "outputs": [],
   "source": [
    "AZURE_OPENAI_ENDPOINT = os.getenv('AZURE_OPENAI_ENDPOINT')\n",
    "AZURE_OPENAI_DEPLOYMENT_ID = os.getenv('AZURE_OPENAI_DEPLOYMENT_ID')\n",
    "AZURE_OPENAI_KEY = os.getenv('AZURE_OPENAI_KEY')\n",
    "AZURE_API_VERSION = os.getenv('AZURE_API_VERSION')\n",
    "PINECONE_API_KEY = os.getenv('PINECONE_API_KEY')\n",
    "pc = Pinecone(api_key=PINECONE_API_KEY)"
   ]
  },
  {
   "cell_type": "code",
   "execution_count": 3,
   "metadata": {},
   "outputs": [],
   "source": [
    "llm = AzureChatOpenAI(\n",
    "            azure_endpoint=AZURE_OPENAI_ENDPOINT,\n",
    "            azure_deployment=AZURE_OPENAI_DEPLOYMENT_ID,\n",
    "            api_version=AZURE_API_VERSION,\n",
    "            api_key=AZURE_OPENAI_KEY,\n",
    "            temperature=0.0,\n",
    "            verbose=True,\n",
    "        )\n",
    "\n",
    "embedding_llm = AzureOpenAIEmbeddings(\n",
    "            azure_endpoint=AZURE_OPENAI_ENDPOINT,\n",
    "            azure_deployment='embedding-ada-crayon',\n",
    "            api_key=AZURE_OPENAI_KEY,\n",
    "            api_version=AZURE_API_VERSION,\n",
    "        )"
   ]
  },
  {
   "cell_type": "markdown",
   "metadata": {},
   "source": [
    "# using code base setting for uploading to pinecone"
   ]
  },
  {
   "cell_type": "code",
   "execution_count": 4,
   "metadata": {},
   "outputs": [],
   "source": [
    "import time\n",
    "\n",
    "index_name = \"ocbc-cv-gpt\"  # change if desired\n",
    "\n",
    "existing_indexes = [index_info[\"name\"] for index_info in pc.list_indexes()]\n",
    "\n",
    "if index_name not in existing_indexes:\n",
    "    pc.create_index(\n",
    "        name=index_name,\n",
    "        dimension=1536,\n",
    "        metric=\"cosine\",\n",
    "        spec=ServerlessSpec(cloud=\"aws\", region=\"us-east-1\"),\n",
    "    )\n",
    "    while not pc.describe_index(index_name).status[\"ready\"]:\n",
    "        time.sleep(1)\n",
    "\n",
    "index = pc.Index(index_name)"
   ]
  },
  {
   "cell_type": "code",
   "execution_count": 5,
   "metadata": {},
   "outputs": [],
   "source": [
    "index_name = \"ocbc-cv-gpt\"  # change if desired\n",
    "index = pc.Index(index_name)"
   ]
  },
  {
   "cell_type": "code",
   "execution_count": 6,
   "metadata": {},
   "outputs": [],
   "source": [
    "import os\n",
    "from langchain_community.document_loaders import Docx2txtLoader\n",
    "from langchain_community.document_loaders import UnstructuredWordDocumentLoader\n",
    "\n",
    "# Folder containing the DOCX files\n",
    "folder_path = r\"C:\\Users\\san\\Documents\\Documents\\OCBC\\Github_ocbc_workspace\\OCBC_CV_RAG\\job_pdf\"\n",
    "\n",
    "# Get a list of all DOCX files in the folder\n",
    "docx_files = [os.path.join(folder_path, file) for file in os.listdir(folder_path) if file.endswith('.docx')]\n",
    "\n",
    "all_pages = []\n",
    "\n",
    "for docx_file in docx_files:\n",
    "    loader = UnstructuredWordDocumentLoader(docx_file)\n",
    "    pages = loader.load_and_split()\n",
    "    all_pages.extend(pages)  # Combine all pages into a single list\n",
    "\n",
    "# Now, 'all_pages' contains the split pages from all the DOCX files in the folder\n"
   ]
  },
  {
   "cell_type": "code",
   "execution_count": 7,
   "metadata": {},
   "outputs": [
    {
     "data": {
      "text/plain": [
       "[Document(metadata={'source': 'C:\\\\Users\\\\san\\\\Documents\\\\Documents\\\\OCBC\\\\Github_ocbc_workspace\\\\OCBC_CV_RAG\\\\job_pdf\\\\JD ON_Software_Engineer 1.docx'}, page_content='Job Description\\n\\nDATA JABATAN :\\n\\nJOB ID OPS540, OPS489, OPS536,OPS519,OPS526 NAMA JABATAN Software Engineer GRUP Operations & Technology REPORT TO POSITION Platform Lead Engineer FUNGSI UTAMA Menjalankan proses development, testing dan release sistem teknologi informasi sesuai dengan pedoman Agile Devops untuk memberikan value bisnis, serta memastikan kualitas deliverables secara konsisten dilaksanakan dengan penuh tanggungjawab\\n\\nTANGGUNG JAWAB/ TUGAS POKOK PEKERJAAN\\n\\nMemastikan penggunaan framework yang telah ditetapkan dalam pelaksanaan project dengan tetap mengacu pada Peraturan OJK sebagai landasan utama.\\n\\nMelaksanakan swakelola dan bekerja lintas fungsi dalam menyelesaikan pekerjaan sesuai backlog yang telah ditentukan.\\n\\nMenghasilkan produk bernilai lebih melalui proses development, testing, dan release yang memadai.\\n\\nBersama-sama membangun lingkaran kepercayaan dan keamanan/kenyamanan tim developer, dan memastikan bahwa masalah dapat diangkat tanpa takut disalahkan atau dibebankan ataupun dihakimi, dengan penekanan pada perbaikan proses dan penyelesaian masalah.\\n\\nMengutamakan diskusi dan kolaborasi dalam, pengambilan keputusan, resolusi konflik dan menyelesaikan pekerjaan tanpa paksaan ataupun penugasan ataupun didikte.\\n\\nMembantu komunikasi internal dan eksternal, meningkatkan transparansi, dan mengkomunikasikan informasi.\\n\\nSecara efektif dan efisien menerapkan pillar, values, event dan artifact yang telah ditetapkan dalam framework pengembangan sistem teknologi informasi.\\n\\nMemastikan pengelolaan risiko (risk identification, risk assessment, risk treatment, & risk evaluation) sudah dilakukan sesuai dgn risk management yg berlaku di Bank.\\n\\nBerfungsi sebagai application  maintenance, untuk menyelesaikan temuan bugs / defect yang dilaporkan baik oleh user, PO maupun yang ditemukan internal squad.\\n\\nMemastikan data dan dokumentasi terkait proses development, testing dan release dibuat dan disimpan secara memadai.\\n\\nMemastikan telah dilaksanakannya segregation of duties dengan tepat dalam proses development, testing dan release.\\n\\nKEWENANGAN\\n\\nSesuai dengan Kewenangan yang dimandatkan berdasarkan Kebijakan/Prosedur Bank, SK/SE Direksi, Surat Kuasa Direksi atau Memo Internal yang berlaku.\\n\\nKUALIFIKASI JABATAN :\\n\\nPendidikan Formal Minimum S1 Teknik Informatika/Sistem Informasi/Teknik Elektro (atau lebih rendah dengan pengalaman) Pengalaman Kerja minimum 1 tahun di bidang IT Programming/Developer atau Fresh Graduate Kompetensi & Budaya Organisasi Competency: Leading courageously Adaptability Building talent Fostering collaboration Risk awareness Customer experience Strategic thinking Core Values: Bring out the best in each other !ntegrity Strive for excellence Act progressively\\n\\nNama Divisi/Tanggal terakhir diperbaharui : Hal 1 dari 1'),\n",
       " Document(metadata={'source': 'C:\\\\Users\\\\san\\\\Documents\\\\Documents\\\\OCBC\\\\Github_ocbc_workspace\\\\OCBC_CV_RAG\\\\job_pdf\\\\Lifestyle Credit Management Specialist.docx'}, page_content='DATA JABATAN :\\n\\nJOB ID NAMA JABATAN Lifestyle Strategic Merchant Acquisition – Acquiring Business GRUP Retail Banking REPORT TO POSITION Lifestyle Partnership & Portfolio Management Head FUNGSI UTAMA Dapat mengoptimalkan dan implementasi dengan baik terhadap  strategi yang sudah di tetapkan dengan menyelaraskan potensi kerjasama dengan beragam merchant baik dari sisi promosi ataupun mengutilisasi data base konsumen dari merchant untuk menjadi nasabah OCBC NISP.\\n\\nTANGGUNG JAWAB/ TUGAS POKOK PEKERJAAN\\n\\n1. Mengidentifikasi potensial merchant dan membangun kerjasama strategis sesuaikan dengan strategi.\\n\\n2. Memahami portofolio bisnis merchant untuk dapat mempertahankan dan mengembangkan kerjasama dengan partner yang sudah ada dalam upaya membangun ekosistem yang lebih berkesinambungan.\\n\\n4. Kolaborasi dengan beragam unit di OCBC NISP dalam upaya memaksimalkan potensi yang ada. \\n\\n5. Memantau performa merchant dan melakukan review berkala di sertai dengan rencana kerja yang terarah dan terukur untuk memaksimalkan potensi penggunaan di merchant.\\n\\n7. Berkoordinasi dengan tim Manajemen Risiko mengenai pengendalian risiko Merchant Acquiring Business\\n\\n8. Memastikan kelengkapan kerja sama/Confirmation letter dan koordinasi dengan unit terkait sudah di jalankan dengan baik agar performa yang di harapkan dapat lebih optimal\\n\\n9. Memitigasi potensi keluhan nasabah dengan cara memastikan semua komunikasi yang di berikan jelas dan sudah mencakup semua aspek kebutuhan nasabah  \\n\\nKUALIFIKASI JABATAN :\\n\\nMin. S1 dari berbagai jurusan\\n\\nMin 3-4 tahun pengalaman diindustri perbankan\\n\\nMemiliki pengetahuan, pengalaman dan pemahaman yang baik di Bisnis Acquiring kartu kredit dan KTA\\n\\nMemiliki skill komunikasi dan presentasi yang baik\\n\\nMampu berkolaborasi dengan team yang terlibat\\n\\nMemiliki pengetahuan yang baik mengenai budgeting, proses dan kebijakan kredit, system implementasi.'),\n",
       " Document(metadata={'source': 'C:\\\\Users\\\\san\\\\Documents\\\\Documents\\\\OCBC\\\\Github_ocbc_workspace\\\\OCBC_CV_RAG\\\\job_pdf\\\\Lifestyle Portfolio Credit Card Specialist.docx'}, page_content='Job Description\\n\\nLifestyle Portfolio Specialist \\n\\nJob Description: \\n\\nMeningkatkan jumlah nasabah aktif bertransaksi, meningkatkan rata rata penggunaan dan memaksimalkan potensi berdasarkan katagori segmentasi nasabah.\\n\\nTo Increase number of active customers in making transactions, increase average usage and maximize potential based on customer segmentation categories.\\n\\nMengedukasi dan memaksimalkan potensi penggunaan bagi nasabah aktif dengan mengkolaborasikan penawaran dari portfolio dengan penawaran partnership yang di sesuaikan berdasarkan data historis penggunaan nasabah.\\n\\nMengoptimalkan program kenaikan limit - CLI (Credit Limit Increase) untuk memitigasi berkurangnya potensi penggunaan.\\n\\nSecara berkala melakukan inisiatif “upgrade” kartu bagi nasabah yg berpotensi sehingga rata rata penggunaan nasabah tersebut dapat di maksimalkan.\\n\\nMemastikan semua keluhan dan permintaan nasabah terkait program portfolio diselesaikan tepat waktu dan sesuai ketentuan yang berlaku.\\n\\nBerkoordinasi dengan unit-unit terkait (Operation, Risk, IT, BPM, ADM, dll) dalam memberikan usulan-usulan pengembangan program/inisiatif baru dan proses baru untuk menjaga performance nasabah, dengan melakukan identifikasi atas kendala kendala yang terjadi di lapangan.\\n\\nRequirements: \\n\\nMinimum S1 dari berbagai jurusan\\n\\nMemiliki latar belakang pekerjaan di bidang Portfolio, Risk atau Data Analysis min 3 tahun\\n\\nMemiliki analytical thinking yang baik dan resilient\\n\\nKomunikasi skill yang baik dalam berkoordinasi dengan tim dan diluar tim\\n\\nNama Divisi/Tgl terkahir diperbaharui: Customer Solutions Retail Loan Division/23 Maret 2021 Hal 1 dari 1'),\n",
       " Document(metadata={'source': 'C:\\\\Users\\\\san\\\\Documents\\\\Documents\\\\OCBC\\\\Github_ocbc_workspace\\\\OCBC_CV_RAG\\\\job_pdf\\\\Lifestyle Strategic Merchant Acquisition - Acquiring Business.docx'}, page_content='DATA JABATAN :\\n\\nJOB ID NAMA JABATAN Lifestyle Strategic Merchant Acquisition – Acquiring Business GRUP Retail Banking REPORT TO POSITION Lifestyle Partnership & Portfolio Management Head FUNGSI UTAMA Dapat mengoptimalkan dan implementasi dengan baik terhadap  strategi yang sudah di tetapkan dengan menyelaraskan potensi kerjasama dengan beragam merchant baik dari sisi promosi ataupun mengutilisasi data base konsumen dari merchant untuk menjadi nasabah OCBC NISP.\\n\\nTANGGUNG JAWAB/ TUGAS POKOK PEKERJAAN\\n\\n1. Mengidentifikasi potensial merchant dan membangun kerjasama strategis sesuaikan dengan strategi.\\n\\n2. Memahami portofolio bisnis merchant untuk dapat mempertahankan dan mengembangkan kerjasama dengan partner yang sudah ada dalam upaya membangun ekosistem yang lebih berkesinambungan.\\n\\n4. Kolaborasi dengan beragam unit di OCBC NISP dalam upaya memaksimalkan potensi yang ada. \\n\\n5. Memantau performa merchant dan melakukan review berkala di sertai dengan rencana kerja yang terarah dan terukur untuk memaksimalkan potensi penggunaan di merchant.\\n\\n7. Berkoordinasi dengan tim Manajemen Risiko mengenai pengendalian risiko Merchant Acquiring Business\\n\\n8. Memastikan kelengkapan kerja sama/Confirmation letter dan koordinasi dengan unit terkait sudah di jalankan dengan baik agar performa yang di harapkan dapat lebih optimal\\n\\n9. Memitigasi potensi keluhan nasabah dengan cara memastikan semua komunikasi yang di berikan jelas dan sudah mencakup semua aspek kebutuhan nasabah  \\n\\nKUALIFIKASI JABATAN :\\n\\nMin. S1 dari berbagai jurusan\\n\\nMin. 3-4 tahun pengalaman dalam bidang bisnis acquiring kartu kredit dan KTA\\n\\nMemiliki pengetahuan dan pemahaman yang baik dalam bisnis acquiring kartu kredit dan KTA\\n\\nMemiliki pengalaman dalam bisnis acquiring\\n\\nMemiliki skill komunikasi dan presentasi\\n\\nMampu berkolaborasi dengan team yang terkait'),\n",
       " Document(metadata={'source': 'C:\\\\Users\\\\san\\\\Documents\\\\Documents\\\\OCBC\\\\Github_ocbc_workspace\\\\OCBC_CV_RAG\\\\job_pdf\\\\Marketing Technology Lead.docx'}, page_content='Nama Posisi\\xa0\\xa0\\xa0\\xa0\\xa0\\xa0 : Marketing Technology Lead – Marketing Automation Product Manager\\n\\nDivisi\\xa0\\xa0\\xa0\\xa0\\xa0\\xa0\\xa0\\xa0\\xa0\\xa0\\xa0\\xa0\\xa0\\xa0\\xa0\\xa0\\xa0\\xa0 : Marketing & Lifestyle Business \\n\\nLocation \\xa0\\xa0\\xa0\\xa0\\xa0\\xa0\\xa0\\xa0\\xa0\\xa0\\xa0\\xa0 : Tangerang – BSD \\n\\nJob Descriptions: \\n\\nBertanggung jawab atas penggunaan platform marketing automation serta platform marketing yang terkait lainnya secara menyeluruh, termasuk (namun tidak terbatas) dari awal pengadaan, pembaruan kontrak (dengan pihak ketiga seperti vendor), pengembangan atau perbaikan dengan pelibatan bersama tim IT, hingga memastikan adanya optimasi penggunaan budget sesuai dengan yang dialokasikan.\\n\\nBertanggung jawab sebagai pemimpin serta pemandu tim marketing technology dalam menggunakan platform marketing automation dan platform marketing yang terkait lainnya sehingga bisa memastikan agar utilisasinya berfungsi dengan baik serta maksimal untuk mendukung pencapaian target & KPI department marketing & lifestyle business secara khusus & bank secara garis besar.\\n\\nBertanggung jawab sebagai jembatan koordinasi tim marketing technology dan bermitra dengan unit kerja terkait, seperti (namun tidak terbatas) dengan tim IT, tim IT security, tim risk management, dan lain-lain sehingga upaya penggunaan platform marketing technology yang digunakan bisa digunakan semaksimal mungkin untuk mendukung pencapaian & pertumbuhan bisnis bank.\\n\\nBertanggung jawab pada setiap jalannya proyek pengadaan, perbaikan, & pengembangan platform marketing technology baik sifatnya diminta, regular/BAU (business as usual), maupun inisiatif, yaitu dengan memastikan agar setiap proyek tersebut harus dijalankan sesuai spesifikasi, biaya/budget, tepat waktu, tepat guna & tepat sasaran atas target yang diberikan/ditentukan/disepakati bersama.\\n\\nBertanggung jawab pada setiap inovasi pada platform marketing technology yang digunakan sehingga dapat digunakan untuk meningkatkan efisiensi tim pemasaran, yaitu dengan terus mengikuti, mengadaptasi serta menguji teknologi-teknologi baru tersebut, lalu dibangun dan digunakan untuk mendukung pencapaian target department marketing & lifestyle business secara khusus dan pertumbuhan bisnis bank secara garis besar.\\n\\nRequirements:\\n\\nMinimum S1 dari jurusan teknologi, teknik informasi (IT), teknik fisika, rekayasa perangkat lunak (software engineering), atau digital marketing.\\n\\nMinimum 5 tahun di bidang digital marketing atau bidang informasi teknologi yang terkait dengan pemasaran digital dan/atau CRM (customer relationship management).\\n\\nMemiliki pengetahuan, pengalaman mengelola, dan keahlian/skill (bukan mandatory) pengembangan/development perangkat lunak yang berhubungan dengan pemasaran digital, platform marketing automation, dan/atau (bukan mandatory) platform CRM (customer relationship management)\\n\\nMemiliki pengalaman dalam penggunaan dan pengelolaan platform marketing automation atau platform marketing campaign sejenis lainnya yang berhubungan dengan pengiriman komunikasi secara direct mailing, seperti (namun tidak terbatas) melalui email, SMS, WhatsApp, apps push notification, dan lain-lain.\\n\\nMemiliki pengalaman dalam project management yang melibatkan kolaborasi dengan tim teknologi informasi (IT), tim IT security, risk management, dan pihak-pihak lain yang terlibat, seperti (namun tidak terbatas) tim compliance, tim legal, regulator, vendor, dan lain-lain.\\n\\nMemiliki pemahaman dan pengalaman dalam keterlibatan implementasi integrasi system data, baik menggunakan sFTP, API, SDK aplikasi, maupun native connector lainnya yang disediakan oleh sebuah platform marketing automation.\\n\\nMemiliki pengalaman menggunakan platform marketing SaaS (software as a service) atau manage service lainnya, mulai dari CMS (content management service), platform\\n\\n\\n\\nmarketing analytic-tracking, platform Google Marketing (analytic & tag manager), dan platform marketing lainnya yang berhubungan dengan digital marketing.'),\n",
       " Document(metadata={'source': 'C:\\\\Users\\\\san\\\\Documents\\\\Documents\\\\OCBC\\\\Github_ocbc_workspace\\\\OCBC_CV_RAG\\\\job_pdf\\\\Marketing Technology Lead.docx'}, page_content='marketing analytic-tracking, platform Google Marketing (analytic & tag manager), dan platform marketing lainnya yang berhubungan dengan digital marketing.\\n\\nMemiliki pengalaman dalam menjalankan pemasaran digital/digital marketing khususnya performance marketing, seperti (namun tidak terbatas) pemasangan iklan digital via Facebook Ads, Google Adsense, dan platform iklan programmatic lainnya.\\n\\nMemiliki pemahaman konten HTML dan formasi library fungsi dan framework Javascript format web (seperti PHP, CSS, dll).')]"
      ]
     },
     "execution_count": 7,
     "metadata": {},
     "output_type": "execute_result"
    }
   ],
   "source": [
    "all_pages"
   ]
  },
  {
   "cell_type": "code",
   "execution_count": 8,
   "metadata": {},
   "outputs": [],
   "source": [
    "all_pages_final = []\n",
    "\n",
    "for doc in all_pages:\n",
    "    filename = doc.metadata.get('source').split('\\\\')[-1]  # Extract the filename\n",
    "    doc.page_content = f\"Filename: {filename}\\n\\n{doc.page_content}\"  # Embed the filename\n",
    "    \n",
    "    all_pages_final.append(doc) "
   ]
  },
  {
   "cell_type": "code",
   "execution_count": 9,
   "metadata": {},
   "outputs": [],
   "source": [
    "pc = Pinecone(api_key=PINECONE_API_KEY)\n",
    "text_splitter = TokenTextSplitter(chunk_size=500, chunk_overlap=200)\n",
    "splits = text_splitter.split_documents(all_pages)"
   ]
  },
  {
   "cell_type": "code",
   "execution_count": 10,
   "metadata": {},
   "outputs": [
    {
     "data": {
      "text/plain": [
       "[Document(metadata={'source': 'C:\\\\Users\\\\san\\\\Documents\\\\Documents\\\\OCBC\\\\Github_ocbc_workspace\\\\OCBC_CV_RAG\\\\job_pdf\\\\JD ON_Software_Engineer 1.docx'}, page_content='Filename: JD ON_Software_Engineer 1.docx\\n\\nJob Description\\n\\nDATA JABATAN :\\n\\nJOB ID OPS540, OPS489, OPS536,OPS519,OPS526 NAMA JABATAN Software Engineer GRUP Operations & Technology REPORT TO POSITION Platform Lead Engineer FUNGSI UTAMA Menjalankan proses development, testing dan release sistem teknologi informasi sesuai dengan pedoman Agile Devops untuk memberikan value bisnis, serta memastikan kualitas deliverables secara konsisten dilaksanakan dengan penuh tanggungjawab\\n\\nTANGGUNG JAWAB/ TUGAS POKOK PEKERJAAN\\n\\nMemastikan penggunaan framework yang telah ditetapkan dalam pelaksanaan project dengan tetap mengacu pada Peraturan OJK sebagai landasan utama.\\n\\nMelaksanakan swakelola dan bekerja lintas fungsi dalam menyelesaikan pekerjaan sesuai backlog yang telah ditentukan.\\n\\nMenghasilkan produk bernilai lebih melalui proses development, testing, dan release yang memadai.\\n\\nBersama-sama membangun lingkaran kepercayaan dan keamanan/kenyamanan tim developer, dan memastikan bahwa masalah dapat diangkat tanpa takut disalahkan atau dibebankan ataupun dihakimi, dengan penekanan pada perbaikan proses dan penyelesaian masalah.\\n\\nMengutamakan diskusi dan kolaborasi dalam, pengambilan keputusan, resolusi konflik dan menyelesaikan pekerjaan tanpa paksaan ataupun penugasan ataupun didikte.\\n\\nMembantu komunikasi internal dan eksternal, meningkatkan transparansi, dan mengkomunikasikan informasi.\\n\\nSecara efektif dan efis'),\n",
       " Document(metadata={'source': 'C:\\\\Users\\\\san\\\\Documents\\\\Documents\\\\OCBC\\\\Github_ocbc_workspace\\\\OCBC_CV_RAG\\\\job_pdf\\\\JD ON_Software_Engineer 1.docx'}, page_content=' membangun lingkaran kepercayaan dan keamanan/kenyamanan tim developer, dan memastikan bahwa masalah dapat diangkat tanpa takut disalahkan atau dibebankan ataupun dihakimi, dengan penekanan pada perbaikan proses dan penyelesaian masalah.\\n\\nMengutamakan diskusi dan kolaborasi dalam, pengambilan keputusan, resolusi konflik dan menyelesaikan pekerjaan tanpa paksaan ataupun penugasan ataupun didikte.\\n\\nMembantu komunikasi internal dan eksternal, meningkatkan transparansi, dan mengkomunikasikan informasi.\\n\\nSecara efektif dan efisien menerapkan pillar, values, event dan artifact yang telah ditetapkan dalam framework pengembangan sistem teknologi informasi.\\n\\nMemastikan pengelolaan risiko (risk identification, risk assessment, risk treatment, & risk evaluation) sudah dilakukan sesuai dgn risk management yg berlaku di Bank.\\n\\nBerfungsi sebagai application  maintenance, untuk menyelesaikan temuan bugs / defect yang dilaporkan baik oleh user, PO maupun yang ditemukan internal squad.\\n\\nMemastikan data dan dokumentasi terkait proses development, testing dan release dibuat dan disimpan secara memadai.\\n\\nMemastikan telah dilaksanakannya segregation of duties dengan tepat dalam proses development, testing dan release.\\n\\nKEWENANGAN\\n\\nSesuai dengan Kewenangan yang dimandatkan berdasarkan Kebijakan/Prosedur Bank, SK/SE Direksi, Surat Kuasa Direksi atau Memo Internal yang berlaku.\\n\\nKUALIFIKASI JABATAN :\\n\\nPendidikan Formal Minimum S1 Teknik Informatika/S'),\n",
       " Document(metadata={'source': 'C:\\\\Users\\\\san\\\\Documents\\\\Documents\\\\OCBC\\\\Github_ocbc_workspace\\\\OCBC_CV_RAG\\\\job_pdf\\\\JD ON_Software_Engineer 1.docx'}, page_content=' untuk menyelesaikan temuan bugs / defect yang dilaporkan baik oleh user, PO maupun yang ditemukan internal squad.\\n\\nMemastikan data dan dokumentasi terkait proses development, testing dan release dibuat dan disimpan secara memadai.\\n\\nMemastikan telah dilaksanakannya segregation of duties dengan tepat dalam proses development, testing dan release.\\n\\nKEWENANGAN\\n\\nSesuai dengan Kewenangan yang dimandatkan berdasarkan Kebijakan/Prosedur Bank, SK/SE Direksi, Surat Kuasa Direksi atau Memo Internal yang berlaku.\\n\\nKUALIFIKASI JABATAN :\\n\\nPendidikan Formal Minimum S1 Teknik Informatika/Sistem Informasi/Teknik Elektro (atau lebih rendah dengan pengalaman) Pengalaman Kerja minimum 1 tahun di bidang IT Programming/Developer atau Fresh Graduate Kompetensi & Budaya Organisasi Competency: Leading courageously Adaptability Building talent Fostering collaboration Risk awareness Customer experience Strategic thinking Core Values: Bring out the best in each other !ntegrity Strive for excellence Act progressively\\n\\nNama Divisi/Tanggal terakhir diperbaharui : Hal 1 dari 1'),\n",
       " Document(metadata={'source': 'C:\\\\Users\\\\san\\\\Documents\\\\Documents\\\\OCBC\\\\Github_ocbc_workspace\\\\OCBC_CV_RAG\\\\job_pdf\\\\Lifestyle Credit Management Specialist.docx'}, page_content='Filename: Lifestyle Credit Management Specialist.docx\\n\\nDATA JABATAN :\\n\\nJOB ID NAMA JABATAN Lifestyle Strategic Merchant Acquisition – Acquiring Business GRUP Retail Banking REPORT TO POSITION Lifestyle Partnership & Portfolio Management Head FUNGSI UTAMA Dapat mengoptimalkan dan implementasi dengan baik terhadap  strategi yang sudah di tetapkan dengan menyelaraskan potensi kerjasama dengan beragam merchant baik dari sisi promosi ataupun mengutilisasi data base konsumen dari merchant untuk menjadi nasabah OCBC NISP.\\n\\nTANGGUNG JAWAB/ TUGAS POKOK PEKERJAAN\\n\\n1. Mengidentifikasi potensial merchant dan membangun kerjasama strategis sesuaikan dengan strategi.\\n\\n2. Memahami portofolio bisnis merchant untuk dapat mempertahankan dan mengembangkan kerjasama dengan partner yang sudah ada dalam upaya membangun ekosistem yang lebih berkesinambungan.\\n\\n4. Kolaborasi dengan beragam unit di OCBC NISP dalam upaya memaksimalkan potensi yang ada. \\n\\n5. Memantau performa merchant dan melakukan review berkala di sertai dengan rencana kerja yang terarah dan terukur untuk memaksimalkan potensi penggunaan di merchant.\\n\\n7. Berkoordinasi dengan tim Manajemen Risiko mengenai pengendalian risiko Merchant Acquiring Business\\n\\n8. Memastikan kelengkapan kerja sama/Confirmation letter dan koordinasi dengan unit terkait sudah di jalankan dengan baik agar performa yang di harapkan dapat lebih optimal\\n\\n9. Memitigasi potensi keluhan nasabah dengan cara memastikan semua komunikasi yang di berikan jelas dan sudah mencakup semua aspek ke'),\n",
       " Document(metadata={'source': 'C:\\\\Users\\\\san\\\\Documents\\\\Documents\\\\OCBC\\\\Github_ocbc_workspace\\\\OCBC_CV_RAG\\\\job_pdf\\\\Lifestyle Credit Management Specialist.docx'}, page_content=' \\n\\n5. Memantau performa merchant dan melakukan review berkala di sertai dengan rencana kerja yang terarah dan terukur untuk memaksimalkan potensi penggunaan di merchant.\\n\\n7. Berkoordinasi dengan tim Manajemen Risiko mengenai pengendalian risiko Merchant Acquiring Business\\n\\n8. Memastikan kelengkapan kerja sama/Confirmation letter dan koordinasi dengan unit terkait sudah di jalankan dengan baik agar performa yang di harapkan dapat lebih optimal\\n\\n9. Memitigasi potensi keluhan nasabah dengan cara memastikan semua komunikasi yang di berikan jelas dan sudah mencakup semua aspek kebutuhan nasabah  \\n\\nKUALIFIKASI JABATAN :\\n\\nMin. S1 dari berbagai jurusan\\n\\nMin 3-4 tahun pengalaman diindustri perbankan\\n\\nMemiliki pengetahuan, pengalaman dan pemahaman yang baik di Bisnis Acquiring kartu kredit dan KTA\\n\\nMemiliki skill komunikasi dan presentasi yang baik\\n\\nMampu berkolaborasi dengan team yang terlibat\\n\\nMemiliki pengetahuan yang baik mengenai budgeting, proses dan kebijakan kredit, system implementasi.'),\n",
       " Document(metadata={'source': 'C:\\\\Users\\\\san\\\\Documents\\\\Documents\\\\OCBC\\\\Github_ocbc_workspace\\\\OCBC_CV_RAG\\\\job_pdf\\\\Lifestyle Portfolio Credit Card Specialist.docx'}, page_content='Filename: Lifestyle Portfolio Credit Card Specialist.docx\\n\\nJob Description\\n\\nLifestyle Portfolio Specialist \\n\\nJob Description: \\n\\nMeningkatkan jumlah nasabah aktif bertransaksi, meningkatkan rata rata penggunaan dan memaksimalkan potensi berdasarkan katagori segmentasi nasabah.\\n\\nTo Increase number of active customers in making transactions, increase average usage and maximize potential based on customer segmentation categories.\\n\\nMengedukasi dan memaksimalkan potensi penggunaan bagi nasabah aktif dengan mengkolaborasikan penawaran dari portfolio dengan penawaran partnership yang di sesuaikan berdasarkan data historis penggunaan nasabah.\\n\\nMengoptimalkan program kenaikan limit - CLI (Credit Limit Increase) untuk memitigasi berkurangnya potensi penggunaan.\\n\\nSecara berkala melakukan inisiatif “upgrade” kartu bagi nasabah yg berpotensi sehingga rata rata penggunaan nasabah tersebut dapat di maksimalkan.\\n\\nMemastikan semua keluhan dan permintaan nasabah terkait program portfolio diselesaikan tepat waktu dan sesuai ketentuan yang berlaku.\\n\\nBerkoordinasi dengan unit-unit terkait (Operation, Risk, IT, BPM, ADM, dll) dalam memberikan usulan-usulan pengembangan program/inisiatif baru dan proses baru untuk menjaga performance nasabah, dengan melakukan identifikasi atas kendala kendala yang terjadi di lapangan.\\n\\nRequirements: \\n\\nMinimum S1 dari berbagai jurusan\\n\\nMemiliki latar belakang pekerjaan di bidang Portfolio, Risk atau Data Analysis min 3 tahun\\n\\nMemiliki analytical thinking yang baik dan resilient\\n\\nKomunikasi skill yang baik dalam'),\n",
       " Document(metadata={'source': 'C:\\\\Users\\\\san\\\\Documents\\\\Documents\\\\OCBC\\\\Github_ocbc_workspace\\\\OCBC_CV_RAG\\\\job_pdf\\\\Lifestyle Portfolio Credit Card Specialist.docx'}, page_content='ah terkait program portfolio diselesaikan tepat waktu dan sesuai ketentuan yang berlaku.\\n\\nBerkoordinasi dengan unit-unit terkait (Operation, Risk, IT, BPM, ADM, dll) dalam memberikan usulan-usulan pengembangan program/inisiatif baru dan proses baru untuk menjaga performance nasabah, dengan melakukan identifikasi atas kendala kendala yang terjadi di lapangan.\\n\\nRequirements: \\n\\nMinimum S1 dari berbagai jurusan\\n\\nMemiliki latar belakang pekerjaan di bidang Portfolio, Risk atau Data Analysis min 3 tahun\\n\\nMemiliki analytical thinking yang baik dan resilient\\n\\nKomunikasi skill yang baik dalam berkoordinasi dengan tim dan diluar tim\\n\\nNama Divisi/Tgl terkahir diperbaharui: Customer Solutions Retail Loan Division/23 Maret 2021 Hal 1 dari 1'),\n",
       " Document(metadata={'source': 'C:\\\\Users\\\\san\\\\Documents\\\\Documents\\\\OCBC\\\\Github_ocbc_workspace\\\\OCBC_CV_RAG\\\\job_pdf\\\\Lifestyle Strategic Merchant Acquisition - Acquiring Business.docx'}, page_content='Filename: Lifestyle Strategic Merchant Acquisition - Acquiring Business.docx\\n\\nDATA JABATAN :\\n\\nJOB ID NAMA JABATAN Lifestyle Strategic Merchant Acquisition – Acquiring Business GRUP Retail Banking REPORT TO POSITION Lifestyle Partnership & Portfolio Management Head FUNGSI UTAMA Dapat mengoptimalkan dan implementasi dengan baik terhadap  strategi yang sudah di tetapkan dengan menyelaraskan potensi kerjasama dengan beragam merchant baik dari sisi promosi ataupun mengutilisasi data base konsumen dari merchant untuk menjadi nasabah OCBC NISP.\\n\\nTANGGUNG JAWAB/ TUGAS POKOK PEKERJAAN\\n\\n1. Mengidentifikasi potensial merchant dan membangun kerjasama strategis sesuaikan dengan strategi.\\n\\n2. Memahami portofolio bisnis merchant untuk dapat mempertahankan dan mengembangkan kerjasama dengan partner yang sudah ada dalam upaya membangun ekosistem yang lebih berkesinambungan.\\n\\n4. Kolaborasi dengan beragam unit di OCBC NISP dalam upaya memaksimalkan potensi yang ada. \\n\\n5. Memantau performa merchant dan melakukan review berkala di sertai dengan rencana kerja yang terarah dan terukur untuk memaksimalkan potensi penggunaan di merchant.\\n\\n7. Berkoordinasi dengan tim Manajemen Risiko mengenai pengendalian risiko Merchant Acquiring Business\\n\\n8. Memastikan kelengkapan kerja sama/Confirmation letter dan koordinasi dengan unit terkait sudah di jalankan dengan baik agar performa yang di harapkan dapat lebih optimal\\n\\n9. Memitigasi potensi keluhan nasabah dengan cara memastikan semua komunikasi yang di berikan jelas dan sudah mencakup semua'),\n",
       " Document(metadata={'source': 'C:\\\\Users\\\\san\\\\Documents\\\\Documents\\\\OCBC\\\\Github_ocbc_workspace\\\\OCBC_CV_RAG\\\\job_pdf\\\\Lifestyle Strategic Merchant Acquisition - Acquiring Business.docx'}, page_content='ang ada. \\n\\n5. Memantau performa merchant dan melakukan review berkala di sertai dengan rencana kerja yang terarah dan terukur untuk memaksimalkan potensi penggunaan di merchant.\\n\\n7. Berkoordinasi dengan tim Manajemen Risiko mengenai pengendalian risiko Merchant Acquiring Business\\n\\n8. Memastikan kelengkapan kerja sama/Confirmation letter dan koordinasi dengan unit terkait sudah di jalankan dengan baik agar performa yang di harapkan dapat lebih optimal\\n\\n9. Memitigasi potensi keluhan nasabah dengan cara memastikan semua komunikasi yang di berikan jelas dan sudah mencakup semua aspek kebutuhan nasabah  \\n\\nKUALIFIKASI JABATAN :\\n\\nMin. S1 dari berbagai jurusan\\n\\nMin. 3-4 tahun pengalaman dalam bidang bisnis acquiring kartu kredit dan KTA\\n\\nMemiliki pengetahuan dan pemahaman yang baik dalam bisnis acquiring kartu kredit dan KTA\\n\\nMemiliki pengalaman dalam bisnis acquiring\\n\\nMemiliki skill komunikasi dan presentasi\\n\\nMampu berkolaborasi dengan team yang terkait'),\n",
       " Document(metadata={'source': 'C:\\\\Users\\\\san\\\\Documents\\\\Documents\\\\OCBC\\\\Github_ocbc_workspace\\\\OCBC_CV_RAG\\\\job_pdf\\\\Marketing Technology Lead.docx'}, page_content='Filename: Marketing Technology Lead.docx\\n\\nNama Posisi\\xa0\\xa0\\xa0\\xa0\\xa0\\xa0 : Marketing Technology Lead – Marketing Automation Product Manager\\n\\nDivisi\\xa0\\xa0\\xa0\\xa0\\xa0\\xa0\\xa0\\xa0\\xa0\\xa0\\xa0\\xa0\\xa0\\xa0\\xa0\\xa0\\xa0\\xa0 : Marketing & Lifestyle Business \\n\\nLocation \\xa0\\xa0\\xa0\\xa0\\xa0\\xa0\\xa0\\xa0\\xa0\\xa0\\xa0\\xa0 : Tangerang – BSD \\n\\nJob Descriptions: \\n\\nBertanggung jawab atas penggunaan platform marketing automation serta platform marketing yang terkait lainnya secara menyeluruh, termasuk (namun tidak terbatas) dari awal pengadaan, pembaruan kontrak (dengan pihak ketiga seperti vendor), pengembangan atau perbaikan dengan pelibatan bersama tim IT, hingga memastikan adanya optimasi penggunaan budget sesuai dengan yang dialokasikan.\\n\\nBertanggung jawab sebagai pemimpin serta pemandu tim marketing technology dalam menggunakan platform marketing automation dan platform marketing yang terkait lainnya sehingga bisa memastikan agar utilisasinya berfungsi dengan baik serta maksimal untuk mendukung pencapaian target & KPI department marketing & lifestyle business secara khusus & bank secara garis besar.\\n\\nBertanggung jawab sebagai jembatan koordinasi tim marketing technology dan bermitra dengan unit kerja terkait, seperti (namun tidak terbatas) dengan tim IT, tim IT security, tim risk management, dan lain-lain sehingga upaya penggunaan platform marketing technology yang digunakan bisa digunakan semaksimal mungkin untuk mendukung pencapaian & pertumbuhan bisnis bank.\\n\\nBertanggung jawab pada setiap jalannya proyek pengadaan, perbaikan, & pengembangan platform marketing technology baik sifatnya diminta, regular/BAU (business as usual), maupun inisiatif, yaitu dengan memastikan agar setiap proyek tersebut harus'),\n",
       " Document(metadata={'source': 'C:\\\\Users\\\\san\\\\Documents\\\\Documents\\\\OCBC\\\\Github_ocbc_workspace\\\\OCBC_CV_RAG\\\\job_pdf\\\\Marketing Technology Lead.docx'}, page_content='\\nBertanggung jawab sebagai jembatan koordinasi tim marketing technology dan bermitra dengan unit kerja terkait, seperti (namun tidak terbatas) dengan tim IT, tim IT security, tim risk management, dan lain-lain sehingga upaya penggunaan platform marketing technology yang digunakan bisa digunakan semaksimal mungkin untuk mendukung pencapaian & pertumbuhan bisnis bank.\\n\\nBertanggung jawab pada setiap jalannya proyek pengadaan, perbaikan, & pengembangan platform marketing technology baik sifatnya diminta, regular/BAU (business as usual), maupun inisiatif, yaitu dengan memastikan agar setiap proyek tersebut harus dijalankan sesuai spesifikasi, biaya/budget, tepat waktu, tepat guna & tepat sasaran atas target yang diberikan/ditentukan/disepakati bersama.\\n\\nBertanggung jawab pada setiap inovasi pada platform marketing technology yang digunakan sehingga dapat digunakan untuk meningkatkan efisiensi tim pemasaran, yaitu dengan terus mengikuti, mengadaptasi serta menguji teknologi-teknologi baru tersebut, lalu dibangun dan digunakan untuk mendukung pencapaian target department marketing & lifestyle business secara khusus dan pertumbuhan bisnis bank secara garis besar.\\n\\nRequirements:\\n\\nMinimum S1 dari jurusan teknologi, teknik informasi (IT), teknik fisika, rekayasa perangkat lunak (software engineering), atau digital marketing.\\n\\nMinimum 5 tahun di bidang digital marketing atau bidang informasi teknologi yang terkait dengan pemasaran digital dan/atau CRM (customer relationship management).\\n\\nMem'),\n",
       " Document(metadata={'source': 'C:\\\\Users\\\\san\\\\Documents\\\\Documents\\\\OCBC\\\\Github_ocbc_workspace\\\\OCBC_CV_RAG\\\\job_pdf\\\\Marketing Technology Lead.docx'}, page_content='uk meningkatkan efisiensi tim pemasaran, yaitu dengan terus mengikuti, mengadaptasi serta menguji teknologi-teknologi baru tersebut, lalu dibangun dan digunakan untuk mendukung pencapaian target department marketing & lifestyle business secara khusus dan pertumbuhan bisnis bank secara garis besar.\\n\\nRequirements:\\n\\nMinimum S1 dari jurusan teknologi, teknik informasi (IT), teknik fisika, rekayasa perangkat lunak (software engineering), atau digital marketing.\\n\\nMinimum 5 tahun di bidang digital marketing atau bidang informasi teknologi yang terkait dengan pemasaran digital dan/atau CRM (customer relationship management).\\n\\nMemiliki pengetahuan, pengalaman mengelola, dan keahlian/skill (bukan mandatory) pengembangan/development perangkat lunak yang berhubungan dengan pemasaran digital, platform marketing automation, dan/atau (bukan mandatory) platform CRM (customer relationship management)\\n\\nMemiliki pengalaman dalam penggunaan dan pengelolaan platform marketing automation atau platform marketing campaign sejenis lainnya yang berhubungan dengan pengiriman komunikasi secara direct mailing, seperti (namun tidak terbatas) melalui email, SMS, WhatsApp, apps push notification, dan lain-lain.\\n\\nMemiliki pengalaman dalam project management yang melibatkan kolaborasi dengan tim teknologi informasi (IT), tim IT security, risk management, dan pihak-pihak lain yang terlibat, seperti (namun tidak terbatas) tim compliance, tim legal, regulator, vendor, dan lain-lain.\\n\\nMemiliki pemahaman dan pengalaman dalam keterlibatan implementasi integrasi system data, baik menggunakan sFTP, API, SDK aplikasi, maupun'),\n",
       " Document(metadata={'source': 'C:\\\\Users\\\\san\\\\Documents\\\\Documents\\\\OCBC\\\\Github_ocbc_workspace\\\\OCBC_CV_RAG\\\\job_pdf\\\\Marketing Technology Lead.docx'}, page_content='au platform marketing campaign sejenis lainnya yang berhubungan dengan pengiriman komunikasi secara direct mailing, seperti (namun tidak terbatas) melalui email, SMS, WhatsApp, apps push notification, dan lain-lain.\\n\\nMemiliki pengalaman dalam project management yang melibatkan kolaborasi dengan tim teknologi informasi (IT), tim IT security, risk management, dan pihak-pihak lain yang terlibat, seperti (namun tidak terbatas) tim compliance, tim legal, regulator, vendor, dan lain-lain.\\n\\nMemiliki pemahaman dan pengalaman dalam keterlibatan implementasi integrasi system data, baik menggunakan sFTP, API, SDK aplikasi, maupun native connector lainnya yang disediakan oleh sebuah platform marketing automation.\\n\\nMemiliki pengalaman menggunakan platform marketing SaaS (software as a service) atau manage service lainnya, mulai dari CMS (content management service), platform\\n\\n\\n\\nmarketing analytic-tracking, platform Google Marketing (analytic & tag manager), dan platform marketing lainnya yang berhubungan dengan digital marketing.'),\n",
       " Document(metadata={'source': 'C:\\\\Users\\\\san\\\\Documents\\\\Documents\\\\OCBC\\\\Github_ocbc_workspace\\\\OCBC_CV_RAG\\\\job_pdf\\\\Marketing Technology Lead.docx'}, page_content='Filename: Marketing Technology Lead.docx\\n\\nmarketing analytic-tracking, platform Google Marketing (analytic & tag manager), dan platform marketing lainnya yang berhubungan dengan digital marketing.\\n\\nMemiliki pengalaman dalam menjalankan pemasaran digital/digital marketing khususnya performance marketing, seperti (namun tidak terbatas) pemasangan iklan digital via Facebook Ads, Google Adsense, dan platform iklan programmatic lainnya.\\n\\nMemiliki pemahaman konten HTML dan formasi library fungsi dan framework Javascript format web (seperti PHP, CSS, dll).')]"
      ]
     },
     "execution_count": 10,
     "metadata": {},
     "output_type": "execute_result"
    }
   ],
   "source": [
    "splits"
   ]
  },
  {
   "cell_type": "code",
   "execution_count": 11,
   "metadata": {},
   "outputs": [
    {
     "data": {
      "text/plain": [
       "['ec61e95b-ee4a-4d4d-b55b-a3bcde3147ac',\n",
       " '46543571-875c-41ed-acec-626fee61898e',\n",
       " 'e3df8c90-fb2e-4603-9e90-7eebd603ace7',\n",
       " '98cc7ca3-c0a3-4e2f-89d3-6036ed05583a',\n",
       " 'ba78cb09-72b7-4f8e-aa2d-4cc8dcb92a12',\n",
       " 'b83c20bb-758c-4f52-ba2f-b5eaa2500fb1',\n",
       " '075f426c-ec39-4bd5-a63f-9c4b282baa35',\n",
       " '4596dfbd-20da-4b3b-a949-331f1245d9c5',\n",
       " '228b34c6-a9db-41de-8616-131c5decc895',\n",
       " 'ba09be68-1c02-4f17-83a1-aaee9797dbf3',\n",
       " '8543091f-00ed-4b67-85a6-34390a431935',\n",
       " '8a06bdc8-ef44-437e-a5cd-4923b2ddd33c',\n",
       " '552f7379-68b6-4d65-86aa-540a33157de8',\n",
       " '1f069825-6dbf-40b1-acff-6eab26a004c4']"
      ]
     },
     "execution_count": 11,
     "metadata": {},
     "output_type": "execute_result"
    }
   ],
   "source": [
    "pc = Pinecone(api_key=PINECONE_API_KEY)\n",
    "text_splitter = RecursiveCharacterTextSplitter(chunk_size=1000, chunk_overlap=200)\n",
    "vector_store = PineconeVectorStore(index=index, embedding=embedding_llm)\n",
    "vector_store.add_documents(documents=splits)"
   ]
  },
  {
   "cell_type": "code",
   "execution_count": null,
   "metadata": {},
   "outputs": [],
   "source": []
  },
  {
   "cell_type": "code",
   "execution_count": null,
   "metadata": {},
   "outputs": [],
   "source": []
  }
 ],
 "metadata": {
  "kernelspec": {
   "display_name": "new_env",
   "language": "python",
   "name": "python3"
  },
  "language_info": {
   "codemirror_mode": {
    "name": "ipython",
    "version": 3
   },
   "file_extension": ".py",
   "mimetype": "text/x-python",
   "name": "python",
   "nbconvert_exporter": "python",
   "pygments_lexer": "ipython3",
   "version": "3.9.19"
  }
 },
 "nbformat": 4,
 "nbformat_minor": 2
}
